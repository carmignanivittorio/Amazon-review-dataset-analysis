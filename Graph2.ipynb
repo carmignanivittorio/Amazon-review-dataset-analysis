{
 "cells": [
  {
   "cell_type": "markdown",
   "metadata": {},
   "source": [
    "# Part II: Network analysis\n",
    "\n",
    "In this section we are going to anlyse three networks, specifically:\n",
    "##### Bipartite Customers-Products network \n",
    "Nodes: each node corresponds to a product or a customer. Product nodes have the properties: category and title.\n",
    "Edges: each edge connects a customer to a product if the customers has reviewed that product. The weight is equal to the rate. Edges have the verified property. \n",
    "##### Customers network\n",
    "Nodes: each node corresponds to a customer. \n",
    "Edges: each edge connects two customer if they have bought at least one common product. The weight is equal to the number of common product divided by the rates difference.\n",
    "##### Products network\n",
    "Nodes: each node corresponds to a product. Nodes have the properties: category and title. \n",
    "Edges: each edge connect to product which have at least one customer in common who has review both. The weight is equal to number of different common customers."
   ]
  },
  {
   "cell_type": "markdown",
   "metadata": {},
   "source": [
    "## Preliminaries \n",
    "\n",
    "#### Importing libraries\n",
    "In the code below we import all the libraries needed to execute the notebook."
   ]
  },
  {
   "cell_type": "code",
   "execution_count": 1,
   "metadata": {},
   "outputs": [],
   "source": [
    "import re\n",
    "from os import listdir\n",
    "import networkx as nx\n",
    "import numpy as np\n",
    "import pandas as pd\n",
    "import pickle\n",
    "import matplotlib.pylab as plt\n",
    "from matplotlib import rcParams"
   ]
  },
  {
   "cell_type": "markdown",
   "metadata": {},
   "source": [
    "### Loading files to create network aftewards\n",
    "In the code below we define the path which has to be used to load pickle files needed for the network analysis. "
   ]
  },
  {
   "cell_type": "code",
   "execution_count": 2,
   "metadata": {},
   "outputs": [],
   "source": [
    "PATH_DATA = \"../../Files/\"\n",
    "df_no_text = pd.read_pickle(\"%sAmazonDataProjectNoText.pkl\" % PATH_DATA)"
   ]
  },
  {
   "cell_type": "code",
   "execution_count": 3,
   "metadata": {},
   "outputs": [],
   "source": [
    "with open('%scustomersDict.pickle' %PATH_DATA, 'rb') as handleC:\n",
    "    customersDict = pickle.load(handleC)"
   ]
  },
  {
   "cell_type": "code",
   "execution_count": 4,
   "metadata": {},
   "outputs": [],
   "source": [
    "with open('%sproductsDict.pickle' %PATH_DATA, 'rb') as handleP:\n",
    "    productsDict = pickle.load(handleP)"
   ]
  },
  {
   "cell_type": "markdown",
   "metadata": {},
   "source": [
    "## Customers-Products network \n",
    "\n",
    "### Network creation\n",
    "- Loading reviews file\n",
    "- Customers-Products bipartite network creation\n",
    "- Writing pickle file to store the Customers-Products network"
   ]
  },
  {
   "cell_type": "code",
   "execution_count": 9,
   "metadata": {
    "collapsed": true
   },
   "outputs": [],
   "source": [
    "gCP = nx.Graph()"
   ]
  },
  {
   "cell_type": "code",
   "execution_count": 10,
   "metadata": {
    "collapsed": true,
    "scrolled": true
   },
   "outputs": [],
   "source": [
    "for index, row in df_no_text.iterrows():\n",
    "    gCP.add_node(row.customer_id, isCust = True)\n",
    "    gCP.add_node(row.product_id, isCust = False, title = row.product_title, cat = row.product_category)\n",
    "    gCP.add_edge(row.customer_id, row.product_id, weight = row.star_rating, verify = row.verified_purchase, date = row.review_date, id_rew = index)"
   ]
  },
  {
   "cell_type": "code",
   "execution_count": null,
   "metadata": {
    "collapsed": true
   },
   "outputs": [],
   "source": [
    "nx.write_gpickle(gCP, \"%srawNetwork.gpickle\" %PATH_DATA)"
   ]
  },
  {
   "cell_type": "markdown",
   "metadata": {},
   "source": [
    "Loading the network from pickle file"
   ]
  },
  {
   "cell_type": "code",
   "execution_count": 5,
   "metadata": {},
   "outputs": [],
   "source": [
    "gCP = nx.read_gpickle(\"%srawNetwork.gpickle\" %PATH_DATA)"
   ]
  },
  {
   "cell_type": "markdown",
   "metadata": {},
   "source": [
    "### First Customers-Products analysis \n",
    "\n",
    "#### Basic stats\n",
    "- Nodes number\n",
    "- Edges number\n",
    "- Degree distribution\n",
    "\n",
    "First of all, look at the network dimension."
   ]
  },
  {
   "cell_type": "code",
   "execution_count": 6,
   "metadata": {},
   "outputs": [
    {
     "name": "stdout",
     "output_type": "stream",
     "text": [
      "The number of nodes is: 994498\n",
      "The number of edges is: 1704565\n"
     ]
    }
   ],
   "source": [
    "print(\"The number of nodes is: %d\" %(len(gCP.nodes())))\n",
    "print(\"The number of edges is: %d\" %(len(gCP.edges())))"
   ]
  },
  {
   "cell_type": "markdown",
   "metadata": {},
   "source": [
    "Now look at the degree distribution."
   ]
  },
  {
   "cell_type": "code",
   "execution_count": 14,
   "metadata": {},
   "outputs": [
    {
     "name": "stdout",
     "output_type": "stream",
     "text": [
      "Max degree = 7723\n",
      "Min degree = 1\n"
     ]
    },
    {
     "data": {
      "image/png": "[encoded data removed]",
      "text/plain": [
       "<Figure size 1080x360 with 1 Axes>"
      ]
     },
     "metadata": {
      "needs_background": "light"
     },
     "output_type": "display_data"
    },
    {
     "data": {
      "image/png": "[encoded data removed]",
      "text/plain": [
       "<Figure size 1080x360 with 1 Axes>"
      ]
     },
     "metadata": {
      "needs_background": "light"
     },
     "output_type": "display_data"
    }
   ],
   "source": [
    "# Degree distribution with plot\n",
    "degrees = list()\n",
    "for i in gCP:\n",
    "    degrees.append(gCP.degree(i))\n",
    "print(\"Max degree = \" + str(max(degrees)))\n",
    "print(\"Min degree = \" + str(min(degrees)))\n",
    "\n",
    "v, b = np.histogram(degrees, max(degrees))\n",
    "v = np.append(v, 0)\n",
    "plt.rcParams['figure.figsize'] = [15, 5]\n",
    "plt.title('Degree distribution linear')\n",
    "plt.xlabel('k')\n",
    "plt.ylabel('Count')\n",
    "plt.plot(b, v, 'b.', markersize = 3)\n",
    "plt.show()\n",
    "plt.title('Degree distribution log')\n",
    "plt.xlabel('k')\n",
    "plt.ylabel('Count')\n",
    "plt.xscale('log')\n",
    "plt.yscale('log')\n",
    "plt.plot(b, v, 'bo', markersize = 3)\n",
    "plt.show()"
   ]
  },
  {
   "cell_type": "markdown",
   "metadata": {},
   "source": [
    "#### Friendship paradox\n",
    "Since from the degree distribution it seems to be free scale network, it is interesting to see if it respects the firenship paradox. "
   ]
  },
  {
   "cell_type": "code",
   "execution_count": 17,
   "metadata": {},
   "outputs": [],
   "source": [
    "# Friendship paradox\n",
    "isTrue = 0\n",
    "for node in gCP.nodes():\n",
    "    if nx.average_neighbor_degree(gCP, nodes = [node])[node] > gCP.degree(node):\n",
    "        isTrue += 1"
   ]
  },
  {
   "cell_type": "code",
   "execution_count": 22,
   "metadata": {},
   "outputs": [
    {
     "name": "stdout",
     "output_type": "stream",
     "text": [
      "The friendship paradox was true for 953233 times out of 994498, which corresponds to the 95.00 per cent.\n"
     ]
    }
   ],
   "source": [
    "print(\"The friendship paradox was true for %d times out of %d, which corresponds to the %.2f per cent.\" %(isTrue, len(gCP.nodes()), float(100 * isTrue / len(gCP.nodes()))))"
   ]
  },
  {
   "cell_type": "markdown",
   "metadata": {},
   "source": [
    "Writing about friendship paradox......"
   ]
  },
  {
   "cell_type": "markdown",
   "metadata": {},
   "source": [
    "#### Analyse only one category\n",
    "Since the network is huge we will create the subgraph associated to the biggest category."
   ]
  },
  {
   "cell_type": "code",
   "execution_count": 24,
   "metadata": {
    "scrolled": true
   },
   "outputs": [
    {
     "data": {
      "text/plain": [
       "product_category\n",
       "Video DVD                 463178\n",
       "Music                     329854\n",
       "Digital_Ebook_Purchase    289111\n",
       "Books                     257793\n",
       "Mobile_Apps               218031\n",
       "Digital_Video_Download     31420\n",
       "Digital_Music_Purchase     29263\n",
       "Toys                       24493\n",
       "PC                         16258\n",
       "Camera                      6427\n",
       "dtype: int64"
      ]
     },
     "execution_count": 24,
     "metadata": {},
     "output_type": "execute_result"
    }
   ],
   "source": [
    "# find the top XX categories, build the related network and plot it.\n",
    "df_no_text.groupby(\"product_category\").size().sort_values(ascending = False)[:10]"
   ]
  },
  {
   "cell_type": "markdown",
   "metadata": {},
   "source": [
    "The category with more reviews is Video DVD which has 463178 reviews. Therefore, now we build the subgraph based on this category."
   ]
  },
  {
   "cell_type": "code",
   "execution_count": 38,
   "metadata": {
    "scrolled": true
   },
   "outputs": [
    {
     "name": "stdout",
     "output_type": "stream",
     "text": [
      "10000/463178\n",
      "20000/463178\n",
      "30000/463178\n",
      "40000/463178\n",
      "50000/463178\n",
      "60000/463178\n",
      "70000/463178\n",
      "80000/463178\n",
      "90000/463178\n",
      "100000/463178\n",
      "110000/463178\n",
      "120000/463178\n",
      "130000/463178\n",
      "140000/463178\n",
      "150000/463178\n",
      "160000/463178\n",
      "170000/463178\n",
      "180000/463178\n",
      "190000/463178\n",
      "200000/463178\n",
      "210000/463178\n",
      "220000/463178\n",
      "230000/463178\n",
      "240000/463178\n",
      "250000/463178\n",
      "260000/463178\n",
      "270000/463178\n",
      "280000/463178\n",
      "290000/463178\n",
      "300000/463178\n",
      "310000/463178\n",
      "320000/463178\n",
      "330000/463178\n",
      "340000/463178\n",
      "350000/463178\n",
      "360000/463178\n",
      "370000/463178\n",
      "380000/463178\n",
      "390000/463178\n",
      "400000/463178\n",
      "410000/463178\n",
      "420000/463178\n",
      "430000/463178\n",
      "440000/463178\n",
      "450000/463178\n",
      "460000/463178\n"
     ]
    }
   ],
   "source": [
    "#Create the subgraph composed by the category with more reviews.\n",
    "gCPTop = nx.Graph()\n",
    "count = 1\n",
    "for re in df_no_text[df_no_text.product_category == \"Video DVD\"].index:\n",
    "    if count % 10000 == 0:\n",
    "        print(\"%d/463178\" %(count))\n",
    "    count += 1\n",
    "    gCPTop.add_node(df_no_text.loc[re].product_id, isCust = False)\n",
    "    gCPTop.add_node(df_no_text.loc[re].customer_id, isCust = True)\n",
    "    gCPTop.add_edge(df_no_text.loc[re].product_id, df_no_text.loc[re].customer_id)"
   ]
  },
  {
   "cell_type": "code",
   "execution_count": 39,
   "metadata": {},
   "outputs": [],
   "source": [
    "nx.write_gpickle(gCPTop, \"%stopCategoryNetwork.gpickle\" %PATH_DATA)"
   ]
  },
  {
   "cell_type": "code",
   "execution_count": 40,
   "metadata": {},
   "outputs": [
    {
     "name": "stdout",
     "output_type": "stream",
     "text": [
      "The number of nodes is: 264632\n",
      "The number of edges is: 462866\n"
     ]
    }
   ],
   "source": [
    "print(\"The number of nodes is: %d\" %(len(gCPTop.nodes())))\n",
    "print(\"The number of edges is: %d\" %(len(gCPTop.edges())))"
   ]
  },
  {
   "cell_type": "markdown",
   "metadata": {},
   "source": [
    "There are less edges than reviews because some customers has reviewed the same product more times. "
   ]
  },
  {
   "cell_type": "markdown",
   "metadata": {},
   "source": [
    "#### Degree distribution\n",
    "Look if the degree distribution reflects the previous one."
   ]
  },
  {
   "cell_type": "code",
   "execution_count": 49,
   "metadata": {},
   "outputs": [
    {
     "name": "stdout",
     "output_type": "stream",
     "text": [
      "Max degree = 3783\n",
      "Min degree = 1\n"
     ]
    },
    {
     "data": {
      "image/png": "[encoded data removed]",
      "text/plain": [
       "<Figure size 1080x360 with 1 Axes>"
      ]
     },
     "metadata": {
      "needs_background": "light"
     },
     "output_type": "display_data"
    },
    {
     "data": {
      "image/png": "[encoded data removed]",
      "text/plain": [
       "<Figure size 1080x360 with 1 Axes>"
      ]
     },
     "metadata": {
      "needs_background": "light"
     },
     "output_type": "display_data"
    }
   ],
   "source": [
    "# Degree distribution with plot\n",
    "degreesTop = list()\n",
    "for i in gCPTop:\n",
    "    degreesTop.append(gCPTop.degree(i))\n",
    "print(\"Max degree = \" + str(max(degreesTop)))\n",
    "print(\"Min degree = \" + str(min(degreesTop)))\n",
    "\n",
    "v, b = np.histogram(degreesTop, max(degreesTop))\n",
    "v = np.append(v, 0)\n",
    "plt.rcParams['figure.figsize'] = [15, 5]\n",
    "plt.title('Degree distribution linear')\n",
    "plt.xlabel('k')\n",
    "plt.ylabel('Count')\n",
    "plt.plot(b, v, 'b.', markersize = 3)\n",
    "plt.show()\n",
    "plt.title('Degree distribution log')\n",
    "plt.xlabel('k')\n",
    "plt.ylabel('Count')\n",
    "plt.xscale('log')\n",
    "plt.yscale('log')\n",
    "plt.plot(b, v, 'bo', markersize = 3)\n",
    "plt.show()"
   ]
  },
  {
   "cell_type": "markdown",
   "metadata": {},
   "source": [
    "Yes it reflects, therefore look again at firendship paradox."
   ]
  },
  {
   "cell_type": "code",
   "execution_count": 51,
   "metadata": {},
   "outputs": [],
   "source": [
    "# Friendship paradox\n",
    "isTrue = 0\n",
    "for node in gCPTop.nodes():\n",
    "    if nx.average_neighbor_degree(gCPTop, nodes = [node])[node] > gCPTop.degree(node):\n",
    "        isTrue += 1"
   ]
  },
  {
   "cell_type": "code",
   "execution_count": 52,
   "metadata": {},
   "outputs": [
    {
     "name": "stdout",
     "output_type": "stream",
     "text": [
      "The friendship paradox was true for 255480 times out of 264632, which corresponds to the 96.00 per cent.\n"
     ]
    }
   ],
   "source": [
    "print(\"The friendship paradox was true for %d times out of %d, which corresponds to the %.2f per cent.\" %(isTrue, len(gCPTop.nodes()), float(100 * isTrue / len(gCPTop.nodes()))))"
   ]
  },
  {
   "cell_type": "markdown",
   "metadata": {},
   "source": [
    "### Conclusion\n",
    "Conclsion concerning the Customers-Products network."
   ]
  },
  {
   "cell_type": "markdown",
   "metadata": {},
   "source": [
    "## Projections\n",
    "Now we will study the products and customer networks which are the projections of the bipartite one."
   ]
  },
  {
   "cell_type": "markdown",
   "metadata": {},
   "source": [
    "## Customers network \n",
    "Since the network is huge, it requires too much time to compute the whole Customers network. Consequently, we have decided to create the network of the middle-5 products, this means that we have not considered 10 products which have a medium number of reviews. \n",
    "### Network creation\n",
    "- Network computation\n",
    "- Writing pickle file to store the network"
   ]
  },
  {
   "cell_type": "markdown",
   "metadata": {
    "collapsed": true
   },
   "source": [
    "First of all, look the top-sale products."
   ]
  },
  {
   "cell_type": "code",
   "execution_count": 53,
   "metadata": {
    "scrolled": true
   },
   "outputs": [
    {
     "name": "stdout",
     "output_type": "stream",
     "text": [
      "58618\n"
     ]
    },
    {
     "data": {
      "text/plain": [
       "product_id\n",
       "B00FAPF5U0    7723\n",
       "B008D30K7E    7638\n",
       "B007ZXK08C    7273\n",
       "B00E8KLWB4    6589\n",
       "B00NOPQU2K    6307\n",
       "B00QW8TYWO    5992\n",
       "B007Z8ZKS2    5356\n",
       "B00DJFIMW6    5311\n",
       "B007L3BMGA    4863\n",
       "B00YN6XHMU    4306\n",
       "B00992CF6W    4263\n",
       "B00I8Q77Y0    4260\n",
       "B00DUGCLY4    4127\n",
       "0099579936    3967\n",
       "B0065GC0BA    3927\n",
       "B00AREIAI8    3920\n",
       "B00FZLFQ0I    3783\n",
       "B00BQ4NLC8    3579\n",
       "B00IG2DOKM    3468\n",
       "B002RI9UBS    3353\n",
       "B0078XHAB4    3298\n",
       "B00D3NSDVO    2942\n",
       "B0094BB4TW    2862\n",
       "B004TSXUWY    2800\n",
       "B0031R5K72    2681\n",
       "B0090KZDSK    2678\n",
       "B007TK77QE    2628\n",
       "B006TF6WAM    2579\n",
       "B00IK1J9QM    2570\n",
       "B00D1VKZ3M    2523\n",
       "              ... \n",
       "B001IB03IE       1\n",
       "B001IBCRYW       1\n",
       "B001IBG2OI       1\n",
       "B001IBQ536       1\n",
       "B001ICFE1E       1\n",
       "B001I7BHNI       1\n",
       "B001I5NTVS       1\n",
       "B001I5KRZ4       1\n",
       "B001I1RZBM       1\n",
       "B001HXVJ8Q       1\n",
       "B001HY5MYW       1\n",
       "B001HY7C6S       1\n",
       "B001HY8SPW       1\n",
       "B001HYC9PM       1\n",
       "B001HZK8FY       1\n",
       "B001HZRL5E       1\n",
       "B001I0N9U4       1\n",
       "B001I10ABO       1\n",
       "B001I2NEHA       1\n",
       "B001I5CCUC       1\n",
       "B001I3OY4G       1\n",
       "B001I3QUHA       1\n",
       "B001I3U7TM       1\n",
       "B001I3YV7Q       1\n",
       "B001I4LKSS       1\n",
       "B001I4LND0       1\n",
       "B001I4PGE2       1\n",
       "B001I4PSRC       1\n",
       "B001I555FG       1\n",
       "0001006525       1\n",
       "Length: 58618, dtype: int64"
      ]
     },
     "execution_count": 53,
     "metadata": {},
     "output_type": "execute_result"
    }
   ],
   "source": [
    "print(len(productsDict.items()))\n",
    "count = 1\n",
    "df_no_text.groupby(\"product_id\").size().sort_values(ascending = False)"
   ]
  },
  {
   "cell_type": "code",
   "execution_count": 65,
   "metadata": {},
   "outputs": [],
   "source": [
    "gC = nx.Graph()"
   ]
  },
  {
   "cell_type": "code",
   "execution_count": 66,
   "metadata": {},
   "outputs": [
    {
     "name": "stdout",
     "output_type": "stream",
     "text": [
      "1/10\n",
      "2/10\n"
     ]
    },
    {
     "ename": "KeyboardInterrupt",
     "evalue": "",
     "output_type": "error",
     "traceback": [
      "\u001b[1;31m---------------------------------------------------------------------------\u001b[0m",
      "\u001b[1;31mKeyboardInterrupt\u001b[0m                         Traceback (most recent call last)",
      "\u001b[1;32m<ipython-input-66-7775cc02f84b>\u001b[0m in \u001b[0;36m<module>\u001b[1;34m()\u001b[0m\n\u001b[0;32m     11\u001b[0m                     \u001b[0mgC\u001b[0m\u001b[1;33m[\u001b[0m\u001b[0mcustIdI\u001b[0m\u001b[1;33m]\u001b[0m\u001b[1;33m[\u001b[0m\u001b[0mcustIdJ\u001b[0m\u001b[1;33m]\u001b[0m\u001b[1;33m[\u001b[0m\u001b[1;34m\"weight\"\u001b[0m\u001b[1;33m]\u001b[0m \u001b[1;33m+=\u001b[0m \u001b[1;36m1.0\u001b[0m \u001b[1;33m/\u001b[0m \u001b[1;33m(\u001b[0m\u001b[1;36m1\u001b[0m \u001b[1;33m+\u001b[0m \u001b[0mabs\u001b[0m\u001b[1;33m(\u001b[0m\u001b[0mdf_no_text\u001b[0m\u001b[1;33m.\u001b[0m\u001b[0mloc\u001b[0m\u001b[1;33m[\u001b[0m\u001b[0mrevIdI\u001b[0m\u001b[1;33m]\u001b[0m\u001b[1;33m.\u001b[0m\u001b[0mstar_rating\u001b[0m\u001b[1;33m.\u001b[0m\u001b[0mitem\u001b[0m\u001b[1;33m(\u001b[0m\u001b[1;33m)\u001b[0m \u001b[1;33m-\u001b[0m \u001b[0mdf_no_text\u001b[0m\u001b[1;33m.\u001b[0m\u001b[0mloc\u001b[0m\u001b[1;33m[\u001b[0m\u001b[0mrevIdJ\u001b[0m\u001b[1;33m]\u001b[0m\u001b[1;33m.\u001b[0m\u001b[0mstar_rating\u001b[0m\u001b[1;33m.\u001b[0m\u001b[0mitem\u001b[0m\u001b[1;33m(\u001b[0m\u001b[1;33m)\u001b[0m\u001b[1;33m)\u001b[0m\u001b[1;33m)\u001b[0m\u001b[1;33m\u001b[0m\u001b[0m\n\u001b[0;32m     12\u001b[0m                 \u001b[1;32mexcept\u001b[0m \u001b[0mKeyError\u001b[0m \u001b[1;32mas\u001b[0m \u001b[0me\u001b[0m\u001b[1;33m:\u001b[0m\u001b[1;33m\u001b[0m\u001b[0m\n\u001b[1;32m---> 13\u001b[1;33m                     \u001b[0mgC\u001b[0m\u001b[1;33m.\u001b[0m\u001b[0madd_edge\u001b[0m\u001b[1;33m(\u001b[0m\u001b[0mcustIdI\u001b[0m\u001b[1;33m,\u001b[0m \u001b[0mcustIdJ\u001b[0m\u001b[1;33m,\u001b[0m \u001b[0mweight\u001b[0m \u001b[1;33m=\u001b[0m \u001b[1;36m1.0\u001b[0m \u001b[1;33m/\u001b[0m \u001b[1;33m(\u001b[0m\u001b[1;36m1\u001b[0m \u001b[1;33m+\u001b[0m \u001b[0mabs\u001b[0m\u001b[1;33m(\u001b[0m\u001b[0mdf_no_text\u001b[0m\u001b[1;33m.\u001b[0m\u001b[0mloc\u001b[0m\u001b[1;33m[\u001b[0m\u001b[0mrevIdI\u001b[0m\u001b[1;33m]\u001b[0m\u001b[1;33m.\u001b[0m\u001b[0mstar_rating\u001b[0m\u001b[1;33m.\u001b[0m\u001b[0mitem\u001b[0m\u001b[1;33m(\u001b[0m\u001b[1;33m)\u001b[0m \u001b[1;33m-\u001b[0m \u001b[0mdf_no_text\u001b[0m\u001b[1;33m.\u001b[0m\u001b[0mloc\u001b[0m\u001b[1;33m[\u001b[0m\u001b[0mrevIdJ\u001b[0m\u001b[1;33m]\u001b[0m\u001b[1;33m.\u001b[0m\u001b[0mstar_rating\u001b[0m\u001b[1;33m.\u001b[0m\u001b[0mitem\u001b[0m\u001b[1;33m(\u001b[0m\u001b[1;33m)\u001b[0m\u001b[1;33m)\u001b[0m\u001b[1;33m)\u001b[0m\u001b[1;33m)\u001b[0m\u001b[1;33m\u001b[0m\u001b[0m\n\u001b[0m",
      "\u001b[1;32mC:\\Users\\mirko\\Anaconda2\\lib\\site-packages\\pandas\\core\\indexing.pyc\u001b[0m in \u001b[0;36m__getitem__\u001b[1;34m(self, key)\u001b[0m\n\u001b[0;32m   1476\u001b[0m \u001b[1;33m\u001b[0m\u001b[0m\n\u001b[0;32m   1477\u001b[0m             \u001b[0mmaybe_callable\u001b[0m \u001b[1;33m=\u001b[0m \u001b[0mcom\u001b[0m\u001b[1;33m.\u001b[0m\u001b[0m_apply_if_callable\u001b[0m\u001b[1;33m(\u001b[0m\u001b[0mkey\u001b[0m\u001b[1;33m,\u001b[0m \u001b[0mself\u001b[0m\u001b[1;33m.\u001b[0m\u001b[0mobj\u001b[0m\u001b[1;33m)\u001b[0m\u001b[1;33m\u001b[0m\u001b[0m\n\u001b[1;32m-> 1478\u001b[1;33m             \u001b[1;32mreturn\u001b[0m \u001b[0mself\u001b[0m\u001b[1;33m.\u001b[0m\u001b[0m_getitem_axis\u001b[0m\u001b[1;33m(\u001b[0m\u001b[0mmaybe_callable\u001b[0m\u001b[1;33m,\u001b[0m \u001b[0maxis\u001b[0m\u001b[1;33m=\u001b[0m\u001b[0maxis\u001b[0m\u001b[1;33m)\u001b[0m\u001b[1;33m\u001b[0m\u001b[0m\n\u001b[0m\u001b[0;32m   1479\u001b[0m \u001b[1;33m\u001b[0m\u001b[0m\n\u001b[0;32m   1480\u001b[0m     \u001b[1;32mdef\u001b[0m \u001b[0m_is_scalar_access\u001b[0m\u001b[1;33m(\u001b[0m\u001b[0mself\u001b[0m\u001b[1;33m,\u001b[0m \u001b[0mkey\u001b[0m\u001b[1;33m)\u001b[0m\u001b[1;33m:\u001b[0m\u001b[1;33m\u001b[0m\u001b[0m\n",
      "\u001b[1;32mC:\\Users\\mirko\\Anaconda2\\lib\\site-packages\\pandas\\core\\indexing.pyc\u001b[0m in \u001b[0;36m_getitem_axis\u001b[1;34m(self, key, axis)\u001b[0m\n\u001b[0;32m   1909\u001b[0m \u001b[1;33m\u001b[0m\u001b[0m\n\u001b[0;32m   1910\u001b[0m         \u001b[1;31m# fall thru to straight lookup\u001b[0m\u001b[1;33m\u001b[0m\u001b[1;33m\u001b[0m\u001b[0m\n\u001b[1;32m-> 1911\u001b[1;33m         \u001b[0mself\u001b[0m\u001b[1;33m.\u001b[0m\u001b[0m_validate_key\u001b[0m\u001b[1;33m(\u001b[0m\u001b[0mkey\u001b[0m\u001b[1;33m,\u001b[0m \u001b[0maxis\u001b[0m\u001b[1;33m)\u001b[0m\u001b[1;33m\u001b[0m\u001b[0m\n\u001b[0m\u001b[0;32m   1912\u001b[0m         \u001b[1;32mreturn\u001b[0m \u001b[0mself\u001b[0m\u001b[1;33m.\u001b[0m\u001b[0m_get_label\u001b[0m\u001b[1;33m(\u001b[0m\u001b[0mkey\u001b[0m\u001b[1;33m,\u001b[0m \u001b[0maxis\u001b[0m\u001b[1;33m=\u001b[0m\u001b[0maxis\u001b[0m\u001b[1;33m)\u001b[0m\u001b[1;33m\u001b[0m\u001b[0m\n\u001b[0;32m   1913\u001b[0m \u001b[1;33m\u001b[0m\u001b[0m\n",
      "\u001b[1;32mC:\\Users\\mirko\\Anaconda2\\lib\\site-packages\\pandas\\core\\indexing.pyc\u001b[0m in \u001b[0;36m_validate_key\u001b[1;34m(self, key, axis)\u001b[0m\n\u001b[0;32m   1772\u001b[0m             \u001b[1;32mreturn\u001b[0m\u001b[1;33m\u001b[0m\u001b[0m\n\u001b[0;32m   1773\u001b[0m \u001b[1;33m\u001b[0m\u001b[0m\n\u001b[1;32m-> 1774\u001b[1;33m         \u001b[1;32melif\u001b[0m \u001b[0mcom\u001b[0m\u001b[1;33m.\u001b[0m\u001b[0mis_bool_indexer\u001b[0m\u001b[1;33m(\u001b[0m\u001b[0mkey\u001b[0m\u001b[1;33m)\u001b[0m\u001b[1;33m:\u001b[0m\u001b[1;33m\u001b[0m\u001b[0m\n\u001b[0m\u001b[0;32m   1775\u001b[0m             \u001b[1;32mreturn\u001b[0m\u001b[1;33m\u001b[0m\u001b[0m\n\u001b[0;32m   1776\u001b[0m \u001b[1;33m\u001b[0m\u001b[0m\n",
      "\u001b[1;32mC:\\Users\\mirko\\Anaconda2\\lib\\site-packages\\pandas\\core\\common.pyc\u001b[0m in \u001b[0;36mis_bool_indexer\u001b[1;34m(key)\u001b[0m\n\u001b[0;32m     99\u001b[0m \u001b[1;33m\u001b[0m\u001b[0m\n\u001b[0;32m    100\u001b[0m \u001b[1;32mdef\u001b[0m \u001b[0mis_bool_indexer\u001b[0m\u001b[1;33m(\u001b[0m\u001b[0mkey\u001b[0m\u001b[1;33m)\u001b[0m\u001b[1;33m:\u001b[0m\u001b[1;33m\u001b[0m\u001b[0m\n\u001b[1;32m--> 101\u001b[1;33m     \u001b[1;32mif\u001b[0m \u001b[0misinstance\u001b[0m\u001b[1;33m(\u001b[0m\u001b[0mkey\u001b[0m\u001b[1;33m,\u001b[0m \u001b[1;33m(\u001b[0m\u001b[0mABCSeries\u001b[0m\u001b[1;33m,\u001b[0m \u001b[0mnp\u001b[0m\u001b[1;33m.\u001b[0m\u001b[0mndarray\u001b[0m\u001b[1;33m,\u001b[0m \u001b[0mABCIndex\u001b[0m\u001b[1;33m)\u001b[0m\u001b[1;33m)\u001b[0m\u001b[1;33m:\u001b[0m\u001b[1;33m\u001b[0m\u001b[0m\n\u001b[0m\u001b[0;32m    102\u001b[0m         \u001b[1;32mif\u001b[0m \u001b[0mkey\u001b[0m\u001b[1;33m.\u001b[0m\u001b[0mdtype\u001b[0m \u001b[1;33m==\u001b[0m \u001b[0mnp\u001b[0m\u001b[1;33m.\u001b[0m\u001b[0mobject_\u001b[0m\u001b[1;33m:\u001b[0m\u001b[1;33m\u001b[0m\u001b[0m\n\u001b[0;32m    103\u001b[0m             \u001b[0mkey\u001b[0m \u001b[1;33m=\u001b[0m \u001b[0mnp\u001b[0m\u001b[1;33m.\u001b[0m\u001b[0masarray\u001b[0m\u001b[1;33m(\u001b[0m\u001b[0m_values_from_object\u001b[0m\u001b[1;33m(\u001b[0m\u001b[0mkey\u001b[0m\u001b[1;33m)\u001b[0m\u001b[1;33m)\u001b[0m\u001b[1;33m\u001b[0m\u001b[0m\n",
      "\u001b[1;31mKeyboardInterrupt\u001b[0m: "
     ]
    }
   ],
   "source": [
    "count = 1\n",
    "for pr in df_no_text.groupby(\"product_id\").size().sort_values(ascending = False).keys()[25:30]:\n",
    "    print(\"%d/10\" %(count))\n",
    "    count += 1\n",
    "    if len(productsDict[pr]) == 1:\n",
    "        gC.add_node(productsDict[pr][0][0])\n",
    "    else:\n",
    "        for i, (custIdI, revIdI) in enumerate(productsDict[pr][:-1]):\n",
    "            for custIdJ, revIdJ in productsDict[pr][i+1:]:\n",
    "                try:\n",
    "                    gC[custIdI][custIdJ][\"weight\"] += 1.0 / (1 + abs(df_no_text.loc[revIdI].star_rating.item() - df_no_text.loc[revIdJ].star_rating.item()))\n",
    "                except KeyError as e:\n",
    "                    gC.add_edge(custIdI, custIdJ, weight = 1.0 / (1 + abs(df_no_text.loc[revIdI].star_rating.item() - df_no_text.loc[revIdJ].star_rating.item())))"
   ]
  },
  {
   "cell_type": "markdown",
   "metadata": {},
   "source": [
    "Started at 17:30"
   ]
  },
  {
   "cell_type": "code",
   "execution_count": null,
   "metadata": {
    "collapsed": true
   },
   "outputs": [],
   "source": [
    "nx.write_gpickle(gCP, \"%scustomersNetwork.gpickle\" %PATH_DATA)"
   ]
  },
  {
   "cell_type": "code",
   "execution_count": 40,
   "metadata": {},
   "outputs": [
    {
     "name": "stdout",
     "output_type": "stream",
     "text": [
      "(2, 'due')\n"
     ]
    }
   ],
   "source": [
    "print(gC.nodes())"
   ]
  },
  {
   "cell_type": "code",
   "execution_count": null,
   "metadata": {},
   "outputs": [],
   "source": [
    "# find the top XX products, build the related network and plot it.\n",
    "df_no_text.groupby(\"product_id\").size().sort_values(ascending = False)[:10]\n",
    "\n",
    "#Create the subgraph composed by the top 10 products.\n",
    "gCPTop = nx.Graph()\n",
    "for pr in df_no_text.groupby(\"product_id\").size().sort_values(ascending = False)[:1].keys():\n",
    "    gCPTop.add_node(pr, isCust = False)\n",
    "    for e in gCP.edges(pr):\n",
    "        gCPTop.add_node(e[1], isCust = True)\n",
    "        gCPTop.add_edge(e[1], pr)\n",
    "print(len(gCPTop.nodes()), len(gCPTop.edges()))"
   ]
  },
  {
   "cell_type": "markdown",
   "metadata": {},
   "source": [
    "## Products network \n",
    "\n",
    "### Network creation\n",
    "- Network computation\n",
    "- Writing pickle file to store the network"
   ]
  },
  {
   "cell_type": "code",
   "execution_count": 67,
   "metadata": {},
   "outputs": [],
   "source": [
    "gP = nx.Graph()"
   ]
  },
  {
   "cell_type": "code",
   "execution_count": 12,
   "metadata": {
    "scrolled": true
   },
   "outputs": [
    {
     "name": "stdout",
     "output_type": "stream",
     "text": [
      "10000/935880\n",
      "20000/935880\n",
      "30000/935880\n",
      "40000/935880\n",
      "50000/935880\n",
      "60000/935880\n",
      "70000/935880\n",
      "80000/935880\n",
      "90000/935880\n",
      "100000/935880\n",
      "110000/935880\n",
      "120000/935880\n",
      "130000/935880\n",
      "140000/935880\n",
      "150000/935880\n",
      "160000/935880\n",
      "170000/935880\n",
      "180000/935880\n",
      "190000/935880\n",
      "200000/935880\n",
      "210000/935880\n",
      "220000/935880\n",
      "230000/935880\n",
      "240000/935880\n",
      "250000/935880\n",
      "260000/935880\n",
      "270000/935880\n",
      "280000/935880\n",
      "290000/935880\n",
      "300000/935880\n",
      "310000/935880\n",
      "320000/935880\n",
      "330000/935880\n",
      "340000/935880\n",
      "350000/935880\n",
      "360000/935880\n",
      "370000/935880\n",
      "380000/935880\n",
      "390000/935880\n",
      "400000/935880\n",
      "410000/935880\n",
      "420000/935880\n",
      "430000/935880\n",
      "440000/935880\n",
      "450000/935880\n",
      "460000/935880\n",
      "470000/935880\n",
      "480000/935880\n",
      "490000/935880\n",
      "500000/935880\n",
      "510000/935880\n",
      "520000/935880\n",
      "530000/935880\n",
      "540000/935880\n",
      "550000/935880\n",
      "560000/935880\n",
      "570000/935880\n",
      "580000/935880\n",
      "590000/935880\n",
      "600000/935880\n",
      "610000/935880\n",
      "620000/935880\n",
      "630000/935880\n",
      "640000/935880\n",
      "650000/935880\n",
      "660000/935880\n",
      "670000/935880\n",
      "680000/935880\n",
      "690000/935880\n",
      "700000/935880\n",
      "710000/935880\n",
      "720000/935880\n",
      "730000/935880\n",
      "740000/935880\n",
      "750000/935880\n",
      "760000/935880\n",
      "770000/935880\n",
      "780000/935880\n",
      "790000/935880\n",
      "800000/935880\n",
      "810000/935880\n",
      "820000/935880\n",
      "830000/935880\n",
      "840000/935880\n",
      "850000/935880\n",
      "860000/935880\n",
      "870000/935880\n",
      "880000/935880\n",
      "890000/935880\n",
      "900000/935880\n",
      "910000/935880\n",
      "920000/935880\n",
      "930000/935880\n"
     ]
    }
   ],
   "source": [
    "count = 1\n",
    "for cu, pr in customersDict.items():\n",
    "    if count % 10000 == 0:\n",
    "        print(\"%d/935880\" %(count))\n",
    "    count += 1\n",
    "    if len(pr) == 1:\n",
    "        gP.add_node(pr[0][0])\n",
    "    else:\n",
    "        for i, (prodIdI, revIdI) in enumerate(pr[:-1]):\n",
    "            for prodIdJ, revIdJ in pr[i+1:]:\n",
    "                try:\n",
    "                    gP[prodIdI][prodIdJ][\"weight\"] += 1\n",
    "                except KeyError as e:\n",
    "                    gP.add_node(prodIdI, title = df_no_text.loc[revIdI].product_title, cat = df_no_text.loc[revIdI].product_category)\n",
    "                    gP.add_node(prodIdJ, title = df_no_text.loc[revIdJ].product_title, cat = df_no_text.loc[revIdJ].product_category)\n",
    "                    gP.add_edge(prodIdI, prodIdJ, weight = 1)"
   ]
  },
  {
   "cell_type": "code",
   "execution_count": 13,
   "metadata": {},
   "outputs": [],
   "source": [
    "nx.write_gpickle(gP, \"%sproductsNetwork.gpickle\" %PATH_DATA)"
   ]
  },
  {
   "cell_type": "code",
   "execution_count": 68,
   "metadata": {},
   "outputs": [],
   "source": [
    "gP = nx.read_gpickle(\"%sproductsNetwork.gpickle\" %PATH_DATA)"
   ]
  },
  {
   "cell_type": "code",
   "execution_count": 69,
   "metadata": {},
   "outputs": [
    {
     "name": "stdout",
     "output_type": "stream",
     "text": [
      "The number of nodes is 58618\n",
      "The number of edges is 5705313\n"
     ]
    }
   ],
   "source": [
    "print(\"The number of nodes is %d\" %len(gP.nodes()))\n",
    "print(\"The number of edges is %d\" %len(gP.edges()))"
   ]
  },
  {
   "cell_type": "markdown",
   "metadata": {},
   "source": [
    "#### Degree distribution \n",
    "Look at the degree distribution"
   ]
  },
  {
   "cell_type": "code",
   "execution_count": 71,
   "metadata": {},
   "outputs": [
    {
     "name": "stdout",
     "output_type": "stream",
     "text": [
      "Max degree = 5882\n",
      "Min degree = 0\n"
     ]
    },
    {
     "data": {
      "image/png": "[encoded data removed]",
      "text/plain": [
       "<Figure size 1080x360 with 1 Axes>"
      ]
     },
     "metadata": {
      "needs_background": "light"
     },
     "output_type": "display_data"
    },
    {
     "data": {
      "image/png": "[encoded data removed]",
      "text/plain": [
       "<Figure size 1080x360 with 1 Axes>"
      ]
     },
     "metadata": {
      "needs_background": "light"
     },
     "output_type": "display_data"
    }
   ],
   "source": [
    "# Degree distribution with plot\n",
    "degrees = list()\n",
    "for i in gP:\n",
    "    degrees.append(gP.degree(i))\n",
    "print(\"Max degree = \" + str(max(degrees)))\n",
    "print(\"Min degree = \" + str(min(degrees)))\n",
    "\n",
    "v, b = np.histogram(degrees, max(degrees))\n",
    "v = np.append(v, 0)\n",
    "plt.rcParams['figure.figsize'] = [15, 5]\n",
    "plt.title('Degree distribution linear')\n",
    "plt.xlabel('k')\n",
    "plt.ylabel('Count')\n",
    "plt.plot(b, v, 'b.', markersize = 3)\n",
    "plt.show()\n",
    "plt.title('Degree distribution log')\n",
    "plt.xlabel('k')\n",
    "plt.ylabel('Count')\n",
    "plt.xscale('log')\n",
    "plt.yscale('log')\n",
    "plt.plot(b, v, 'bo', markersize = 3)\n",
    "plt.show()"
   ]
  },
  {
   "cell_type": "markdown",
   "metadata": {},
   "source": [
    "?? again it seems a power law distribution."
   ]
  },
  {
   "cell_type": "markdown",
   "metadata": {},
   "source": [
    "### Category analysis\n",
    "Now look at the categories searching which is the one with more reviews. "
   ]
  },
  {
   "cell_type": "code",
   "execution_count": 87,
   "metadata": {},
   "outputs": [],
   "source": [
    "cat = dict()\n",
    "for node in gP.nodes():\n",
    "    try:\n",
    "        cat[gP.node[node][\"cat\"]] = cat.get(gP.node[node][\"cat\"], 0) + gP.degree(node)\n",
    "    except KeyError as e:\n",
    "        continue"
   ]
  },
  {
   "cell_type": "code",
   "execution_count": 98,
   "metadata": {},
   "outputs": [
    {
     "data": {
      "image/png": "[encoded data removed]",
      "text/plain": [
       "<Figure size 1080x576 with 1 Axes>"
      ]
     },
     "metadata": {
      "needs_background": "light"
     },
     "output_type": "display_data"
    }
   ],
   "source": [
    "plt.rcParams[\"figure.figsize\"] = [15, 8]\n",
    "plt.bar(cat.keys(), cat.values())\n",
    "plt.xticks(cat.keys(), cat.keys(), rotation = 'vertical')\n",
    "plt.title('Category reviews distribution')\n",
    "plt.xlabel('Catgories')\n",
    "plt.ylabel('Number of reviews')\n",
    "plt.show()"
   ]
  },
  {
   "cell_type": "markdown",
   "metadata": {},
   "source": [
    "As can be seen in the plot above, many cateogries have few reviews compared with the bigger ones. Therefore, now we plot again by keeping only the important ones."
   ]
  },
  {
   "cell_type": "code",
   "execution_count": 101,
   "metadata": {},
   "outputs": [
    {
     "data": {
      "image/png": "[encoded data removed]",
      "text/plain": [
       "<Figure size 1080x576 with 1 Axes>"
      ]
     },
     "metadata": {
      "needs_background": "light"
     },
     "output_type": "display_data"
    }
   ],
   "source": [
    "plt.rcParams[\"figure.figsize\"] = [15, 8]\n",
    "plt.bar(cat.keys()[:5], sorted(cat.values())[:5])\n",
    "plt.xticks(cat.keys(), cat.keys(), rotation = 'vertical')\n",
    "plt.title('Category reviews distribution')\n",
    "plt.xlabel('Catgories')\n",
    "plt.ylabel('Number of reviews')\n",
    "plt.show()"
   ]
  },
  {
   "cell_type": "code",
   "execution_count": null,
   "metadata": {
    "collapsed": true
   },
   "outputs": [],
   "source": [
    "print(\"The number of nodes is: %d\" %(len(gCP.nodes())))\n",
    "print(\"The number of edges is: %d\" %(len(gCP.edges())))\n",
    "\n",
    "# Average shortest path lenght\n",
    "nx.average_shortest_path_length(gCP)\n",
    "\n",
    "# Average clustering coefficient\n",
    "nx.average\n",
    "\n",
    "# Degree distribution with plot\n",
    "degrees = list()\n",
    "for i in gCP:\n",
    "    degrees.append(gCP.degree(i))\n",
    "print(\"Max degree = \" + str(max(degrees)))\n",
    "print(\"Min degree = \" + str(min(degrees)))\n",
    "\n",
    "v, b = np.histogram(degrees, max(degrees))\n",
    "v = np.append(v, 0)\n",
    "plt.rcParams['figure.figsize'] = [15, 5]\n",
    "plt.title('Degree distribution linear')\n",
    "plt.xlabel('k')\n",
    "plt.ylabel('Count')\n",
    "plt.plot(b, v, 'b.')\n",
    "plt.show()\n",
    "plt.title('Degree distribution log')\n",
    "plt.xlabel('k')\n",
    "plt.ylabel('Count')\n",
    "plt.xscale('log')\n",
    "plt.yscale('log')\n",
    "plt.plot(b, v, 'bo')\n",
    "plt.show()\n",
    "\n",
    "# Average degree connectivity\n",
    "nx.average_degree_connectivity(gCP)\n",
    "\n",
    "# Assorativity\n",
    "nx.degree_assortativity_coefficient(gCP)\n",
    "\n",
    "# Friendship paradox\n",
    "isTrue = 0\n",
    "for i in range(1000):\n",
    "    node = np.random.choice(nx.nodes(gCP))\n",
    "    if nx.average_neighbor_degree(gCP, nodes=[node])[node] > gCP.degree(node):\n",
    "        isTrue += 1\n",
    "print(\"The friendship paradox was true for \" + str(isTrue) + \" times out of 1000\")\n",
    "\n",
    "# Betweenness, eigenvector outgoing strenght\n",
    "bc = nx.betweenness_centrality(gCP)\n",
    "ec = nx.eigenvector_centrality(g)\n",
    "for n in gCP:\n",
    "    os[gCP.node[n][\"Party\"]].append(sum(gCP[e[0]][e[1]][\"weight\"] for e in gCP.edges(n)))\n",
    "    \n",
    "# Community and modularity\n",
    "com = community.best_partition(gCP)\n",
    "print(\"The modularity with python Louvain-algorithm implementation is %f\" %(community.modularity(com, gCP)))\n",
    "\n",
    "# Confusion matrix\n",
    "D = [[0 for _ in range(max(com.values()) + 1)] for _ in range(2)]\n",
    "for n in g:\n",
    "    if g.node[n][\"Party\"] == \"Democratic\":\n",
    "        D[0][com[n]] += 1\n",
    "    else:\n",
    "        D[1][com[n]] += 1\n",
    "HIGHLIGHT = True #change this parameter (in False) if you want to highlight the more populated community (more then 10 members)\n",
    "font = {'size'   : 9}\n",
    "plt.rc('font', **font)\n",
    "matrix = np.matrix(D)\n",
    "plt.matshow(matrix, cmap = plt.cm.Blues)\n",
    "for i in xrange(max(com.values()) + 1):\n",
    "    if HIGHLIGHT or (matrix[0, i] + matrix[1, i]) > 10:\n",
    "        for j in xrange(2):\n",
    "            c = matrix[j, i]\n",
    "            plt.text(i, j, str(c), va = 'center', ha = 'center')\n",
    "plt.title('Confusion matrix', fontsize = 12)\n",
    "plt.show()"
   ]
  }
 ],
 "metadata": {
  "kernelspec": {
   "display_name": "Python 2",
   "language": "python",
   "name": "python2"
  },
  "language_info": {
   "codemirror_mode": {
    "name": "ipython",
    "version": 2
   },
   "file_extension": ".py",
   "mimetype": "text/x-python",
   "name": "python",
   "nbconvert_exporter": "python",
   "pygments_lexer": "ipython2",
   "version": "2.7.15"
  }
 },
 "nbformat": 4,
 "nbformat_minor": 2
}
