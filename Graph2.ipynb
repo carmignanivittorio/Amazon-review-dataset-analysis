{
 "cells": [
  {
   "cell_type": "markdown",
   "metadata": {},
   "source": [
    "# Part II: Network analysis\n",
    "\n",
    "In this section we are going to anlyse three networks, specifically:\n",
    "##### Bipartite Customers-Products network \n",
    "Nodes: each node corresponds to a product or a customer. Product nodes have the properties: category and title.\n",
    "Edges: each edge connects a customer to a product if the customers has reviewed that product. The weight is equal to the rate. Edges have the verified property. \n",
    "##### Customers network\n",
    "Nodes: each node corresponds to a customer. \n",
    "Edges: each edge connects two customer if they have bought at least one common product. The weight is equal to the number of common product divided by the rates difference.\n",
    "##### Products network\n",
    "Nodes: each node corresponds to a product. Nodes have the properties: category and title. \n",
    "Edges: each edge connect to product which have at least one customer in common who has review both. The weight is equal to number of different common customers."
   ]
  },
  {
   "cell_type": "markdown",
   "metadata": {},
   "source": [
    "## Preliminaries \n",
    "\n",
    "#### Importing libraries\n",
    "In the code below we import all the libraries needed to execute the notebook."
   ]
  },
  {
   "cell_type": "code",
   "execution_count": 1,
   "metadata": {
    "collapsed": true
   },
   "outputs": [],
   "source": [
    "import re\n",
    "from os import listdir\n",
    "import networkx as nx\n",
    "import numpy as np\n",
    "import pandas as pd\n",
    "import pickle"
   ]
  },
  {
   "cell_type": "markdown",
   "metadata": {},
   "source": [
    "### Loading files to create network aftewards\n",
    "In the code below we define the path which has to be used to load pickle files needed for the network analysis. "
   ]
  },
  {
   "cell_type": "code",
   "execution_count": 2,
   "metadata": {
    "collapsed": true
   },
   "outputs": [],
   "source": [
    "PATH_DATA = \"V:/Programmazione/Amazon/\"\n",
    "df_no_text = pd.read_pickle(\"%sAmazonDataProjectNoText.pkl\" % PATH_DATA)"
   ]
  },
  {
   "cell_type": "code",
   "execution_count": 3,
   "metadata": {
    "collapsed": true
   },
   "outputs": [],
   "source": [
    "with open('%scustomersDict.pickle' %PATH_DATA, 'rb') as handleC:\n",
    "    customersDict = pickle.load(handleC)"
   ]
  },
  {
   "cell_type": "code",
   "execution_count": 4,
   "metadata": {
    "collapsed": true
   },
   "outputs": [],
   "source": [
    "with open('%sproductsDict.pickle' %PATH_DATA, 'rb') as handleP:\n",
    "    productsDict = pickle.load(handleP)"
   ]
  },
  {
   "cell_type": "markdown",
   "metadata": {},
   "source": [
    "## Customers-Products network \n",
    "\n",
    "### Network creation\n",
    "- Loading reviews file\n",
    "- Customers-Products bipartite network creation\n",
    "- Writing pickle file to store the Customers-Products network"
   ]
  },
  {
   "cell_type": "code",
   "execution_count": 9,
   "metadata": {
    "collapsed": true
   },
   "outputs": [],
   "source": [
    "gCP = nx.Graph()"
   ]
  },
  {
   "cell_type": "code",
   "execution_count": 10,
   "metadata": {
    "collapsed": true,
    "scrolled": true
   },
   "outputs": [],
   "source": [
    "for index, row in df_no_text.iterrows():\n",
    "    gCP.add_node(row.customer_id, isCust = True)\n",
    "    gCP.add_node(row.product_id, isCust = False, title = row.product_title, cat = row.product_category)\n",
    "    gCP.add_edge(row.customer_id, row.product_id, weight = row.star_rating, verify = row.verified_purchase, date = row.review_date, id_rew = index)"
   ]
  },
  {
   "cell_type": "code",
   "execution_count": null,
   "metadata": {
    "collapsed": true
   },
   "outputs": [],
   "source": [
    "nx.write_gpickle(gCP, \"%srawNetwork.gpickle\" %PATH_DATA)"
   ]
  },
  {
   "cell_type": "markdown",
   "metadata": {},
   "source": [
    "Loading the network from pickle file"
   ]
  },
  {
   "cell_type": "code",
   "execution_count": 16,
   "metadata": {
    "collapsed": true
   },
   "outputs": [],
   "source": [
    "gCP = nx.read_gpickle(\"%srawNetwork.gpickle\" %PATH_DATA)"
   ]
  },
  {
   "cell_type": "markdown",
   "metadata": {},
   "source": [
    "### First Customers-Products analysis \n",
    "\n",
    "#### Basic stats\n",
    "- Nodes number\n",
    "- Edges number\n",
    "- Degree distribution"
   ]
  },
  {
   "cell_type": "code",
   "execution_count": 17,
   "metadata": {},
   "outputs": [
    {
     "name": "stdout",
     "output_type": "stream",
     "text": [
      "The number of nodes is: 994498\n",
      "The number of edges is: 1704565\n"
     ]
    }
   ],
   "source": [
    "print(\"The number of nodes is: %d\" %(len(gCP.nodes())))\n",
    "print(\"The number of edges is: %d\" %(len(gCP.edges())))"
   ]
  },
  {
   "cell_type": "markdown",
   "metadata": {},
   "source": [
    "As we can seen by the results above, the bipartite Customers-Products netwokr is huge."
   ]
  },
  {
   "cell_type": "code",
   "execution_count": null,
   "metadata": {
    "collapsed": true
   },
   "outputs": [],
   "source": [
    "# Degree distribution with plot\n",
    "degrees = list()\n",
    "for i in gCP:\n",
    "    degrees.append(gCP.degree(i))\n",
    "print(\"Max degree = \" + str(max(degrees)))\n",
    "print(\"Min degree = \" + str(min(degrees)))\n",
    "\n",
    "v, b = np.histogram(degrees, max(degrees))\n",
    "v = np.append(v, 0)\n",
    "plt.rcParams['figure.figsize'] = [15, 5]\n",
    "plt.title('Degree distribution linear')\n",
    "plt.xlabel('k')\n",
    "plt.ylabel('Count')\n",
    "plt.plot(b, v, 'b.')\n",
    "plt.show()\n",
    "plt.title('Degree distribution log')\n",
    "plt.xlabel('k')\n",
    "plt.ylabel('Count')\n",
    "plt.xscale('log')\n",
    "plt.yscale('log')\n",
    "plt.plot(b, v, 'bo')\n",
    "plt.show()"
   ]
  },
  {
   "cell_type": "code",
   "execution_count": null,
   "metadata": {
    "collapsed": true
   },
   "outputs": [],
   "source": [
    "# Average shortest path lenght\n",
    "nx.average_shortest_path_length(gCP)\n",
    "\n",
    "# Average clustering coefficient\n",
    "nx.average_clustering(gCP)\n",
    "\n",
    "# Average degree connectivity\n",
    "nx.average_degree_connectivity(gCP)\n",
    "\n",
    "# Assorativity\n",
    "nx.degree_assortativity_coefficient(gCP)\n",
    "\n",
    "# Friendship paradox\n",
    "isTrue = 0\n",
    "for i in range(1000):\n",
    "    node = np.random.choice(nx.nodes(gCP))\n",
    "    if nx.average_neighbor_degree(gCP, nodes=[node])[node] > gCP.degree(node):\n",
    "        isTrue += 1\n",
    "print(\"The friendship paradox was true for \" + str(isTrue) + \" times out of 1000\")\n",
    "\n",
    "# Betweenness, eigenvector outgoing strenght\n",
    "bc = nx.betweenness_centrality(gCP)\n",
    "ec = nx.eigenvector_centrality(g)\n",
    "for n in gCP:\n",
    "    os[gCP.node[n][\"Party\"]].append(sum(gCP[e[0]][e[1]][\"weight\"] for e in gCP.edges(n)))\n",
    "    \n",
    "# Community and modularity\n",
    "com = community.best_partition(gCP)\n",
    "print(\"The modularity with python Louvain-algorithm implementation is %f\" %(community.modularity(com, gCP)))\n",
    "\n",
    "# Confusion matrix\n",
    "D = [[0 for _ in range(max(com.values()) + 1)] for _ in range(2)]\n",
    "for n in g:\n",
    "    if g.node[n][\"Party\"] == \"Democratic\":\n",
    "        D[0][com[n]] += 1\n",
    "    else:\n",
    "        D[1][com[n]] += 1\n",
    "HIGHLIGHT = True #change this parameter (in False) if you want to highlight the more populated community (more then 10 members)\n",
    "font = {'size'   : 9}\n",
    "plt.rc('font', **font)\n",
    "matrix = np.matrix(D)\n",
    "plt.matshow(matrix, cmap = plt.cm.Blues)\n",
    "for i in xrange(max(com.values()) + 1):\n",
    "    if HIGHLIGHT or (matrix[0, i] + matrix[1, i]) > 10:\n",
    "        for j in xrange(2):\n",
    "            c = matrix[j, i]\n",
    "            plt.text(i, j, str(c), va = 'center', ha = 'center')\n",
    "plt.title('Confusion matrix', fontsize = 12)\n",
    "plt.show()"
   ]
  },
  {
   "cell_type": "markdown",
   "metadata": {},
   "source": [
    "## Customers network \n",
    "\n",
    "### Network creation\n",
    "- Network computation\n",
    "- Writing pickle file to store the network"
   ]
  },
  {
   "cell_type": "code",
   "execution_count": 55,
   "metadata": {
    "collapsed": true
   },
   "outputs": [],
   "source": [
    "gC = nx.Graph()"
   ]
  },
  {
   "cell_type": "code",
   "execution_count": 56,
   "metadata": {
    "scrolled": true
   },
   "outputs": [
    {
     "name": "stdout",
     "output_type": "stream",
     "text": [
      "58618\n"
     ]
    },
    {
     "data": {
      "text/plain": [
       "product_id\n",
       "B00FAPF5U0    7723\n",
       "B008D30K7E    7638\n",
       "B007ZXK08C    7273\n",
       "B00E8KLWB4    6589\n",
       "B00NOPQU2K    6307\n",
       "B00QW8TYWO    5992\n",
       "B007Z8ZKS2    5356\n",
       "B00DJFIMW6    5311\n",
       "B007L3BMGA    4863\n",
       "B00YN6XHMU    4306\n",
       "B00992CF6W    4263\n",
       "B00I8Q77Y0    4260\n",
       "B00DUGCLY4    4127\n",
       "0099579936    3967\n",
       "B0065GC0BA    3927\n",
       "B00AREIAI8    3920\n",
       "B00FZLFQ0I    3783\n",
       "B00BQ4NLC8    3579\n",
       "B00IG2DOKM    3468\n",
       "B002RI9UBS    3353\n",
       "B0078XHAB4    3298\n",
       "B00D3NSDVO    2942\n",
       "B0094BB4TW    2862\n",
       "B004TSXUWY    2800\n",
       "B0031R5K72    2681\n",
       "B0090KZDSK    2678\n",
       "B007TK77QE    2628\n",
       "B006TF6WAM    2579\n",
       "B00IK1J9QM    2570\n",
       "B00D1VKZ3M    2523\n",
       "              ... \n",
       "B001IB03IE       1\n",
       "B001IBCRYW       1\n",
       "B001IBG2OI       1\n",
       "B001IBQ536       1\n",
       "B001ICFE1E       1\n",
       "B001I7BHNI       1\n",
       "B001I5NTVS       1\n",
       "B001I5KRZ4       1\n",
       "B001I1RZBM       1\n",
       "B001HXVJ8Q       1\n",
       "B001HY5MYW       1\n",
       "B001HY7C6S       1\n",
       "B001HY8SPW       1\n",
       "B001HYC9PM       1\n",
       "B001HZK8FY       1\n",
       "B001HZRL5E       1\n",
       "B001I0N9U4       1\n",
       "B001I10ABO       1\n",
       "B001I2NEHA       1\n",
       "B001I5CCUC       1\n",
       "B001I3OY4G       1\n",
       "B001I3QUHA       1\n",
       "B001I3U7TM       1\n",
       "B001I3YV7Q       1\n",
       "B001I4LKSS       1\n",
       "B001I4LND0       1\n",
       "B001I4PGE2       1\n",
       "B001I4PSRC       1\n",
       "B001I555FG       1\n",
       "0001006525       1\n",
       "Length: 58618, dtype: int64"
      ]
     },
     "execution_count": 56,
     "metadata": {},
     "output_type": "execute_result"
    }
   ],
   "source": [
    "print(len(productsDict.items()))\n",
    "count = 1\n",
    "df_no_text.groupby(\"product_id\").size().sort_values(ascending = False)"
   ]
  },
  {
   "cell_type": "code",
   "execution_count": 30,
   "metadata": {},
   "outputs": [
    {
     "name": "stdout",
     "output_type": "stream",
     "text": [
      "1/58618\n",
      "2/58618\n",
      "3/58618\n",
      "4/58618\n",
      "5/58618\n",
      "6/58618\n",
      "7/58618\n",
      "8/58618\n",
      "9/58618\n",
      "10/58618\n",
      "11/58618\n",
      "12/58618\n",
      "13/58618\n",
      "14/58618\n",
      "15/58618\n",
      "16/58618\n",
      "17/58618\n",
      "18/58618\n",
      "19/58618\n",
      "20/58618\n",
      "21/58618\n",
      "22/58618\n",
      "23/58618\n",
      "24/58618\n",
      "25/58618\n",
      "26/58618\n",
      "27/58618\n",
      "28/58618\n",
      "29/58618\n",
      "30/58618\n",
      "31/58618\n",
      "32/58618\n",
      "33/58618\n",
      "34/58618\n",
      "35/58618\n",
      "36/58618\n",
      "37/58618\n",
      "38/58618\n",
      "39/58618\n",
      "40/58618\n",
      "41/58618\n",
      "42/58618\n",
      "43/58618\n",
      "44/58618\n",
      "45/58618\n",
      "46/58618\n",
      "47/58618\n",
      "48/58618\n",
      "49/58618\n",
      "50/58618\n",
      "51/58618\n",
      "52/58618\n",
      "53/58618\n",
      "54/58618\n",
      "55/58618\n",
      "56/58618\n",
      "57/58618\n",
      "58/58618\n",
      "59/58618\n",
      "60/58618\n",
      "61/58618\n",
      "62/58618\n",
      "63/58618\n",
      "64/58618\n",
      "65/58618\n",
      "66/58618\n",
      "67/58618\n",
      "68/58618\n",
      "69/58618\n",
      "70/58618\n",
      "71/58618\n",
      "72/58618\n",
      "73/58618\n",
      "74/58618\n",
      "75/58618\n",
      "76/58618\n",
      "77/58618\n",
      "78/58618\n",
      "79/58618\n",
      "80/58618\n",
      "81/58618\n",
      "82/58618\n",
      "83/58618\n",
      "84/58618\n",
      "85/58618\n",
      "86/58618\n",
      "87/58618\n",
      "88/58618\n",
      "89/58618\n",
      "90/58618\n",
      "91/58618\n",
      "92/58618\n",
      "93/58618\n",
      "94/58618\n",
      "95/58618\n",
      "96/58618\n",
      "97/58618\n",
      "98/58618\n",
      "99/58618\n",
      "100/58618\n",
      "101/58618\n",
      "102/58618\n",
      "103/58618\n",
      "104/58618\n",
      "105/58618\n",
      "106/58618\n",
      "107/58618\n",
      "108/58618\n",
      "109/58618\n",
      "110/58618\n",
      "111/58618\n",
      "112/58618\n",
      "113/58618\n",
      "114/58618\n",
      "115/58618\n",
      "116/58618\n",
      "117/58618\n",
      "118/58618\n",
      "119/58618\n",
      "120/58618\n",
      "121/58618\n",
      "122/58618\n",
      "123/58618\n",
      "124/58618\n",
      "125/58618\n",
      "126/58618\n",
      "127/58618\n",
      "128/58618\n",
      "129/58618\n",
      "130/58618\n",
      "131/58618\n",
      "132/58618\n",
      "133/58618\n",
      "134/58618\n",
      "135/58618\n",
      "136/58618\n",
      "137/58618\n",
      "138/58618\n",
      "139/58618\n",
      "140/58618\n",
      "141/58618\n",
      "142/58618\n",
      "143/58618\n",
      "144/58618\n",
      "145/58618\n",
      "146/58618\n",
      "147/58618\n",
      "148/58618\n",
      "149/58618\n",
      "150/58618\n",
      "151/58618\n",
      "152/58618\n",
      "153/58618\n",
      "154/58618\n",
      "155/58618\n",
      "156/58618\n",
      "157/58618\n",
      "158/58618\n",
      "159/58618\n",
      "160/58618\n",
      "161/58618\n",
      "162/58618\n",
      "163/58618\n",
      "164/58618\n",
      "165/58618\n",
      "166/58618\n",
      "167/58618\n",
      "168/58618\n",
      "169/58618\n",
      "170/58618\n",
      "171/58618\n",
      "172/58618\n",
      "173/58618\n",
      "174/58618\n",
      "175/58618\n",
      "176/58618\n",
      "177/58618\n",
      "178/58618\n",
      "179/58618\n",
      "180/58618\n",
      "181/58618\n",
      "182/58618\n",
      "183/58618\n",
      "184/58618\n",
      "185/58618\n",
      "186/58618\n",
      "187/58618\n",
      "188/58618\n",
      "189/58618\n",
      "190/58618\n",
      "191/58618\n",
      "192/58618\n",
      "193/58618\n",
      "194/58618\n",
      "195/58618\n",
      "196/58618\n",
      "197/58618\n",
      "198/58618\n",
      "199/58618\n",
      "200/58618\n",
      "201/58618\n",
      "202/58618\n",
      "203/58618\n",
      "204/58618\n",
      "205/58618\n",
      "206/58618\n",
      "207/58618\n",
      "208/58618\n",
      "209/58618\n",
      "210/58618\n",
      "211/58618\n",
      "212/58618\n",
      "213/58618\n",
      "214/58618\n",
      "215/58618\n",
      "216/58618\n",
      "217/58618\n",
      "218/58618\n",
      "219/58618\n",
      "220/58618\n",
      "221/58618\n",
      "222/58618\n",
      "223/58618\n",
      "224/58618\n",
      "225/58618\n",
      "226/58618\n",
      "227/58618\n",
      "228/58618\n",
      "229/58618\n",
      "230/58618\n",
      "231/58618\n",
      "232/58618\n",
      "233/58618\n",
      "234/58618\n",
      "235/58618\n",
      "236/58618\n",
      "237/58618\n",
      "238/58618\n",
      "239/58618\n",
      "240/58618\n",
      "241/58618\n",
      "242/58618\n",
      "243/58618\n",
      "244/58618\n",
      "245/58618\n",
      "246/58618\n",
      "247/58618\n",
      "248/58618\n",
      "249/58618\n",
      "250/58618\n",
      "251/58618\n",
      "252/58618\n",
      "253/58618\n",
      "254/58618\n",
      "255/58618\n",
      "256/58618\n",
      "257/58618\n",
      "258/58618\n",
      "259/58618\n",
      "260/58618\n",
      "261/58618\n",
      "262/58618\n",
      "263/58618\n",
      "264/58618\n",
      "265/58618\n",
      "266/58618\n",
      "267/58618\n",
      "268/58618\n",
      "269/58618\n",
      "270/58618\n",
      "271/58618\n",
      "272/58618\n",
      "273/58618\n",
      "274/58618\n",
      "275/58618\n",
      "276/58618\n",
      "277/58618\n",
      "278/58618\n",
      "279/58618\n",
      "280/58618\n",
      "281/58618\n",
      "282/58618\n",
      "283/58618\n",
      "284/58618\n",
      "285/58618\n",
      "286/58618\n",
      "287/58618\n",
      "288/58618\n",
      "289/58618\n",
      "290/58618\n",
      "291/58618\n",
      "292/58618\n",
      "293/58618\n",
      "294/58618\n",
      "295/58618\n",
      "296/58618\n",
      "297/58618\n",
      "298/58618\n",
      "299/58618\n",
      "300/58618\n",
      "301/58618\n",
      "302/58618\n",
      "303/58618\n",
      "304/58618\n",
      "305/58618\n",
      "306/58618\n",
      "307/58618\n",
      "308/58618\n",
      "309/58618\n",
      "310/58618\n",
      "311/58618\n",
      "312/58618\n",
      "313/58618\n",
      "314/58618\n",
      "315/58618\n",
      "316/58618\n"
     ]
    },
    {
     "ename": "KeyboardInterrupt",
     "evalue": "",
     "output_type": "error",
     "traceback": [
      "\u001b[1;31m---------------------------------------------------------------------------\u001b[0m",
      "\u001b[1;31mKeyboardInterrupt\u001b[0m                         Traceback (most recent call last)",
      "\u001b[1;32m<ipython-input-30-90145fb2a73d>\u001b[0m in \u001b[0;36m<module>\u001b[1;34m()\u001b[0m\n\u001b[0;32m      8\u001b[0m             \u001b[1;32mfor\u001b[0m \u001b[0mj\u001b[0m \u001b[1;32min\u001b[0m \u001b[0mrange\u001b[0m\u001b[1;33m(\u001b[0m\u001b[0mi\u001b[0m\u001b[1;33m+\u001b[0m\u001b[1;36m1\u001b[0m\u001b[1;33m,\u001b[0m \u001b[0mlen\u001b[0m\u001b[1;33m(\u001b[0m\u001b[0mre\u001b[0m\u001b[1;33m)\u001b[0m\u001b[1;33m)\u001b[0m\u001b[1;33m:\u001b[0m\u001b[1;33m\u001b[0m\u001b[0m\n\u001b[0;32m      9\u001b[0m                 \u001b[1;32mtry\u001b[0m\u001b[1;33m:\u001b[0m\u001b[1;33m\u001b[0m\u001b[0m\n\u001b[1;32m---> 10\u001b[1;33m                     \u001b[0mgC\u001b[0m\u001b[1;33m[\u001b[0m\u001b[0mre\u001b[0m\u001b[1;33m[\u001b[0m\u001b[0mi\u001b[0m\u001b[1;33m]\u001b[0m\u001b[1;33m]\u001b[0m\u001b[1;33m[\u001b[0m\u001b[0mre\u001b[0m\u001b[1;33m[\u001b[0m\u001b[0mj\u001b[0m\u001b[1;33m]\u001b[0m\u001b[1;33m]\u001b[0m\u001b[1;33m[\u001b[0m\u001b[1;34m\"weight\"\u001b[0m\u001b[1;33m]\u001b[0m \u001b[1;33m+=\u001b[0m \u001b[1;36m1.0\u001b[0m \u001b[1;33m/\u001b[0m \u001b[1;33m(\u001b[0m\u001b[1;36m1\u001b[0m \u001b[1;33m+\u001b[0m \u001b[0mabs\u001b[0m\u001b[1;33m(\u001b[0m\u001b[0mdf_no_text\u001b[0m\u001b[1;33m.\u001b[0m\u001b[0mloc\u001b[0m\u001b[1;33m[\u001b[0m\u001b[0mre\u001b[0m\u001b[1;33m[\u001b[0m\u001b[0mi\u001b[0m\u001b[1;33m]\u001b[0m\u001b[1;33m[\u001b[0m\u001b[1;36m1\u001b[0m\u001b[1;33m]\u001b[0m\u001b[1;33m]\u001b[0m\u001b[1;33m.\u001b[0m\u001b[0mstar_rating\u001b[0m\u001b[1;33m.\u001b[0m\u001b[0mitem\u001b[0m\u001b[1;33m(\u001b[0m\u001b[1;33m)\u001b[0m \u001b[1;33m-\u001b[0m \u001b[0mdf_no_text\u001b[0m\u001b[1;33m.\u001b[0m\u001b[0mloc\u001b[0m\u001b[1;33m[\u001b[0m\u001b[0mre\u001b[0m\u001b[1;33m[\u001b[0m\u001b[0mj\u001b[0m\u001b[1;33m]\u001b[0m\u001b[1;33m[\u001b[0m\u001b[1;36m1\u001b[0m\u001b[1;33m]\u001b[0m\u001b[1;33m]\u001b[0m\u001b[1;33m.\u001b[0m\u001b[0mstar_rating\u001b[0m\u001b[1;33m.\u001b[0m\u001b[0mitem\u001b[0m\u001b[1;33m(\u001b[0m\u001b[1;33m)\u001b[0m\u001b[1;33m)\u001b[0m\u001b[1;33m)\u001b[0m\u001b[1;33m\u001b[0m\u001b[0m\n\u001b[0m\u001b[0;32m     11\u001b[0m                 \u001b[1;32mexcept\u001b[0m \u001b[0mKeyError\u001b[0m \u001b[1;32mas\u001b[0m \u001b[0me\u001b[0m\u001b[1;33m:\u001b[0m\u001b[1;33m\u001b[0m\u001b[0m\n\u001b[0;32m     12\u001b[0m                     \u001b[0mgC\u001b[0m\u001b[1;33m.\u001b[0m\u001b[0madd_edge\u001b[0m\u001b[1;33m(\u001b[0m\u001b[0mre\u001b[0m\u001b[1;33m[\u001b[0m\u001b[0mi\u001b[0m\u001b[1;33m]\u001b[0m\u001b[1;33m,\u001b[0m \u001b[0mre\u001b[0m\u001b[1;33m[\u001b[0m\u001b[0mj\u001b[0m\u001b[1;33m]\u001b[0m\u001b[1;33m,\u001b[0m \u001b[0mweight\u001b[0m \u001b[1;33m=\u001b[0m \u001b[1;36m1.0\u001b[0m \u001b[1;33m/\u001b[0m \u001b[1;33m(\u001b[0m\u001b[1;36m1\u001b[0m \u001b[1;33m+\u001b[0m \u001b[0mabs\u001b[0m\u001b[1;33m(\u001b[0m\u001b[0mdf_no_text\u001b[0m\u001b[1;33m.\u001b[0m\u001b[0mloc\u001b[0m\u001b[1;33m[\u001b[0m\u001b[0mre\u001b[0m\u001b[1;33m[\u001b[0m\u001b[0mi\u001b[0m\u001b[1;33m]\u001b[0m\u001b[1;33m[\u001b[0m\u001b[1;36m1\u001b[0m\u001b[1;33m]\u001b[0m\u001b[1;33m]\u001b[0m\u001b[1;33m.\u001b[0m\u001b[0mstar_rating\u001b[0m\u001b[1;33m.\u001b[0m\u001b[0mitem\u001b[0m\u001b[1;33m(\u001b[0m\u001b[1;33m)\u001b[0m \u001b[1;33m-\u001b[0m \u001b[0mdf_no_text\u001b[0m\u001b[1;33m.\u001b[0m\u001b[0mloc\u001b[0m\u001b[1;33m[\u001b[0m\u001b[0mre\u001b[0m\u001b[1;33m[\u001b[0m\u001b[0mi\u001b[0m\u001b[1;33m]\u001b[0m\u001b[1;33m[\u001b[0m\u001b[1;36m1\u001b[0m\u001b[1;33m]\u001b[0m\u001b[1;33m]\u001b[0m\u001b[1;33m.\u001b[0m\u001b[0mstar_rating\u001b[0m\u001b[1;33m.\u001b[0m\u001b[0mitem\u001b[0m\u001b[1;33m(\u001b[0m\u001b[1;33m)\u001b[0m\u001b[1;33m)\u001b[0m\u001b[1;33m)\u001b[0m\u001b[1;33m)\u001b[0m\u001b[1;33m\u001b[0m\u001b[0m\n",
      "\u001b[1;32mC:\\Users\\mirko\\Anaconda2\\lib\\site-packages\\pandas\\core\\indexing.pyc\u001b[0m in \u001b[0;36m__getitem__\u001b[1;34m(self, key)\u001b[0m\n\u001b[0;32m   1476\u001b[0m \u001b[1;33m\u001b[0m\u001b[0m\n\u001b[0;32m   1477\u001b[0m             \u001b[0mmaybe_callable\u001b[0m \u001b[1;33m=\u001b[0m \u001b[0mcom\u001b[0m\u001b[1;33m.\u001b[0m\u001b[0m_apply_if_callable\u001b[0m\u001b[1;33m(\u001b[0m\u001b[0mkey\u001b[0m\u001b[1;33m,\u001b[0m \u001b[0mself\u001b[0m\u001b[1;33m.\u001b[0m\u001b[0mobj\u001b[0m\u001b[1;33m)\u001b[0m\u001b[1;33m\u001b[0m\u001b[0m\n\u001b[1;32m-> 1478\u001b[1;33m             \u001b[1;32mreturn\u001b[0m \u001b[0mself\u001b[0m\u001b[1;33m.\u001b[0m\u001b[0m_getitem_axis\u001b[0m\u001b[1;33m(\u001b[0m\u001b[0mmaybe_callable\u001b[0m\u001b[1;33m,\u001b[0m \u001b[0maxis\u001b[0m\u001b[1;33m=\u001b[0m\u001b[0maxis\u001b[0m\u001b[1;33m)\u001b[0m\u001b[1;33m\u001b[0m\u001b[0m\n\u001b[0m\u001b[0;32m   1479\u001b[0m \u001b[1;33m\u001b[0m\u001b[0m\n\u001b[0;32m   1480\u001b[0m     \u001b[1;32mdef\u001b[0m \u001b[0m_is_scalar_access\u001b[0m\u001b[1;33m(\u001b[0m\u001b[0mself\u001b[0m\u001b[1;33m,\u001b[0m \u001b[0mkey\u001b[0m\u001b[1;33m)\u001b[0m\u001b[1;33m:\u001b[0m\u001b[1;33m\u001b[0m\u001b[0m\n",
      "\u001b[1;32mC:\\Users\\mirko\\Anaconda2\\lib\\site-packages\\pandas\\core\\indexing.pyc\u001b[0m in \u001b[0;36m_getitem_axis\u001b[1;34m(self, key, axis)\u001b[0m\n\u001b[0;32m   1910\u001b[0m         \u001b[1;31m# fall thru to straight lookup\u001b[0m\u001b[1;33m\u001b[0m\u001b[1;33m\u001b[0m\u001b[0m\n\u001b[0;32m   1911\u001b[0m         \u001b[0mself\u001b[0m\u001b[1;33m.\u001b[0m\u001b[0m_validate_key\u001b[0m\u001b[1;33m(\u001b[0m\u001b[0mkey\u001b[0m\u001b[1;33m,\u001b[0m \u001b[0maxis\u001b[0m\u001b[1;33m)\u001b[0m\u001b[1;33m\u001b[0m\u001b[0m\n\u001b[1;32m-> 1912\u001b[1;33m         \u001b[1;32mreturn\u001b[0m \u001b[0mself\u001b[0m\u001b[1;33m.\u001b[0m\u001b[0m_get_label\u001b[0m\u001b[1;33m(\u001b[0m\u001b[0mkey\u001b[0m\u001b[1;33m,\u001b[0m \u001b[0maxis\u001b[0m\u001b[1;33m=\u001b[0m\u001b[0maxis\u001b[0m\u001b[1;33m)\u001b[0m\u001b[1;33m\u001b[0m\u001b[0m\n\u001b[0m\u001b[0;32m   1913\u001b[0m \u001b[1;33m\u001b[0m\u001b[0m\n\u001b[0;32m   1914\u001b[0m \u001b[1;33m\u001b[0m\u001b[0m\n",
      "\u001b[1;32mC:\\Users\\mirko\\Anaconda2\\lib\\site-packages\\pandas\\core\\indexing.pyc\u001b[0m in \u001b[0;36m_get_label\u001b[1;34m(self, label, axis)\u001b[0m\n\u001b[0;32m    138\u001b[0m             \u001b[1;32mraise\u001b[0m \u001b[0mIndexingError\u001b[0m\u001b[1;33m(\u001b[0m\u001b[1;34m'no slices here, handle elsewhere'\u001b[0m\u001b[1;33m)\u001b[0m\u001b[1;33m\u001b[0m\u001b[0m\n\u001b[0;32m    139\u001b[0m \u001b[1;33m\u001b[0m\u001b[0m\n\u001b[1;32m--> 140\u001b[1;33m         \u001b[1;32mreturn\u001b[0m \u001b[0mself\u001b[0m\u001b[1;33m.\u001b[0m\u001b[0mobj\u001b[0m\u001b[1;33m.\u001b[0m\u001b[0m_xs\u001b[0m\u001b[1;33m(\u001b[0m\u001b[0mlabel\u001b[0m\u001b[1;33m,\u001b[0m \u001b[0maxis\u001b[0m\u001b[1;33m=\u001b[0m\u001b[0maxis\u001b[0m\u001b[1;33m)\u001b[0m\u001b[1;33m\u001b[0m\u001b[0m\n\u001b[0m\u001b[0;32m    141\u001b[0m \u001b[1;33m\u001b[0m\u001b[0m\n\u001b[0;32m    142\u001b[0m     \u001b[1;32mdef\u001b[0m \u001b[0m_get_loc\u001b[0m\u001b[1;33m(\u001b[0m\u001b[0mself\u001b[0m\u001b[1;33m,\u001b[0m \u001b[0mkey\u001b[0m\u001b[1;33m,\u001b[0m \u001b[0maxis\u001b[0m\u001b[1;33m=\u001b[0m\u001b[0mNone\u001b[0m\u001b[1;33m)\u001b[0m\u001b[1;33m:\u001b[0m\u001b[1;33m\u001b[0m\u001b[0m\n",
      "\u001b[1;32mC:\\Users\\mirko\\Anaconda2\\lib\\site-packages\\pandas\\core\\generic.pyc\u001b[0m in \u001b[0;36mxs\u001b[1;34m(self, key, axis, level, drop_level)\u001b[0m\n\u001b[0;32m   2998\u001b[0m \u001b[1;33m\u001b[0m\u001b[0m\n\u001b[0;32m   2999\u001b[0m         \u001b[1;32mif\u001b[0m \u001b[0mis_scalar\u001b[0m\u001b[1;33m(\u001b[0m\u001b[0mloc\u001b[0m\u001b[1;33m)\u001b[0m\u001b[1;33m:\u001b[0m\u001b[1;33m\u001b[0m\u001b[0m\n\u001b[1;32m-> 3000\u001b[1;33m             \u001b[0mnew_values\u001b[0m \u001b[1;33m=\u001b[0m \u001b[0mself\u001b[0m\u001b[1;33m.\u001b[0m\u001b[0m_data\u001b[0m\u001b[1;33m.\u001b[0m\u001b[0mfast_xs\u001b[0m\u001b[1;33m(\u001b[0m\u001b[0mloc\u001b[0m\u001b[1;33m)\u001b[0m\u001b[1;33m\u001b[0m\u001b[0m\n\u001b[0m\u001b[0;32m   3001\u001b[0m \u001b[1;33m\u001b[0m\u001b[0m\n\u001b[0;32m   3002\u001b[0m             \u001b[1;31m# may need to box a datelike-scalar\u001b[0m\u001b[1;33m\u001b[0m\u001b[1;33m\u001b[0m\u001b[0m\n",
      "\u001b[1;32mC:\\Users\\mirko\\Anaconda2\\lib\\site-packages\\pandas\\core\\internals.pyc\u001b[0m in \u001b[0;36mfast_xs\u001b[1;34m(self, loc)\u001b[0m\n\u001b[0;32m   4072\u001b[0m \u001b[1;33m\u001b[0m\u001b[0m\n\u001b[0;32m   4073\u001b[0m         \u001b[1;31m# unique\u001b[0m\u001b[1;33m\u001b[0m\u001b[1;33m\u001b[0m\u001b[0m\n\u001b[1;32m-> 4074\u001b[1;33m         \u001b[0mdtype\u001b[0m \u001b[1;33m=\u001b[0m \u001b[0m_interleaved_dtype\u001b[0m\u001b[1;33m(\u001b[0m\u001b[0mself\u001b[0m\u001b[1;33m.\u001b[0m\u001b[0mblocks\u001b[0m\u001b[1;33m)\u001b[0m\u001b[1;33m\u001b[0m\u001b[0m\n\u001b[0m\u001b[0;32m   4075\u001b[0m         \u001b[0mn\u001b[0m \u001b[1;33m=\u001b[0m \u001b[0mlen\u001b[0m\u001b[1;33m(\u001b[0m\u001b[0mitems\u001b[0m\u001b[1;33m)\u001b[0m\u001b[1;33m\u001b[0m\u001b[0m\n\u001b[0;32m   4076\u001b[0m         \u001b[0mresult\u001b[0m \u001b[1;33m=\u001b[0m \u001b[0mnp\u001b[0m\u001b[1;33m.\u001b[0m\u001b[0mempty\u001b[0m\u001b[1;33m(\u001b[0m\u001b[0mn\u001b[0m\u001b[1;33m,\u001b[0m \u001b[0mdtype\u001b[0m\u001b[1;33m=\u001b[0m\u001b[0mdtype\u001b[0m\u001b[1;33m)\u001b[0m\u001b[1;33m\u001b[0m\u001b[0m\n",
      "\u001b[1;31mKeyboardInterrupt\u001b[0m: "
     ]
    }
   ],
   "source": [
    "for pr,customers  in productsDict.items():\n",
    "    print(\"%d/58618\" %(count))\n",
    "    count += 1\n",
    "    if len(customers) == 1:\n",
    "        gC.add_node(customers[0])\n",
    "    else:\n",
    "        for i, (custIdI, revIdI) in enumerate(customers[:-1]):\n",
    "            for custIdJ, revIdJ in customers[i+1:]:\n",
    "                try:\n",
    "                    gC[custIdI][custIdJ][\"weight\"] += 1.0 / (1 + abs(df_no_text.loc[revIdI].star_rating.item() - df_no_text.loc[revIdJ].star_rating.item()))\n",
    "                except KeyError as e:\n",
    "                    gC.add_edge(custIdI, custIdJ, weight = 1.0 / (1 + abs(df_no_text.loc[revIdI].star_rating.item() - df_no_text.loc[revIdJ].star_rating.item())))"
   ]
  },
  {
   "cell_type": "code",
   "execution_count": null,
   "metadata": {
    "collapsed": true
   },
   "outputs": [],
   "source": [
    "nx.write_gpickle(gCP, \"%scustomersNetwork.gpickle\" %PATH_DATA)"
   ]
  },
  {
   "cell_type": "code",
   "execution_count": 40,
   "metadata": {},
   "outputs": [
    {
     "name": "stdout",
     "output_type": "stream",
     "text": [
      "(2, 'due')\n"
     ]
    }
   ],
   "source": [
    "print(gC.nodes())"
   ]
  },
  {
   "cell_type": "markdown",
   "metadata": {},
   "source": [
    "## Products network \n",
    "\n",
    "### Network creation\n",
    "- Network computation\n",
    "- Writing pickle file to store the network"
   ]
  },
  {
   "cell_type": "code",
   "execution_count": 23,
   "metadata": {},
   "outputs": [],
   "source": [
    "gP = nx.Graph()"
   ]
  },
  {
   "cell_type": "code",
   "execution_count": 24,
   "metadata": {},
   "outputs": [
    {
     "name": "stdout",
     "output_type": "stream",
     "text": [
      "935880\n"
     ]
    }
   ],
   "source": [
    "print(len(customersDict.items()))\n",
    "count = 1"
   ]
  },
  {
   "cell_type": "code",
   "execution_count": 25,
   "metadata": {},
   "outputs": [
    {
     "name": "stdout",
     "output_type": "stream",
     "text": [
      "10000/935880\n",
      "20000/935880\n",
      "30000/935880\n",
      "40000/935880\n",
      "50000/935880\n"
     ]
    },
    {
     "ename": "KeyboardInterrupt",
     "evalue": "",
     "output_type": "error",
     "traceback": [
      "\u001b[1;31m---------------------------------------------------------------------------\u001b[0m",
      "\u001b[1;31mKeyboardInterrupt\u001b[0m                         Traceback (most recent call last)",
      "\u001b[1;32m<ipython-input-25-fd48e2df64fe>\u001b[0m in \u001b[0;36m<module>\u001b[1;34m()\u001b[0m\n\u001b[0;32m     11\u001b[0m                     \u001b[0mgP\u001b[0m\u001b[1;33m[\u001b[0m\u001b[0mprodIdI\u001b[0m\u001b[1;33m]\u001b[0m\u001b[1;33m[\u001b[0m\u001b[0mprodIdJ\u001b[0m\u001b[1;33m]\u001b[0m\u001b[1;33m[\u001b[0m\u001b[1;34m\"weight\"\u001b[0m\u001b[1;33m]\u001b[0m \u001b[1;33m+=\u001b[0m \u001b[1;36m1\u001b[0m\u001b[1;33m\u001b[0m\u001b[0m\n\u001b[0;32m     12\u001b[0m                 \u001b[1;32mexcept\u001b[0m \u001b[0mKeyError\u001b[0m \u001b[1;32mas\u001b[0m \u001b[0me\u001b[0m\u001b[1;33m:\u001b[0m\u001b[1;33m\u001b[0m\u001b[0m\n\u001b[1;32m---> 13\u001b[1;33m                     \u001b[0mgP\u001b[0m\u001b[1;33m.\u001b[0m\u001b[0madd_node\u001b[0m\u001b[1;33m(\u001b[0m\u001b[0mprodIdI\u001b[0m\u001b[1;33m,\u001b[0m \u001b[0mtitle\u001b[0m \u001b[1;33m=\u001b[0m \u001b[0mdf_no_text\u001b[0m\u001b[1;33m.\u001b[0m\u001b[0mloc\u001b[0m\u001b[1;33m[\u001b[0m\u001b[0mrevIdI\u001b[0m\u001b[1;33m]\u001b[0m\u001b[1;33m.\u001b[0m\u001b[0mproduct_title\u001b[0m\u001b[1;33m,\u001b[0m \u001b[0mcat\u001b[0m \u001b[1;33m=\u001b[0m \u001b[0mdf_no_text\u001b[0m\u001b[1;33m.\u001b[0m\u001b[0mloc\u001b[0m\u001b[1;33m[\u001b[0m\u001b[0mrevIdI\u001b[0m\u001b[1;33m]\u001b[0m\u001b[1;33m.\u001b[0m\u001b[0mproduct_category\u001b[0m\u001b[1;33m)\u001b[0m\u001b[1;33m\u001b[0m\u001b[0m\n\u001b[0m\u001b[0;32m     14\u001b[0m                     \u001b[0mgP\u001b[0m\u001b[1;33m.\u001b[0m\u001b[0madd_node\u001b[0m\u001b[1;33m(\u001b[0m\u001b[0mprodIdJ\u001b[0m\u001b[1;33m,\u001b[0m \u001b[0mtitle\u001b[0m \u001b[1;33m=\u001b[0m \u001b[0mdf_no_text\u001b[0m\u001b[1;33m.\u001b[0m\u001b[0mloc\u001b[0m\u001b[1;33m[\u001b[0m\u001b[0mrevIdJ\u001b[0m\u001b[1;33m]\u001b[0m\u001b[1;33m.\u001b[0m\u001b[0mproduct_title\u001b[0m\u001b[1;33m,\u001b[0m \u001b[0mcat\u001b[0m \u001b[1;33m=\u001b[0m \u001b[0mdf_no_text\u001b[0m\u001b[1;33m.\u001b[0m\u001b[0mloc\u001b[0m\u001b[1;33m[\u001b[0m\u001b[0mrevIdJ\u001b[0m\u001b[1;33m]\u001b[0m\u001b[1;33m.\u001b[0m\u001b[0mproduct_category\u001b[0m\u001b[1;33m)\u001b[0m\u001b[1;33m\u001b[0m\u001b[0m\n\u001b[0;32m     15\u001b[0m                     \u001b[0mgP\u001b[0m\u001b[1;33m.\u001b[0m\u001b[0madd_edge\u001b[0m\u001b[1;33m(\u001b[0m\u001b[0mprodIdI\u001b[0m\u001b[1;33m,\u001b[0m \u001b[0mprodIdJ\u001b[0m\u001b[1;33m,\u001b[0m \u001b[0mweight\u001b[0m \u001b[1;33m=\u001b[0m \u001b[1;36m1\u001b[0m\u001b[1;33m)\u001b[0m\u001b[1;33m\u001b[0m\u001b[0m\n",
      "\u001b[1;32mC:\\Users\\carmi\\Anaconda2\\envs\\py27\\lib\\site-packages\\pandas\\core\\indexing.pyc\u001b[0m in \u001b[0;36m__getitem__\u001b[1;34m(self, key)\u001b[0m\n\u001b[0;32m   1326\u001b[0m         \u001b[1;32melse\u001b[0m\u001b[1;33m:\u001b[0m\u001b[1;33m\u001b[0m\u001b[0m\n\u001b[0;32m   1327\u001b[0m             \u001b[0mkey\u001b[0m \u001b[1;33m=\u001b[0m \u001b[0mcom\u001b[0m\u001b[1;33m.\u001b[0m\u001b[0m_apply_if_callable\u001b[0m\u001b[1;33m(\u001b[0m\u001b[0mkey\u001b[0m\u001b[1;33m,\u001b[0m \u001b[0mself\u001b[0m\u001b[1;33m.\u001b[0m\u001b[0mobj\u001b[0m\u001b[1;33m)\u001b[0m\u001b[1;33m\u001b[0m\u001b[0m\n\u001b[1;32m-> 1328\u001b[1;33m             \u001b[1;32mreturn\u001b[0m \u001b[0mself\u001b[0m\u001b[1;33m.\u001b[0m\u001b[0m_getitem_axis\u001b[0m\u001b[1;33m(\u001b[0m\u001b[0mkey\u001b[0m\u001b[1;33m,\u001b[0m \u001b[0maxis\u001b[0m\u001b[1;33m=\u001b[0m\u001b[1;36m0\u001b[0m\u001b[1;33m)\u001b[0m\u001b[1;33m\u001b[0m\u001b[0m\n\u001b[0m\u001b[0;32m   1329\u001b[0m \u001b[1;33m\u001b[0m\u001b[0m\n\u001b[0;32m   1330\u001b[0m     \u001b[1;32mdef\u001b[0m \u001b[0m_is_scalar_access\u001b[0m\u001b[1;33m(\u001b[0m\u001b[0mself\u001b[0m\u001b[1;33m,\u001b[0m \u001b[0mkey\u001b[0m\u001b[1;33m)\u001b[0m\u001b[1;33m:\u001b[0m\u001b[1;33m\u001b[0m\u001b[0m\n",
      "\u001b[1;32mC:\\Users\\carmi\\Anaconda2\\envs\\py27\\lib\\site-packages\\pandas\\core\\indexing.pyc\u001b[0m in \u001b[0;36m_getitem_axis\u001b[1;34m(self, key, axis)\u001b[0m\n\u001b[0;32m   1550\u001b[0m         \u001b[1;31m# fall thru to straight lookup\u001b[0m\u001b[1;33m\u001b[0m\u001b[1;33m\u001b[0m\u001b[0m\n\u001b[0;32m   1551\u001b[0m         \u001b[0mself\u001b[0m\u001b[1;33m.\u001b[0m\u001b[0m_has_valid_type\u001b[0m\u001b[1;33m(\u001b[0m\u001b[0mkey\u001b[0m\u001b[1;33m,\u001b[0m \u001b[0maxis\u001b[0m\u001b[1;33m)\u001b[0m\u001b[1;33m\u001b[0m\u001b[0m\n\u001b[1;32m-> 1552\u001b[1;33m         \u001b[1;32mreturn\u001b[0m \u001b[0mself\u001b[0m\u001b[1;33m.\u001b[0m\u001b[0m_get_label\u001b[0m\u001b[1;33m(\u001b[0m\u001b[0mkey\u001b[0m\u001b[1;33m,\u001b[0m \u001b[0maxis\u001b[0m\u001b[1;33m=\u001b[0m\u001b[0maxis\u001b[0m\u001b[1;33m)\u001b[0m\u001b[1;33m\u001b[0m\u001b[0m\n\u001b[0m\u001b[0;32m   1553\u001b[0m \u001b[1;33m\u001b[0m\u001b[0m\n\u001b[0;32m   1554\u001b[0m \u001b[1;33m\u001b[0m\u001b[0m\n",
      "\u001b[1;32mC:\\Users\\carmi\\Anaconda2\\envs\\py27\\lib\\site-packages\\pandas\\core\\indexing.pyc\u001b[0m in \u001b[0;36m_get_label\u001b[1;34m(self, label, axis)\u001b[0m\n\u001b[0;32m    134\u001b[0m             \u001b[1;32mraise\u001b[0m \u001b[0mIndexingError\u001b[0m\u001b[1;33m(\u001b[0m\u001b[1;34m'no slices here, handle elsewhere'\u001b[0m\u001b[1;33m)\u001b[0m\u001b[1;33m\u001b[0m\u001b[0m\n\u001b[0;32m    135\u001b[0m \u001b[1;33m\u001b[0m\u001b[0m\n\u001b[1;32m--> 136\u001b[1;33m         \u001b[1;32mreturn\u001b[0m \u001b[0mself\u001b[0m\u001b[1;33m.\u001b[0m\u001b[0mobj\u001b[0m\u001b[1;33m.\u001b[0m\u001b[0m_xs\u001b[0m\u001b[1;33m(\u001b[0m\u001b[0mlabel\u001b[0m\u001b[1;33m,\u001b[0m \u001b[0maxis\u001b[0m\u001b[1;33m=\u001b[0m\u001b[0maxis\u001b[0m\u001b[1;33m)\u001b[0m\u001b[1;33m\u001b[0m\u001b[0m\n\u001b[0m\u001b[0;32m    137\u001b[0m \u001b[1;33m\u001b[0m\u001b[0m\n\u001b[0;32m    138\u001b[0m     \u001b[1;32mdef\u001b[0m \u001b[0m_get_loc\u001b[0m\u001b[1;33m(\u001b[0m\u001b[0mself\u001b[0m\u001b[1;33m,\u001b[0m \u001b[0mkey\u001b[0m\u001b[1;33m,\u001b[0m \u001b[0maxis\u001b[0m\u001b[1;33m=\u001b[0m\u001b[1;36m0\u001b[0m\u001b[1;33m)\u001b[0m\u001b[1;33m:\u001b[0m\u001b[1;33m\u001b[0m\u001b[0m\n",
      "\u001b[1;32mC:\\Users\\carmi\\Anaconda2\\envs\\py27\\lib\\site-packages\\pandas\\core\\generic.pyc\u001b[0m in \u001b[0;36mxs\u001b[1;34m(self, key, axis, level, drop_level)\u001b[0m\n\u001b[0;32m   2055\u001b[0m             result = self._constructor_sliced(\n\u001b[0;32m   2056\u001b[0m                 \u001b[0mnew_values\u001b[0m\u001b[1;33m,\u001b[0m \u001b[0mindex\u001b[0m\u001b[1;33m=\u001b[0m\u001b[0mself\u001b[0m\u001b[1;33m.\u001b[0m\u001b[0mcolumns\u001b[0m\u001b[1;33m,\u001b[0m\u001b[1;33m\u001b[0m\u001b[0m\n\u001b[1;32m-> 2057\u001b[1;33m                 name=self.index[loc], dtype=new_values.dtype)\n\u001b[0m\u001b[0;32m   2058\u001b[0m \u001b[1;33m\u001b[0m\u001b[0m\n\u001b[0;32m   2059\u001b[0m         \u001b[1;32melse\u001b[0m\u001b[1;33m:\u001b[0m\u001b[1;33m\u001b[0m\u001b[0m\n",
      "\u001b[1;32mC:\\Users\\carmi\\Anaconda2\\envs\\py27\\lib\\site-packages\\pandas\\core\\series.pyc\u001b[0m in \u001b[0;36m__init__\u001b[1;34m(self, data, index, dtype, name, copy, fastpath)\u001b[0m\n\u001b[0;32m    246\u001b[0m             \u001b[1;32melse\u001b[0m\u001b[1;33m:\u001b[0m\u001b[1;33m\u001b[0m\u001b[0m\n\u001b[0;32m    247\u001b[0m                 data = _sanitize_array(data, index, dtype, copy,\n\u001b[1;32m--> 248\u001b[1;33m                                        raise_cast_failure=True)\n\u001b[0m\u001b[0;32m    249\u001b[0m \u001b[1;33m\u001b[0m\u001b[0m\n\u001b[0;32m    250\u001b[0m                 \u001b[0mdata\u001b[0m \u001b[1;33m=\u001b[0m \u001b[0mSingleBlockManager\u001b[0m\u001b[1;33m(\u001b[0m\u001b[0mdata\u001b[0m\u001b[1;33m,\u001b[0m \u001b[0mindex\u001b[0m\u001b[1;33m,\u001b[0m \u001b[0mfastpath\u001b[0m\u001b[1;33m=\u001b[0m\u001b[0mTrue\u001b[0m\u001b[1;33m)\u001b[0m\u001b[1;33m\u001b[0m\u001b[0m\n",
      "\u001b[1;32mC:\\Users\\carmi\\Anaconda2\\envs\\py27\\lib\\site-packages\\pandas\\core\\series.pyc\u001b[0m in \u001b[0;36m_sanitize_array\u001b[1;34m(data, index, dtype, copy, raise_cast_failure)\u001b[0m\n\u001b[0;32m   2942\u001b[0m                     \u001b[0msubarr\u001b[0m \u001b[1;33m=\u001b[0m \u001b[0mdata\u001b[0m\u001b[1;33m.\u001b[0m\u001b[0mcopy\u001b[0m\u001b[1;33m(\u001b[0m\u001b[1;33m)\u001b[0m\u001b[1;33m\u001b[0m\u001b[0m\n\u001b[0;32m   2943\u001b[0m             \u001b[1;32melse\u001b[0m\u001b[1;33m:\u001b[0m\u001b[1;33m\u001b[0m\u001b[0m\n\u001b[1;32m-> 2944\u001b[1;33m                 \u001b[0msubarr\u001b[0m \u001b[1;33m=\u001b[0m \u001b[0m_try_cast\u001b[0m\u001b[1;33m(\u001b[0m\u001b[0mdata\u001b[0m\u001b[1;33m,\u001b[0m \u001b[0mTrue\u001b[0m\u001b[1;33m)\u001b[0m\u001b[1;33m\u001b[0m\u001b[0m\n\u001b[0m\u001b[0;32m   2945\u001b[0m         \u001b[1;32melif\u001b[0m \u001b[0misinstance\u001b[0m\u001b[1;33m(\u001b[0m\u001b[0mdata\u001b[0m\u001b[1;33m,\u001b[0m \u001b[0mIndex\u001b[0m\u001b[1;33m)\u001b[0m\u001b[1;33m:\u001b[0m\u001b[1;33m\u001b[0m\u001b[0m\n\u001b[0;32m   2946\u001b[0m             \u001b[1;31m# don't coerce Index types\u001b[0m\u001b[1;33m\u001b[0m\u001b[1;33m\u001b[0m\u001b[0m\n",
      "\u001b[1;32mC:\\Users\\carmi\\Anaconda2\\envs\\py27\\lib\\site-packages\\pandas\\core\\series.pyc\u001b[0m in \u001b[0;36m_try_cast\u001b[1;34m(arr, take_fast_path)\u001b[0m\n\u001b[0;32m   2918\u001b[0m         \u001b[1;32mtry\u001b[0m\u001b[1;33m:\u001b[0m\u001b[1;33m\u001b[0m\u001b[0m\n\u001b[0;32m   2919\u001b[0m             \u001b[0msubarr\u001b[0m \u001b[1;33m=\u001b[0m \u001b[0mmaybe_cast_to_datetime\u001b[0m\u001b[1;33m(\u001b[0m\u001b[0marr\u001b[0m\u001b[1;33m,\u001b[0m \u001b[0mdtype\u001b[0m\u001b[1;33m)\u001b[0m\u001b[1;33m\u001b[0m\u001b[0m\n\u001b[1;32m-> 2920\u001b[1;33m             \u001b[1;32mif\u001b[0m \u001b[1;32mnot\u001b[0m \u001b[0mis_extension_type\u001b[0m\u001b[1;33m(\u001b[0m\u001b[0msubarr\u001b[0m\u001b[1;33m)\u001b[0m\u001b[1;33m:\u001b[0m\u001b[1;33m\u001b[0m\u001b[0m\n\u001b[0m\u001b[0;32m   2921\u001b[0m                 \u001b[0msubarr\u001b[0m \u001b[1;33m=\u001b[0m \u001b[0mnp\u001b[0m\u001b[1;33m.\u001b[0m\u001b[0marray\u001b[0m\u001b[1;33m(\u001b[0m\u001b[0msubarr\u001b[0m\u001b[1;33m,\u001b[0m \u001b[0mdtype\u001b[0m\u001b[1;33m=\u001b[0m\u001b[0mdtype\u001b[0m\u001b[1;33m,\u001b[0m \u001b[0mcopy\u001b[0m\u001b[1;33m=\u001b[0m\u001b[0mcopy\u001b[0m\u001b[1;33m)\u001b[0m\u001b[1;33m\u001b[0m\u001b[0m\n\u001b[0;32m   2922\u001b[0m         \u001b[1;32mexcept\u001b[0m \u001b[1;33m(\u001b[0m\u001b[0mValueError\u001b[0m\u001b[1;33m,\u001b[0m \u001b[0mTypeError\u001b[0m\u001b[1;33m)\u001b[0m\u001b[1;33m:\u001b[0m\u001b[1;33m\u001b[0m\u001b[0m\n",
      "\u001b[1;32mC:\\Users\\carmi\\Anaconda2\\envs\\py27\\lib\\site-packages\\pandas\\core\\dtypes\\common.pyc\u001b[0m in \u001b[0;36mis_extension_type\u001b[1;34m(arr)\u001b[0m\n\u001b[0;32m   1601\u001b[0m     \u001b[1;32melif\u001b[0m \u001b[0mis_sparse\u001b[0m\u001b[1;33m(\u001b[0m\u001b[0marr\u001b[0m\u001b[1;33m)\u001b[0m\u001b[1;33m:\u001b[0m\u001b[1;33m\u001b[0m\u001b[0m\n\u001b[0;32m   1602\u001b[0m         \u001b[1;32mreturn\u001b[0m \u001b[0mTrue\u001b[0m\u001b[1;33m\u001b[0m\u001b[0m\n\u001b[1;32m-> 1603\u001b[1;33m     \u001b[1;32melif\u001b[0m \u001b[0mis_datetimetz\u001b[0m\u001b[1;33m(\u001b[0m\u001b[0marr\u001b[0m\u001b[1;33m)\u001b[0m\u001b[1;33m:\u001b[0m\u001b[1;33m\u001b[0m\u001b[0m\n\u001b[0m\u001b[0;32m   1604\u001b[0m         \u001b[1;32mreturn\u001b[0m \u001b[0mTrue\u001b[0m\u001b[1;33m\u001b[0m\u001b[0m\n\u001b[0;32m   1605\u001b[0m     \u001b[1;32mreturn\u001b[0m \u001b[0mFalse\u001b[0m\u001b[1;33m\u001b[0m\u001b[0m\n",
      "\u001b[1;32mC:\\Users\\carmi\\Anaconda2\\envs\\py27\\lib\\site-packages\\pandas\\core\\dtypes\\common.pyc\u001b[0m in \u001b[0;36mis_datetimetz\u001b[1;34m(arr)\u001b[0m\n\u001b[0;32m    263\u001b[0m     return ((isinstance(arr, ABCDatetimeIndex) and\n\u001b[0;32m    264\u001b[0m              getattr(arr, 'tz', None) is not None) or\n\u001b[1;32m--> 265\u001b[1;33m             is_datetime64tz_dtype(arr))\n\u001b[0m\u001b[0;32m    266\u001b[0m \u001b[1;33m\u001b[0m\u001b[0m\n\u001b[0;32m    267\u001b[0m \u001b[1;33m\u001b[0m\u001b[0m\n",
      "\u001b[1;32mC:\\Users\\carmi\\Anaconda2\\envs\\py27\\lib\\site-packages\\pandas\\core\\dtypes\\common.pyc\u001b[0m in \u001b[0;36mis_datetime64tz_dtype\u001b[1;34m(arr_or_dtype)\u001b[0m\n\u001b[0;32m    366\u001b[0m     \u001b[1;32mif\u001b[0m \u001b[0marr_or_dtype\u001b[0m \u001b[1;32mis\u001b[0m \u001b[0mNone\u001b[0m\u001b[1;33m:\u001b[0m\u001b[1;33m\u001b[0m\u001b[0m\n\u001b[0;32m    367\u001b[0m         \u001b[1;32mreturn\u001b[0m \u001b[0mFalse\u001b[0m\u001b[1;33m\u001b[0m\u001b[0m\n\u001b[1;32m--> 368\u001b[1;33m     \u001b[1;32mreturn\u001b[0m \u001b[0mDatetimeTZDtype\u001b[0m\u001b[1;33m.\u001b[0m\u001b[0mis_dtype\u001b[0m\u001b[1;33m(\u001b[0m\u001b[0marr_or_dtype\u001b[0m\u001b[1;33m)\u001b[0m\u001b[1;33m\u001b[0m\u001b[0m\n\u001b[0m\u001b[0;32m    369\u001b[0m \u001b[1;33m\u001b[0m\u001b[0m\n\u001b[0;32m    370\u001b[0m \u001b[1;33m\u001b[0m\u001b[0m\n",
      "\u001b[1;32mC:\\Users\\carmi\\Anaconda2\\envs\\py27\\lib\\site-packages\\pandas\\core\\dtypes\\dtypes.pyc\u001b[0m in \u001b[0;36mis_dtype\u001b[1;34m(cls, dtype)\u001b[0m\n\u001b[0;32m     89\u001b[0m         \u001b[1;32mif\u001b[0m \u001b[0mhasattr\u001b[0m\u001b[1;33m(\u001b[0m\u001b[0mdtype\u001b[0m\u001b[1;33m,\u001b[0m \u001b[1;34m'dtype'\u001b[0m\u001b[1;33m)\u001b[0m\u001b[1;33m:\u001b[0m\u001b[1;33m\u001b[0m\u001b[0m\n\u001b[0;32m     90\u001b[0m             \u001b[0mdtype\u001b[0m \u001b[1;33m=\u001b[0m \u001b[0mdtype\u001b[0m\u001b[1;33m.\u001b[0m\u001b[0mdtype\u001b[0m\u001b[1;33m\u001b[0m\u001b[0m\n\u001b[1;32m---> 91\u001b[1;33m         \u001b[1;32mif\u001b[0m \u001b[0misinstance\u001b[0m\u001b[1;33m(\u001b[0m\u001b[0mdtype\u001b[0m\u001b[1;33m,\u001b[0m \u001b[0mnp\u001b[0m\u001b[1;33m.\u001b[0m\u001b[0mdtype\u001b[0m\u001b[1;33m)\u001b[0m\u001b[1;33m:\u001b[0m\u001b[1;33m\u001b[0m\u001b[0m\n\u001b[0m\u001b[0;32m     92\u001b[0m             \u001b[1;32mreturn\u001b[0m \u001b[0mFalse\u001b[0m\u001b[1;33m\u001b[0m\u001b[0m\n\u001b[0;32m     93\u001b[0m         \u001b[1;32melif\u001b[0m \u001b[0mdtype\u001b[0m \u001b[1;32mis\u001b[0m \u001b[0mNone\u001b[0m\u001b[1;33m:\u001b[0m\u001b[1;33m\u001b[0m\u001b[0m\n",
      "\u001b[1;31mKeyboardInterrupt\u001b[0m: "
     ]
    }
   ],
   "source": [
    "for cu, pr in customersDict.items():\n",
    "    if count%10000==0:\n",
    "        print(\"%d/935880\" %(count))\n",
    "    count += 1\n",
    "    if len(pr) == 1:\n",
    "        gP.add_node(pr[0])\n",
    "    else:\n",
    "        for i, (prodIdI, revIdI) in enumerate(pr[:-1]):\n",
    "            for prodIdJ, revIdJ in pr[i+1:]:\n",
    "                try:\n",
    "                    gP[prodIdI][prodIdJ][\"weight\"] += 1\n",
    "                except KeyError as e:\n",
    "                    gP.add_node(prodIdI, title = df_no_text.loc[revIdI].product_title, cat = df_no_text.loc[revIdI].product_category)\n",
    "                    gP.add_node(prodIdJ, title = df_no_text.loc[revIdJ].product_title, cat = df_no_text.loc[revIdJ].product_category)\n",
    "                    gP.add_edge(prodIdI, prodIdJ, weight = 1)"
   ]
  },
  {
   "cell_type": "code",
   "execution_count": 77,
   "metadata": {
    "collapsed": true
   },
   "outputs": [],
   "source": [
    "nx.write_gpickle(gP, \"%sproductsNetwork.gpickle\" %PATH_DATA)"
   ]
  },
  {
   "cell_type": "code",
   "execution_count": 78,
   "metadata": {},
   "outputs": [
    {
     "name": "stdout",
     "output_type": "stream",
     "text": [
      "The number of nodes is 1705765\n",
      "The number of edges is 7180524\n"
     ]
    }
   ],
   "source": [
    "print(\"The number of nodes is %d\" %len(gP.nodes()))\n",
    "print(\"The number of edges is %d\" %len(gP.edges()))"
   ]
  },
  {
   "cell_type": "code",
   "execution_count": 15,
   "metadata": {
    "collapsed": true
   },
   "outputs": [],
   "source": [
    "customerNOfOrder = dict()\n",
    "for key, value in customersDict.items():\n",
    "    customerNOfOrder[len(value)] = customerNOfOrder.get(len(value), 0) + 1"
   ]
  },
  {
   "cell_type": "code",
   "execution_count": 16,
   "metadata": {
    "collapsed": true
   },
   "outputs": [],
   "source": [
    "import numpy as np\n",
    "import seaborn as sns\n",
    "import matplotlib.pyplot as plt"
   ]
  },
  {
   "cell_type": "code",
   "execution_count": 17,
   "metadata": {},
   "outputs": [
    {
     "data": {
      "image/png": "[encoded data removed]",
      "text/plain": [
       "<Figure size 432x288 with 1 Axes>"
      ]
     },
     "metadata": {
      "needs_background": "light"
     },
     "output_type": "display_data"
    }
   ],
   "source": [
    "plt.plot(customerNOfOrder.values())\n",
    "plt.show()"
   ]
  },
  {
   "cell_type": "code",
   "execution_count": 18,
   "metadata": {
    "collapsed": true
   },
   "outputs": [],
   "source": [
    "prec = 0\n",
    "cumulative = list()\n",
    "totOrders = 0.0\n",
    "for key, value in customerNOfOrder.items():\n",
    "    cumulative.append(value + prec)\n",
    "    prec += value\n",
    "    totOrders += value\n",
    "cumulative = [value / totOrders for value in cumulative]"
   ]
  },
  {
   "cell_type": "code",
   "execution_count": 19,
   "metadata": {},
   "outputs": [
    {
     "data": {
      "image/png": "[encoded data removed]",
      "text/plain": [
       "<Figure size 432x288 with 1 Axes>"
      ]
     },
     "metadata": {
      "needs_background": "light"
     },
     "output_type": "display_data"
    }
   ],
   "source": [
    "plt.plot(cumulative)\n",
    "plt.show()"
   ]
  },
  {
   "cell_type": "code",
   "execution_count": null,
   "metadata": {
    "collapsed": true
   },
   "outputs": [],
   "source": []
  }
 ],
 "metadata": {
  "kernelspec": {
   "display_name": "Python 2",
   "language": "python",
   "name": "python2"
  },
  "language_info": {
   "codemirror_mode": {
    "name": "ipython",
    "version": 2
   },
   "file_extension": ".py",
   "mimetype": "text/x-python",
   "name": "python",
   "nbconvert_exporter": "python",
   "pygments_lexer": "ipython2",
   "version": "2.7.13"
  }
 },
 "nbformat": 4,
 "nbformat_minor": 2
}
