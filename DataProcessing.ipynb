{
 "cells": [
  {
   "cell_type": "markdown",
   "metadata": {},
   "source": [
    "### Come back to [Introduction](Introduction.ipynb)"
   ]
  },
  {
   "cell_type": "markdown",
   "metadata": {},
   "source": [
    "# Amazon Customer Reviews Dataset\n",
    "Amazon Customer Reviews (a.k.a. Product Reviews) is one of Amazon’s iconic products. In a period of over two decades since the first review in 1995, millions of Amazon customers have contributed over a hundred million reviews to express opinions and describe their experiences regarding products on the Amazon.com website. Over 130+ million customer reviews are available to researchers as part of this dataset."
   ]
  },
  {
   "cell_type": "markdown",
   "metadata": {},
   "source": [
    "### Documentation: \n",
    "https://s3.amazonaws.com/amazon-reviews-pds/readme.html"
   ]
  },
  {
   "cell_type": "markdown",
   "metadata": {},
   "source": [
    "### List of databases link: \n",
    "https://s3.amazonaws.com/amazon-reviews-pds/tsv/index.txt"
   ]
  },
  {
   "cell_type": "markdown",
   "metadata": {},
   "source": [
    "### Database's link: \n",
    "https://s3.amazonaws.com/amazon-reviews-pds/tsv/amazon_reviews_multilingual_UK_v1_00.tsv.gz"
   ]
  },
  {
   "cell_type": "markdown",
   "metadata": {},
   "source": [
    "Here we import the modules that we will need in order to extract the data manipulate them "
   ]
  },
  {
   "cell_type": "code",
   "execution_count": 62,
   "metadata": {},
   "outputs": [],
   "source": [
    "import numpy as np\n",
    "import pandas as pd\n",
    "import matplotlib.pyplot as plt\n",
    "import datetime\n",
    "import pickle\n",
    "from prettytable import PrettyTable as PT"
   ]
  },
  {
   "cell_type": "markdown",
   "metadata": {},
   "source": [
    "This variable will hold the path of our raw dataset"
   ]
  },
  {
   "cell_type": "code",
   "execution_count": 4,
   "metadata": {},
   "outputs": [],
   "source": [
    "PATH_DATA = \"C:/Users/Tosodoulis/Desktop/All The Folders/DTU Courses/First Semester/02805-Social Graphs and Interactions/final/final/\""
   ]
  },
  {
   "cell_type": "code",
   "execution_count": 5,
   "metadata": {},
   "outputs": [],
   "source": [
    "\"\"\"\n",
    "\\brief The function returns the percentage given the value and its total \n",
    "\\param value (int/float)\n",
    "\\param tot (int/float)\n",
    "\\return float: the actual percentage\n",
    "\"\"\"\n",
    "def percent(value,tot):\n",
    "    return value/float(tot)*100"
   ]
  },
  {
   "cell_type": "markdown",
   "metadata": {},
   "source": [
    "We recognize that we have some data which are \"corrupted\". For those data we are going to set the date to 1900-01-01. Then we are going to delete them."
   ]
  },
  {
   "cell_type": "code",
   "execution_count": 6,
   "metadata": {},
   "outputs": [],
   "source": [
    "def parserDate(x):\n",
    "    try:\n",
    "        return datetime.datetime.strptime(x, '%Y-%m-%d')\n",
    "    except ValueError:\n",
    "        return datetime.datetime.strptime(\"1900-01-01\", '%Y-%m-%d')"
   ]
  },
  {
   "cell_type": "markdown",
   "metadata": {},
   "source": [
    "In this block we make use of the **pandas** module, which helps us read the raw dataset and transform it to a dataframe which is easier to read and extract information from it. From the original dataset we are going to use only 8 out of the 14 columns. Those are: customer_id, product_id, product_title, product_category, star_rating, review_headline, review_body and review_date"
   ]
  },
  {
   "cell_type": "code",
   "execution_count": 7,
   "metadata": {},
   "outputs": [],
   "source": [
    "df =  pd.read_csv(\n",
    "    \"%sdata.tsv\" % PATH_DATA, \n",
    "    encoding=\"utf-8\", \n",
    "    header=0,\n",
    "    sep='\\t',\n",
    "    usecols=['customer_id', 'product_id', 'product_title','product_category','star_rating','review_headline','review_body','review_date'],\n",
    "    dtype = {\n",
    "        #'marketplace':str,\n",
    "        'customer_id':str,\n",
    "        #'review_id':str,\n",
    "        'product_id':str,\n",
    "        #'product_parent':str,\n",
    "        'product_title':str,\n",
    "        'product_category':str,\n",
    "        'star_rating': np.uint8,\n",
    "        #'helpful_votes': np.uint16,\n",
    "        #'total_votes': np.uint16,\n",
    "        #'vine':str,\n",
    "        #'verified_purchase':bool,\n",
    "        'review_headline':str,\n",
    "        'review_body':str,\n",
    "        },\n",
    "    parse_dates = ['review_date'],\n",
    "    true_values = [\"Y\"],\n",
    "    false_values  = [\"N\"],\n",
    "    skipinitialspace = True,\n",
    "    date_parser=parserDate,\n",
    "    infer_datetime_format = True,\n",
    "    error_bad_lines = False,\n",
    "    warn_bad_lines = True,\n",
    "    engine='c',\n",
    "    )"
   ]
  },
  {
   "cell_type": "code",
   "execution_count": 9,
   "metadata": {},
   "outputs": [],
   "source": [
    "df.index.names = ['review_id']"
   ]
  },
  {
   "cell_type": "markdown",
   "metadata": {},
   "source": [
    "Here we represent a table with the first 10 raws of the that we just created. new dataframe that we just created."
   ]
  },
  {
   "cell_type": "code",
   "execution_count": 10,
   "metadata": {},
   "outputs": [
    {
     "data": {
      "text/html": [
       "<div>\n",
       "<style scoped>\n",
       "    .dataframe tbody tr th:only-of-type {\n",
       "        vertical-align: middle;\n",
       "    }\n",
       "\n",
       "    .dataframe tbody tr th {\n",
       "        vertical-align: top;\n",
       "    }\n",
       "\n",
       "    .dataframe thead th {\n",
       "        text-align: right;\n",
       "    }\n",
       "</style>\n",
       "<table border=\"1\" class=\"dataframe\">\n",
       "  <thead>\n",
       "    <tr style=\"text-align: right;\">\n",
       "      <th></th>\n",
       "      <th>customer_id</th>\n",
       "      <th>product_id</th>\n",
       "      <th>product_title</th>\n",
       "      <th>product_category</th>\n",
       "      <th>star_rating</th>\n",
       "      <th>review_headline</th>\n",
       "      <th>review_body</th>\n",
       "      <th>review_date</th>\n",
       "    </tr>\n",
       "    <tr>\n",
       "      <th>review_id</th>\n",
       "      <th></th>\n",
       "      <th></th>\n",
       "      <th></th>\n",
       "      <th></th>\n",
       "      <th></th>\n",
       "      <th></th>\n",
       "      <th></th>\n",
       "      <th></th>\n",
       "    </tr>\n",
       "  </thead>\n",
       "  <tbody>\n",
       "    <tr>\n",
       "      <th>0</th>\n",
       "      <td>10349</td>\n",
       "      <td>B00MWK7BWG</td>\n",
       "      <td>My Favourite Faded Fantasy</td>\n",
       "      <td>Music</td>\n",
       "      <td>5</td>\n",
       "      <td>Five Stars</td>\n",
       "      <td>The best album ever!</td>\n",
       "      <td>2014-12-29</td>\n",
       "    </tr>\n",
       "    <tr>\n",
       "      <th>1</th>\n",
       "      <td>10629</td>\n",
       "      <td>B006CHML4I</td>\n",
       "      <td>Seiko 5 Men's Automatic Watch with Black Dial ...</td>\n",
       "      <td>Watches</td>\n",
       "      <td>4</td>\n",
       "      <td>Great watch from casio.</td>\n",
       "      <td>What a great watch. Both watches and strap is ...</td>\n",
       "      <td>2013-10-24</td>\n",
       "    </tr>\n",
       "    <tr>\n",
       "      <th>2</th>\n",
       "      <td>12136</td>\n",
       "      <td>B00IIFCJX0</td>\n",
       "      <td>Dexter Season 8</td>\n",
       "      <td>Digital_Video_Download</td>\n",
       "      <td>5</td>\n",
       "      <td>fantastic</td>\n",
       "      <td>love watching all the episodes of Dexter, when...</td>\n",
       "      <td>2014-05-09</td>\n",
       "    </tr>\n",
       "    <tr>\n",
       "      <th>3</th>\n",
       "      <td>12268</td>\n",
       "      <td>B000W7JWUA</td>\n",
       "      <td>The Settlers of Catan Board Game - discontinue...</td>\n",
       "      <td>Toys</td>\n",
       "      <td>5</td>\n",
       "      <td>Five Stars</td>\n",
       "      <td>Excellent game!!!</td>\n",
       "      <td>2014-09-19</td>\n",
       "    </tr>\n",
       "    <tr>\n",
       "      <th>4</th>\n",
       "      <td>12677</td>\n",
       "      <td>B005JTAP4S</td>\n",
       "      <td>Peter: A Darkened Fairytale (Vol 1)</td>\n",
       "      <td>Digital_Ebook_Purchase</td>\n",
       "      <td>5</td>\n",
       "      <td>A twist on Tales</td>\n",
       "      <td>This cute, quick read is very different to say...</td>\n",
       "      <td>2013-09-18</td>\n",
       "    </tr>\n",
       "  </tbody>\n",
       "</table>\n",
       "</div>"
      ],
      "text/plain": [
       "          customer_id  product_id  \\\n",
       "review_id                           \n",
       "0               10349  B00MWK7BWG   \n",
       "1               10629  B006CHML4I   \n",
       "2               12136  B00IIFCJX0   \n",
       "3               12268  B000W7JWUA   \n",
       "4               12677  B005JTAP4S   \n",
       "\n",
       "                                               product_title  \\\n",
       "review_id                                                      \n",
       "0                                 My Favourite Faded Fantasy   \n",
       "1          Seiko 5 Men's Automatic Watch with Black Dial ...   \n",
       "2                                            Dexter Season 8   \n",
       "3          The Settlers of Catan Board Game - discontinue...   \n",
       "4                        Peter: A Darkened Fairytale (Vol 1)   \n",
       "\n",
       "                 product_category  star_rating          review_headline  \\\n",
       "review_id                                                                 \n",
       "0                           Music            5               Five Stars   \n",
       "1                         Watches            4  Great watch from casio.   \n",
       "2          Digital_Video_Download            5                fantastic   \n",
       "3                            Toys            5               Five Stars   \n",
       "4          Digital_Ebook_Purchase            5         A twist on Tales   \n",
       "\n",
       "                                                 review_body review_date  \n",
       "review_id                                                                 \n",
       "0                                       The best album ever!  2014-12-29  \n",
       "1          What a great watch. Both watches and strap is ...  2013-10-24  \n",
       "2          love watching all the episodes of Dexter, when...  2014-05-09  \n",
       "3                                          Excellent game!!!  2014-09-19  \n",
       "4          This cute, quick read is very different to say...  2013-09-18  "
      ]
     },
     "execution_count": 10,
     "metadata": {},
     "output_type": "execute_result"
    }
   ],
   "source": [
    "df.head()"
   ]
  },
  {
   "cell_type": "code",
   "execution_count": 94,
   "metadata": {},
   "outputs": [],
   "source": [
    "df['review_date'] = pd.to_datetime(df['review_date'])"
   ]
  },
  {
   "cell_type": "markdown",
   "metadata": {},
   "source": [
    "Below, we check if there are corructed data that cannot be used for further manipulation"
   ]
  },
  {
   "cell_type": "code",
   "execution_count": 12,
   "metadata": {},
   "outputs": [
    {
     "name": "stdout",
     "output_type": "stream",
     "text": [
      "There are 55 of corrupted data\n"
     ]
    }
   ],
   "source": [
    "print(\"There are %d of corrupted data\" % df[df.review_date==\"1900-01-01\"].count()[0])"
   ]
  },
  {
   "cell_type": "markdown",
   "metadata": {},
   "source": [
    "And finally we delete those raws from the our dataset"
   ]
  },
  {
   "cell_type": "code",
   "execution_count": 13,
   "metadata": {},
   "outputs": [],
   "source": [
    "df = df.drop(df[df.review_date==\"1900-01-01\"].index)"
   ]
  },
  {
   "cell_type": "markdown",
   "metadata": {},
   "source": [
    "Check if there are NaN values"
   ]
  },
  {
   "cell_type": "code",
   "execution_count": 15,
   "metadata": {},
   "outputs": [
    {
     "name": "stdout",
     "output_type": "stream",
     "text": [
      "There are 21 of nan values\n"
     ]
    }
   ],
   "source": [
    "print(\"There are %d of nan values\" % df.isnull().values.sum())"
   ]
  },
  {
   "cell_type": "markdown",
   "metadata": {},
   "source": [
    "Removing rows which contain NaN values"
   ]
  },
  {
   "cell_type": "code",
   "execution_count": 16,
   "metadata": {},
   "outputs": [],
   "source": [
    "df = df.dropna()"
   ]
  },
  {
   "cell_type": "markdown",
   "metadata": {},
   "source": [
    "# Filtering of categories with less then 1000 reviews"
   ]
  },
  {
   "cell_type": "markdown",
   "metadata": {},
   "source": [
    "Because there are a lot of categories in our dataset, we decided to exclude some of them and filter them away if they had less than 1000 reviews. The code below shows the methodology that we implemented."
   ]
  },
  {
   "cell_type": "code",
   "execution_count": 19,
   "metadata": {},
   "outputs": [],
   "source": [
    "categories = sorted(df.product_category.unique().tolist())"
   ]
  },
  {
   "cell_type": "code",
   "execution_count": 27,
   "metadata": {},
   "outputs": [
    {
     "name": "stdout",
     "output_type": "stream",
     "text": [
      "CATEGORIES KEEPED (20): Baby, Books, Camera, Digital_Ebook_Purchase, Digital_Music_Purchase, Digital_Video_Download, Electronics, Home, Mobile_Apps, Music, Musical Instruments, PC, Shoes, Sports, Toys, Video, Video DVD, Video Games, Watches, Wireless\n",
      "WE ARE KEEPING 1702443/1705765 (99.81%) REVIEWS\n",
      "\n",
      "CATEGORIES REMOVED (13): Apparel, Automotive, Beauty, Health & Personal Care, Home Entertainment, Home Improvement, Kitchen, Lawn and Garden, Luggage, Office Products, Personal_Care_Appliances, Pet Products, Software\n",
      "WE ARE DISCARDING 3322/1705765 (0.19%) REVIEWS\n"
     ]
    }
   ],
   "source": [
    "tempCategories = []\n",
    "delCategories = []\n",
    "N = 1000 #inferior limit\n",
    "for c in categories:\n",
    "    if(df[df.product_category==c].count()[0])>=N:\n",
    "        tempCategories.append(c)\n",
    "    else:\n",
    "        delCategories.append(c)\n",
    "tot = df.count()[0]\n",
    "NKeep = df[df['product_category'].isin(tempCategories)].count()[0]\n",
    "NDisc = tot-NKeep\n",
    "print(\"CATEGORIES KEEPED (%d): %s\" % (len(tempCategories),\", \".join(tempCategories)))\n",
    "print(\"WE ARE KEEPING %d/%d (%.2f%%) REVIEWS\" % (NKeep,tot,percent(NKeep,tot)))\n",
    "print(\"\\nCATEGORIES REMOVED (%d): %s\" % (len(delCategories),\", \".join(delCategories)))\n",
    "print(\"WE ARE DISCARDING %d/%d (%.2f%%) REVIEWS\" % (NDisc,tot,percent(NDisc,tot)))"
   ]
  },
  {
   "cell_type": "code",
   "execution_count": 28,
   "metadata": {},
   "outputs": [],
   "source": [
    "categories = tempCategories\n",
    "df = df[df['product_category'].isin(categories)]"
   ]
  },
  {
   "cell_type": "markdown",
   "metadata": {},
   "source": [
    "### Number of reviews"
   ]
  },
  {
   "cell_type": "markdown",
   "metadata": {},
   "source": [
    "We import the **seaborn** module to help us create intuitive graphs"
   ]
  },
  {
   "cell_type": "code",
   "execution_count": 29,
   "metadata": {},
   "outputs": [],
   "source": [
    "import seaborn as sns"
   ]
  },
  {
   "cell_type": "markdown",
   "metadata": {},
   "source": [
    "The graph below shows the star rating of the reviews as seen by the customers"
   ]
  },
  {
   "cell_type": "code",
   "execution_count": 84,
   "metadata": {},
   "outputs": [
    {
     "data": {
      "image/png": "[encoded data removed]",
      "text/plain": [
       "<Figure size 1800x720 with 1 Axes>"
      ]
     },
     "metadata": {},
     "output_type": "display_data"
    }
   ],
   "source": [
    "star_table = df[[\"star_rating\",\"product_category\"]].groupby([\"star_rating\"]).count().reset_index()\n",
    "sns.set(font_scale=1.5,style=\"whitegrid\",rc={'figure.figsize':(25,10)})\n",
    "colors = [\"#094074\",\"#3c6997\",\"#5adbff\",\"#ffdd4a\",\"#fe9000\"]\n",
    "sns.barplot(x =\"star_rating\",y =\"product_category\",palette=colors, data=star_table )\n",
    "plt.xlabel(\"Star Rating\")\n",
    "plt.ylabel(\"Number of Reviews\")\n",
    "plt.show()"
   ]
  },
  {
   "cell_type": "markdown",
   "metadata": {},
   "source": [
    "And this graph shows the distribution of the reviews based on the category of the product"
   ]
  },
  {
   "cell_type": "code",
   "execution_count": 93,
   "metadata": {},
   "outputs": [
    {
     "data": {
      "image/png": "[encoded data removed]",
      "text/plain": [
       "<Figure size 1800x720 with 1 Axes>"
      ]
     },
     "metadata": {},
     "output_type": "display_data"
    }
   ],
   "source": [
    "category_table = df[[\"product_category\",\"review_headline\"]].groupby([\"product_category\"]).count().reset_index().sort_values([\"review_headline\"])\n",
    "sns.barplot(x=\"review_headline\",y =\"product_category\", data=category_table)\n",
    "plt.xlabel(\"Number of Reviews\")\n",
    "plt.ylabel(\"Product Category\")\n",
    "plt.show()"
   ]
  },
  {
   "cell_type": "markdown",
   "metadata": {},
   "source": [
    "# Structures "
   ]
  },
  {
   "cell_type": "markdown",
   "metadata": {},
   "source": [
    "In order for us to work faster and me more immediate, we decided to save the dataframe into a pickle file and store it locally. That saves us time because we read directly from the .pkl file instead of running again the code to reach a certain point."
   ]
  },
  {
   "cell_type": "code",
   "execution_count": 88,
   "metadata": {},
   "outputs": [],
   "source": [
    "df.to_pickle(\"%sAmazonDataProject.pkl\" % PATH_DATA)"
   ]
  },
  {
   "cell_type": "code",
   "execution_count": 89,
   "metadata": {},
   "outputs": [],
   "source": [
    "df_no_text = (df.drop(labels=[\"review_headline\",\"review_body\"],axis=1))"
   ]
  },
  {
   "cell_type": "code",
   "execution_count": 90,
   "metadata": {},
   "outputs": [
    {
     "data": {
      "text/html": [
       "<div>\n",
       "<style scoped>\n",
       "    .dataframe tbody tr th:only-of-type {\n",
       "        vertical-align: middle;\n",
       "    }\n",
       "\n",
       "    .dataframe tbody tr th {\n",
       "        vertical-align: top;\n",
       "    }\n",
       "\n",
       "    .dataframe thead th {\n",
       "        text-align: right;\n",
       "    }\n",
       "</style>\n",
       "<table border=\"1\" class=\"dataframe\">\n",
       "  <thead>\n",
       "    <tr style=\"text-align: right;\">\n",
       "      <th></th>\n",
       "      <th>customer_id</th>\n",
       "      <th>product_id</th>\n",
       "      <th>product_title</th>\n",
       "      <th>product_category</th>\n",
       "      <th>star_rating</th>\n",
       "      <th>review_date</th>\n",
       "    </tr>\n",
       "    <tr>\n",
       "      <th>review_id</th>\n",
       "      <th></th>\n",
       "      <th></th>\n",
       "      <th></th>\n",
       "      <th></th>\n",
       "      <th></th>\n",
       "      <th></th>\n",
       "    </tr>\n",
       "  </thead>\n",
       "  <tbody>\n",
       "    <tr>\n",
       "      <th>0</th>\n",
       "      <td>10349</td>\n",
       "      <td>B00MWK7BWG</td>\n",
       "      <td>My Favourite Faded Fantasy</td>\n",
       "      <td>Music</td>\n",
       "      <td>5</td>\n",
       "      <td>2014-12-29</td>\n",
       "    </tr>\n",
       "    <tr>\n",
       "      <th>1</th>\n",
       "      <td>10629</td>\n",
       "      <td>B006CHML4I</td>\n",
       "      <td>Seiko 5 Men's Automatic Watch with Black Dial ...</td>\n",
       "      <td>Watches</td>\n",
       "      <td>4</td>\n",
       "      <td>2013-10-24</td>\n",
       "    </tr>\n",
       "    <tr>\n",
       "      <th>2</th>\n",
       "      <td>12136</td>\n",
       "      <td>B00IIFCJX0</td>\n",
       "      <td>Dexter Season 8</td>\n",
       "      <td>Digital_Video_Download</td>\n",
       "      <td>5</td>\n",
       "      <td>2014-05-09</td>\n",
       "    </tr>\n",
       "    <tr>\n",
       "      <th>3</th>\n",
       "      <td>12268</td>\n",
       "      <td>B000W7JWUA</td>\n",
       "      <td>The Settlers of Catan Board Game - discontinue...</td>\n",
       "      <td>Toys</td>\n",
       "      <td>5</td>\n",
       "      <td>2014-09-19</td>\n",
       "    </tr>\n",
       "    <tr>\n",
       "      <th>4</th>\n",
       "      <td>12677</td>\n",
       "      <td>B005JTAP4S</td>\n",
       "      <td>Peter: A Darkened Fairytale (Vol 1)</td>\n",
       "      <td>Digital_Ebook_Purchase</td>\n",
       "      <td>5</td>\n",
       "      <td>2013-09-18</td>\n",
       "    </tr>\n",
       "  </tbody>\n",
       "</table>\n",
       "</div>"
      ],
      "text/plain": [
       "          customer_id  product_id  \\\n",
       "review_id                           \n",
       "0               10349  B00MWK7BWG   \n",
       "1               10629  B006CHML4I   \n",
       "2               12136  B00IIFCJX0   \n",
       "3               12268  B000W7JWUA   \n",
       "4               12677  B005JTAP4S   \n",
       "\n",
       "                                               product_title  \\\n",
       "review_id                                                      \n",
       "0                                 My Favourite Faded Fantasy   \n",
       "1          Seiko 5 Men's Automatic Watch with Black Dial ...   \n",
       "2                                            Dexter Season 8   \n",
       "3          The Settlers of Catan Board Game - discontinue...   \n",
       "4                        Peter: A Darkened Fairytale (Vol 1)   \n",
       "\n",
       "                 product_category  star_rating review_date  \n",
       "review_id                                                   \n",
       "0                           Music            5  2014-12-29  \n",
       "1                         Watches            4  2013-10-24  \n",
       "2          Digital_Video_Download            5  2014-05-09  \n",
       "3                            Toys            5  2014-09-19  \n",
       "4          Digital_Ebook_Purchase            5  2013-09-18  "
      ]
     },
     "execution_count": 90,
     "metadata": {},
     "output_type": "execute_result"
    }
   ],
   "source": [
    "df_no_text.head()"
   ]
  },
  {
   "cell_type": "code",
   "execution_count": 92,
   "metadata": {},
   "outputs": [],
   "source": [
    "df_no_text.to_pickle(\"%sAmazonDataProjectNoText.pkl\" % PATH_DATA)"
   ]
  },
  {
   "cell_type": "code",
   "execution_count": null,
   "metadata": {},
   "outputs": [],
   "source": []
  }
 ],
 "metadata": {
  "kernelspec": {
   "display_name": "Python 2",
   "language": "python",
   "name": "python2"
  },
  "language_info": {
   "codemirror_mode": {
    "name": "ipython",
    "version": 2
   },
   "file_extension": ".py",
   "mimetype": "text/x-python",
   "name": "python",
   "nbconvert_exporter": "python",
   "pygments_lexer": "ipython2",
   "version": "2.7.15"
  }
 },
 "nbformat": 4,
 "nbformat_minor": 2
}
