{
 "cells": [
  {
   "cell_type": "markdown",
   "metadata": {},
   "source": [
    "# Amazon Customer Reviews Dataset\n",
    "Amazon Customer Reviews (a.k.a. Product Reviews) is one of Amazon’s iconic products. In a period of over two decades since the first review in 1995, millions of Amazon customers have contributed over a hundred million reviews to express opinions and describe their experiences regarding products on the Amazon.com website. Over 130+ million customer reviews are available to researchers as part of this dataset."
   ]
  },
  {
   "cell_type": "markdown",
   "metadata": {},
   "source": [
    "### Documentation: \n",
    "https://s3.amazonaws.com/amazon-reviews-pds/readme.html"
   ]
  },
  {
   "cell_type": "markdown",
   "metadata": {},
   "source": [
    "### List of databases link: \n",
    "https://s3.amazonaws.com/amazon-reviews-pds/tsv/index.txt"
   ]
  },
  {
   "cell_type": "markdown",
   "metadata": {},
   "source": [
    "### Database's link: \n",
    "https://s3.amazonaws.com/amazon-reviews-pds/tsv/amazon_reviews_multilingual_UK_v1_00.tsv.gz"
   ]
  },
  {
   "cell_type": "code",
   "execution_count": 1,
   "metadata": {
    "collapsed": true
   },
   "outputs": [],
   "source": [
    "import numpy as np\n",
    "import pandas as pd\n",
    "import datetime\n",
    "import pickle"
   ]
  },
  {
   "cell_type": "code",
   "execution_count": 2,
   "metadata": {
    "collapsed": true
   },
   "outputs": [],
   "source": [
    "PATH_DATA = \"V:/Programmazione/Amazon/\""
   ]
  },
  {
   "cell_type": "markdown",
   "metadata": {},
   "source": [
    "We recognize that we have some data which are \"corrupted\". For those data we are goning to set the date to 1900-01-01. Then we are going to delete them."
   ]
  },
  {
   "cell_type": "code",
   "execution_count": 3,
   "metadata": {
    "collapsed": true
   },
   "outputs": [],
   "source": [
    "def parserDate(x):\n",
    "    try:\n",
    "        return datetime.datetime.strptime(x, '%Y-%m-%d')\n",
    "    except ValueError:\n",
    "        return datetime.datetime.strptime(\"1900-01-01\", '%Y-%m-%d')"
   ]
  },
  {
   "cell_type": "code",
   "execution_count": 4,
   "metadata": {
    "collapsed": true
   },
   "outputs": [],
   "source": [
    "df =  pd.read_csv(\n",
    "    \"%sdata.tsv\" % PATH_DATA, \n",
    "    encoding=\"utf-8\", \n",
    "    header=0,\n",
    "    sep='\\t',\n",
    "    usecols=['review_id','customer_id', 'product_id', 'product_title','product_category','star_rating','helpful_votes','total_votes','verified_purchase','review_headline','review_body','review_date'],\n",
    "    index_col = 'review_id',\n",
    "    dtype = {\n",
    "        #'marketplace':str,\n",
    "        'customer_id':str,\n",
    "        'review_id':str,\n",
    "        'product_id':str,\n",
    "        #'product_parent':str,\n",
    "        'product_title':str,\n",
    "        'product_category':str,\n",
    "        'star_rating': np.uint8,\n",
    "        'helpful_votes': np.uint16,\n",
    "        'total_votes': np.uint16,\n",
    "        #'vine':str,\n",
    "        'verified_purchase':bool,\n",
    "        'review_headline':str,\n",
    "        'review_body':str,\n",
    "        },\n",
    "    parse_dates = ['review_date'],\n",
    "    true_values = [\"Y\"],\n",
    "    false_values  = [\"N\"],\n",
    "    skipinitialspace = True,\n",
    "    date_parser=parserDate,\n",
    "    infer_datetime_format = True,\n",
    "    error_bad_lines = False,\n",
    "    warn_bad_lines = True,\n",
    "    engine='c',\n",
    "    )"
   ]
  },
  {
   "cell_type": "code",
   "execution_count": 5,
   "metadata": {},
   "outputs": [
    {
     "data": {
      "text/html": [
       "<div>\n",
       "<style>\n",
       "    .dataframe thead tr:only-child th {\n",
       "        text-align: right;\n",
       "    }\n",
       "\n",
       "    .dataframe thead th {\n",
       "        text-align: left;\n",
       "    }\n",
       "\n",
       "    .dataframe tbody tr th {\n",
       "        vertical-align: top;\n",
       "    }\n",
       "</style>\n",
       "<table border=\"1\" class=\"dataframe\">\n",
       "  <thead>\n",
       "    <tr style=\"text-align: right;\">\n",
       "      <th></th>\n",
       "      <th>customer_id</th>\n",
       "      <th>product_id</th>\n",
       "      <th>product_title</th>\n",
       "      <th>product_category</th>\n",
       "      <th>star_rating</th>\n",
       "      <th>helpful_votes</th>\n",
       "      <th>total_votes</th>\n",
       "      <th>verified_purchase</th>\n",
       "      <th>review_headline</th>\n",
       "      <th>review_body</th>\n",
       "      <th>review_date</th>\n",
       "    </tr>\n",
       "    <tr>\n",
       "      <th>review_id</th>\n",
       "      <th></th>\n",
       "      <th></th>\n",
       "      <th></th>\n",
       "      <th></th>\n",
       "      <th></th>\n",
       "      <th></th>\n",
       "      <th></th>\n",
       "      <th></th>\n",
       "      <th></th>\n",
       "      <th></th>\n",
       "      <th></th>\n",
       "    </tr>\n",
       "  </thead>\n",
       "  <tbody>\n",
       "    <tr>\n",
       "      <th>R2YVNBBMXD8KVJ</th>\n",
       "      <td>10349</td>\n",
       "      <td>B00MWK7BWG</td>\n",
       "      <td>My Favourite Faded Fantasy</td>\n",
       "      <td>Music</td>\n",
       "      <td>5</td>\n",
       "      <td>0</td>\n",
       "      <td>0</td>\n",
       "      <td>True</td>\n",
       "      <td>Five Stars</td>\n",
       "      <td>The best album ever!</td>\n",
       "      <td>2014-12-29</td>\n",
       "    </tr>\n",
       "    <tr>\n",
       "      <th>R2K4BOL8MN1TTY</th>\n",
       "      <td>10629</td>\n",
       "      <td>B006CHML4I</td>\n",
       "      <td>Seiko 5 Men's Automatic Watch with Black Dial ...</td>\n",
       "      <td>Watches</td>\n",
       "      <td>4</td>\n",
       "      <td>0</td>\n",
       "      <td>0</td>\n",
       "      <td>True</td>\n",
       "      <td>Great watch from casio.</td>\n",
       "      <td>What a great watch. Both watches and strap is ...</td>\n",
       "      <td>2013-10-24</td>\n",
       "    </tr>\n",
       "    <tr>\n",
       "      <th>R3P40IEALROVCH</th>\n",
       "      <td>12136</td>\n",
       "      <td>B00IIFCJX0</td>\n",
       "      <td>Dexter Season 8</td>\n",
       "      <td>Digital_Video_Download</td>\n",
       "      <td>5</td>\n",
       "      <td>0</td>\n",
       "      <td>0</td>\n",
       "      <td>True</td>\n",
       "      <td>fantastic</td>\n",
       "      <td>love watching all the episodes of Dexter, when...</td>\n",
       "      <td>2014-05-09</td>\n",
       "    </tr>\n",
       "    <tr>\n",
       "      <th>R25XL1WWYRDLA9</th>\n",
       "      <td>12268</td>\n",
       "      <td>B000W7JWUA</td>\n",
       "      <td>The Settlers of Catan Board Game - discontinue...</td>\n",
       "      <td>Toys</td>\n",
       "      <td>5</td>\n",
       "      <td>0</td>\n",
       "      <td>0</td>\n",
       "      <td>True</td>\n",
       "      <td>Five Stars</td>\n",
       "      <td>Excellent game!!!</td>\n",
       "      <td>2014-09-19</td>\n",
       "    </tr>\n",
       "    <tr>\n",
       "      <th>RVTVB9YDXSFYH</th>\n",
       "      <td>12677</td>\n",
       "      <td>B005JTAP4S</td>\n",
       "      <td>Peter: A Darkened Fairytale (Vol 1)</td>\n",
       "      <td>Digital_Ebook_Purchase</td>\n",
       "      <td>5</td>\n",
       "      <td>12</td>\n",
       "      <td>12</td>\n",
       "      <td>False</td>\n",
       "      <td>A twist on Tales</td>\n",
       "      <td>This cute, quick read is very different to say...</td>\n",
       "      <td>2013-09-18</td>\n",
       "    </tr>\n",
       "  </tbody>\n",
       "</table>\n",
       "</div>"
      ],
      "text/plain": [
       "               customer_id  product_id  \\\n",
       "review_id                                \n",
       "R2YVNBBMXD8KVJ       10349  B00MWK7BWG   \n",
       "R2K4BOL8MN1TTY       10629  B006CHML4I   \n",
       "R3P40IEALROVCH       12136  B00IIFCJX0   \n",
       "R25XL1WWYRDLA9       12268  B000W7JWUA   \n",
       "RVTVB9YDXSFYH        12677  B005JTAP4S   \n",
       "\n",
       "                                                    product_title  \\\n",
       "review_id                                                           \n",
       "R2YVNBBMXD8KVJ                         My Favourite Faded Fantasy   \n",
       "R2K4BOL8MN1TTY  Seiko 5 Men's Automatic Watch with Black Dial ...   \n",
       "R3P40IEALROVCH                                    Dexter Season 8   \n",
       "R25XL1WWYRDLA9  The Settlers of Catan Board Game - discontinue...   \n",
       "RVTVB9YDXSFYH                 Peter: A Darkened Fairytale (Vol 1)   \n",
       "\n",
       "                      product_category  star_rating  helpful_votes  \\\n",
       "review_id                                                            \n",
       "R2YVNBBMXD8KVJ                   Music            5              0   \n",
       "R2K4BOL8MN1TTY                 Watches            4              0   \n",
       "R3P40IEALROVCH  Digital_Video_Download            5              0   \n",
       "R25XL1WWYRDLA9                    Toys            5              0   \n",
       "RVTVB9YDXSFYH   Digital_Ebook_Purchase            5             12   \n",
       "\n",
       "                total_votes  verified_purchase          review_headline  \\\n",
       "review_id                                                                 \n",
       "R2YVNBBMXD8KVJ            0               True               Five Stars   \n",
       "R2K4BOL8MN1TTY            0               True  Great watch from casio.   \n",
       "R3P40IEALROVCH            0               True                fantastic   \n",
       "R25XL1WWYRDLA9            0               True               Five Stars   \n",
       "RVTVB9YDXSFYH            12              False         A twist on Tales   \n",
       "\n",
       "                                                      review_body review_date  \n",
       "review_id                                                                      \n",
       "R2YVNBBMXD8KVJ                               The best album ever!  2014-12-29  \n",
       "R2K4BOL8MN1TTY  What a great watch. Both watches and strap is ...  2013-10-24  \n",
       "R3P40IEALROVCH  love watching all the episodes of Dexter, when...  2014-05-09  \n",
       "R25XL1WWYRDLA9                                  Excellent game!!!  2014-09-19  \n",
       "RVTVB9YDXSFYH   This cute, quick read is very different to say...  2013-09-18  "
      ]
     },
     "execution_count": 5,
     "metadata": {},
     "output_type": "execute_result"
    }
   ],
   "source": [
    "df.head()"
   ]
  },
  {
   "cell_type": "code",
   "execution_count": 6,
   "metadata": {
    "collapsed": true
   },
   "outputs": [],
   "source": [
    "df['review_date'] = pd.to_datetime(df['review_date'])"
   ]
  },
  {
   "cell_type": "code",
   "execution_count": 7,
   "metadata": {},
   "outputs": [
    {
     "data": {
      "text/plain": [
       "customer_id                  object\n",
       "product_id                   object\n",
       "product_title                object\n",
       "product_category             object\n",
       "star_rating                   uint8\n",
       "helpful_votes                uint16\n",
       "total_votes                  uint16\n",
       "verified_purchase              bool\n",
       "review_headline              object\n",
       "review_body                  object\n",
       "review_date          datetime64[ns]\n",
       "dtype: object"
      ]
     },
     "execution_count": 7,
     "metadata": {},
     "output_type": "execute_result"
    }
   ],
   "source": [
    "df.dtypes"
   ]
  },
  {
   "cell_type": "code",
   "execution_count": 8,
   "metadata": {},
   "outputs": [
    {
     "data": {
      "text/plain": [
       "customer_id          55\n",
       "product_id           55\n",
       "product_title        55\n",
       "product_category     55\n",
       "star_rating          55\n",
       "helpful_votes        55\n",
       "total_votes          55\n",
       "verified_purchase    55\n",
       "review_headline      55\n",
       "review_body          55\n",
       "review_date          55\n",
       "dtype: int64"
      ]
     },
     "execution_count": 8,
     "metadata": {},
     "output_type": "execute_result"
    }
   ],
   "source": [
    "df[df.review_date==\"1900-01-01\"].count()"
   ]
  },
  {
   "cell_type": "code",
   "execution_count": 9,
   "metadata": {
    "collapsed": true
   },
   "outputs": [],
   "source": [
    "df = df.drop(df[df.review_date==\"1900-01-01\"].index)"
   ]
  },
  {
   "cell_type": "code",
   "execution_count": 10,
   "metadata": {},
   "outputs": [
    {
     "data": {
      "text/plain": [
       "customer_id          0\n",
       "product_id           0\n",
       "product_title        0\n",
       "product_category     0\n",
       "star_rating          0\n",
       "helpful_votes        0\n",
       "total_votes          0\n",
       "verified_purchase    0\n",
       "review_headline      0\n",
       "review_body          0\n",
       "review_date          0\n",
       "dtype: int64"
      ]
     },
     "execution_count": 10,
     "metadata": {},
     "output_type": "execute_result"
    }
   ],
   "source": [
    "df[df.review_date==\"1900-01-01\"].count()"
   ]
  },
  {
   "cell_type": "code",
   "execution_count": 11,
   "metadata": {},
   "outputs": [],
   "source": [
    "customersDict = dict()\n",
    "for index,row in df.iterrows():\n",
    "    try:\n",
    "        customersDict[row.customer_id].append(row.product_id)\n",
    "    except KeyError as k:\n",
    "        customersDict[row.customer_id] = [row.product_id]"
   ]
  },
  {
   "cell_type": "code",
   "execution_count": 12,
   "metadata": {},
   "outputs": [],
   "source": [
    "with open('%scustomersDict.pickle'%PATH_DATA, 'wb') as handle:\n",
    "    pickle.dump(customersDict, handle, protocol=pickle.HIGHEST_PROTOCOL)"
   ]
  },
  {
   "cell_type": "code",
   "execution_count": 14,
   "metadata": {},
   "outputs": [],
   "source": [
    "productsDict = dict()\n",
    "for index,row in df.iterrows():\n",
    "    try:\n",
    "        productsDict[row.product_id].append(row.customer_id)\n",
    "    except KeyError as k:\n",
    "        productsDict[row.product_id] = [row.customer_id]"
   ]
  },
  {
   "cell_type": "code",
   "execution_count": 15,
   "metadata": {
    "collapsed": true
   },
   "outputs": [],
   "source": [
    "with open('%sproductsDict.pickle'%PATH_DATA, 'wb') as handle:\n",
    "    pickle.dump(productsDict, handle, protocol=pickle.HIGHEST_PROTOCOL)"
   ]
  },
  {
   "cell_type": "code",
   "execution_count": 16,
   "metadata": {
    "collapsed": true
   },
   "outputs": [],
   "source": [
    "df.to_pickle(\"%sAmazonDataProject.pkl\" % PATH_DATA)"
   ]
  },
  {
   "cell_type": "code",
   "execution_count": 17,
   "metadata": {
    "collapsed": true
   },
   "outputs": [],
   "source": [
    "df_no_text = (df.drop(labels=[\"review_headline\",\"review_body\"],axis=1))"
   ]
  },
  {
   "cell_type": "code",
   "execution_count": 18,
   "metadata": {
    "collapsed": true
   },
   "outputs": [],
   "source": [
    "df_no_text.to_pickle(\"%sAmazonDataProjectNoText.pkl\" % PATH_DATA)"
   ]
  },
  {
   "cell_type": "code",
   "execution_count": 19,
   "metadata": {},
   "outputs": [
    {
     "data": {
      "text/html": [
       "<div>\n",
       "<style>\n",
       "    .dataframe thead tr:only-child th {\n",
       "        text-align: right;\n",
       "    }\n",
       "\n",
       "    .dataframe thead th {\n",
       "        text-align: left;\n",
       "    }\n",
       "\n",
       "    .dataframe tbody tr th {\n",
       "        vertical-align: top;\n",
       "    }\n",
       "</style>\n",
       "<table border=\"1\" class=\"dataframe\">\n",
       "  <thead>\n",
       "    <tr style=\"text-align: right;\">\n",
       "      <th></th>\n",
       "      <th>customer_id</th>\n",
       "      <th>product_id</th>\n",
       "      <th>product_title</th>\n",
       "      <th>product_category</th>\n",
       "      <th>star_rating</th>\n",
       "      <th>helpful_votes</th>\n",
       "      <th>total_votes</th>\n",
       "      <th>verified_purchase</th>\n",
       "      <th>review_date</th>\n",
       "    </tr>\n",
       "    <tr>\n",
       "      <th>review_id</th>\n",
       "      <th></th>\n",
       "      <th></th>\n",
       "      <th></th>\n",
       "      <th></th>\n",
       "      <th></th>\n",
       "      <th></th>\n",
       "      <th></th>\n",
       "      <th></th>\n",
       "      <th></th>\n",
       "    </tr>\n",
       "  </thead>\n",
       "  <tbody>\n",
       "    <tr>\n",
       "      <th>R2YVNBBMXD8KVJ</th>\n",
       "      <td>10349</td>\n",
       "      <td>B00MWK7BWG</td>\n",
       "      <td>My Favourite Faded Fantasy</td>\n",
       "      <td>Music</td>\n",
       "      <td>5</td>\n",
       "      <td>0</td>\n",
       "      <td>0</td>\n",
       "      <td>True</td>\n",
       "      <td>2014-12-29</td>\n",
       "    </tr>\n",
       "    <tr>\n",
       "      <th>R2K4BOL8MN1TTY</th>\n",
       "      <td>10629</td>\n",
       "      <td>B006CHML4I</td>\n",
       "      <td>Seiko 5 Men's Automatic Watch with Black Dial ...</td>\n",
       "      <td>Watches</td>\n",
       "      <td>4</td>\n",
       "      <td>0</td>\n",
       "      <td>0</td>\n",
       "      <td>True</td>\n",
       "      <td>2013-10-24</td>\n",
       "    </tr>\n",
       "    <tr>\n",
       "      <th>R3P40IEALROVCH</th>\n",
       "      <td>12136</td>\n",
       "      <td>B00IIFCJX0</td>\n",
       "      <td>Dexter Season 8</td>\n",
       "      <td>Digital_Video_Download</td>\n",
       "      <td>5</td>\n",
       "      <td>0</td>\n",
       "      <td>0</td>\n",
       "      <td>True</td>\n",
       "      <td>2014-05-09</td>\n",
       "    </tr>\n",
       "    <tr>\n",
       "      <th>R25XL1WWYRDLA9</th>\n",
       "      <td>12268</td>\n",
       "      <td>B000W7JWUA</td>\n",
       "      <td>The Settlers of Catan Board Game - discontinue...</td>\n",
       "      <td>Toys</td>\n",
       "      <td>5</td>\n",
       "      <td>0</td>\n",
       "      <td>0</td>\n",
       "      <td>True</td>\n",
       "      <td>2014-09-19</td>\n",
       "    </tr>\n",
       "    <tr>\n",
       "      <th>RVTVB9YDXSFYH</th>\n",
       "      <td>12677</td>\n",
       "      <td>B005JTAP4S</td>\n",
       "      <td>Peter: A Darkened Fairytale (Vol 1)</td>\n",
       "      <td>Digital_Ebook_Purchase</td>\n",
       "      <td>5</td>\n",
       "      <td>12</td>\n",
       "      <td>12</td>\n",
       "      <td>False</td>\n",
       "      <td>2013-09-18</td>\n",
       "    </tr>\n",
       "  </tbody>\n",
       "</table>\n",
       "</div>"
      ],
      "text/plain": [
       "               customer_id  product_id  \\\n",
       "review_id                                \n",
       "R2YVNBBMXD8KVJ       10349  B00MWK7BWG   \n",
       "R2K4BOL8MN1TTY       10629  B006CHML4I   \n",
       "R3P40IEALROVCH       12136  B00IIFCJX0   \n",
       "R25XL1WWYRDLA9       12268  B000W7JWUA   \n",
       "RVTVB9YDXSFYH        12677  B005JTAP4S   \n",
       "\n",
       "                                                    product_title  \\\n",
       "review_id                                                           \n",
       "R2YVNBBMXD8KVJ                         My Favourite Faded Fantasy   \n",
       "R2K4BOL8MN1TTY  Seiko 5 Men's Automatic Watch with Black Dial ...   \n",
       "R3P40IEALROVCH                                    Dexter Season 8   \n",
       "R25XL1WWYRDLA9  The Settlers of Catan Board Game - discontinue...   \n",
       "RVTVB9YDXSFYH                 Peter: A Darkened Fairytale (Vol 1)   \n",
       "\n",
       "                      product_category  star_rating  helpful_votes  \\\n",
       "review_id                                                            \n",
       "R2YVNBBMXD8KVJ                   Music            5              0   \n",
       "R2K4BOL8MN1TTY                 Watches            4              0   \n",
       "R3P40IEALROVCH  Digital_Video_Download            5              0   \n",
       "R25XL1WWYRDLA9                    Toys            5              0   \n",
       "RVTVB9YDXSFYH   Digital_Ebook_Purchase            5             12   \n",
       "\n",
       "                total_votes  verified_purchase review_date  \n",
       "review_id                                                   \n",
       "R2YVNBBMXD8KVJ            0               True  2014-12-29  \n",
       "R2K4BOL8MN1TTY            0               True  2013-10-24  \n",
       "R3P40IEALROVCH            0               True  2014-05-09  \n",
       "R25XL1WWYRDLA9            0               True  2014-09-19  \n",
       "RVTVB9YDXSFYH            12              False  2013-09-18  "
      ]
     },
     "execution_count": 19,
     "metadata": {},
     "output_type": "execute_result"
    }
   ],
   "source": [
    "df_no_text.head()"
   ]
  },
  {
   "cell_type": "code",
   "execution_count": 20,
   "metadata": {},
   "outputs": [
    {
     "data": {
      "text/plain": [
       "customer_id                  object\n",
       "product_id                   object\n",
       "product_title                object\n",
       "product_category             object\n",
       "star_rating                   uint8\n",
       "helpful_votes                uint16\n",
       "total_votes                  uint16\n",
       "verified_purchase              bool\n",
       "review_date          datetime64[ns]\n",
       "dtype: object"
      ]
     },
     "execution_count": 20,
     "metadata": {},
     "output_type": "execute_result"
    }
   ],
   "source": [
    "df_no_text.dtypes"
   ]
  },
  {
   "cell_type": "code",
   "execution_count": null,
   "metadata": {
    "collapsed": true
   },
   "outputs": [],
   "source": []
  }
 ],
 "metadata": {
  "kernelspec": {
   "display_name": "Python 2",
   "language": "python",
   "name": "python2"
  },
  "language_info": {
   "codemirror_mode": {
    "name": "ipython",
    "version": 2
   },
   "file_extension": ".py",
   "mimetype": "text/x-python",
   "name": "python",
   "nbconvert_exporter": "python",
   "pygments_lexer": "ipython2",
   "version": "2.7.13"
  }
 },
 "nbformat": 4,
 "nbformat_minor": 2
}
