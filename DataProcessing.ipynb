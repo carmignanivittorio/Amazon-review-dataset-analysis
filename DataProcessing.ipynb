{
 "cells": [
  {
   "cell_type": "markdown",
   "metadata": {},
   "source": [
    "# Amazon Customer Reviews Dataset\n",
    "Amazon Customer Reviews (a.k.a. Product Reviews) is one of Amazon’s iconic products. In a period of over two decades since the first review in 1995, millions of Amazon customers have contributed over a hundred million reviews to express opinions and describe their experiences regarding products on the Amazon.com website. Over 130+ million customer reviews are available to researchers as part of this dataset."
   ]
  },
  {
   "cell_type": "markdown",
   "metadata": {},
   "source": [
    "### Documentation: \n",
    "https://s3.amazonaws.com/amazon-reviews-pds/readme.html"
   ]
  },
  {
   "cell_type": "markdown",
   "metadata": {},
   "source": [
    "### List of databases link: \n",
    "https://s3.amazonaws.com/amazon-reviews-pds/tsv/index.txt"
   ]
  },
  {
   "cell_type": "markdown",
   "metadata": {},
   "source": [
    "### Database's link: \n",
    "https://s3.amazonaws.com/amazon-reviews-pds/tsv/amazon_reviews_multilingual_UK_v1_00.tsv.gz"
   ]
  },
  {
   "cell_type": "code",
   "execution_count": 2,
   "metadata": {
    "collapsed": true
   },
   "outputs": [],
   "source": [
    "import numpy as np\n",
    "import pandas as pd\n",
    "import datetime"
   ]
  },
  {
   "cell_type": "code",
   "execution_count": 3,
   "metadata": {
    "collapsed": true
   },
   "outputs": [],
   "source": [
    "PATH_DATA = \"V:/Programmazione/Amazon/\""
   ]
  },
  {
   "cell_type": "markdown",
   "metadata": {},
   "source": [
    "We recognize that we have some data which are \"corrupted\". For those data we are goning to set the date to 1900-01-01. Then we are going to delete them."
   ]
  },
  {
   "cell_type": "code",
   "execution_count": 4,
   "metadata": {
    "collapsed": true
   },
   "outputs": [],
   "source": [
    "def parserDate(x):\n",
    "    try:\n",
    "        return datetime.datetime.strptime(x, '%Y-%m-%d')\n",
    "    except ValueError:\n",
    "        return datetime.datetime.strptime(\"1900-01-01\", '%Y-%m-%d')"
   ]
  },
  {
   "cell_type": "code",
   "execution_count": 5,
   "metadata": {
    "collapsed": true
   },
   "outputs": [],
   "source": [
    "df =  pd.read_csv(\n",
    "    \"%sdata.tsv\" % PATH_DATA, \n",
    "    encoding=\"utf-8\", \n",
    "    header=0,\n",
    "    sep='\\t',\n",
    "    usecols=['review_id','customer_id', 'product_id', 'product_title','product_category','star_rating','helpful_votes','total_votes','verified_purchase','review_headline','review_body','review_date'],\n",
    "    index_col = 'review_id',\n",
    "    dtype = {\n",
    "        #'marketplace':str,\n",
    "        'customer_id':str,\n",
    "        'review_id':str,\n",
    "        'product_id':str,\n",
    "        #'product_parent':str,\n",
    "        'product_title':str,\n",
    "        'product_category':str,\n",
    "        'star_rating': np.uint8,\n",
    "        'helpful_votes': np.uint16,\n",
    "        'total_votes': np.uint16,\n",
    "        #'vine':str,\n",
    "        'verified_purchase':bool,\n",
    "        'review_headline':str,\n",
    "        'review_body':str,\n",
    "        },\n",
    "    parse_dates = ['review_date'],\n",
    "    true_values = [\"Y\"],\n",
    "    false_values  = [\"N\"],\n",
    "    skipinitialspace = True,\n",
    "    date_parser=parserDate,\n",
    "    infer_datetime_format = True,\n",
    "    error_bad_lines = False,\n",
    "    warn_bad_lines = True,\n",
    "    engine='c',\n",
    "    )"
   ]
  },
  {
   "cell_type": "code",
   "execution_count": 6,
   "metadata": {},
   "outputs": [
    {
     "data": {
      "text/html": [
       "<div>\n",
       "<style>\n",
       "    .dataframe thead tr:only-child th {\n",
       "        text-align: right;\n",
       "    }\n",
       "\n",
       "    .dataframe thead th {\n",
       "        text-align: left;\n",
       "    }\n",
       "\n",
       "    .dataframe tbody tr th {\n",
       "        vertical-align: top;\n",
       "    }\n",
       "</style>\n",
       "<table border=\"1\" class=\"dataframe\">\n",
       "  <thead>\n",
       "    <tr style=\"text-align: right;\">\n",
       "      <th></th>\n",
       "      <th>customer_id</th>\n",
       "      <th>product_id</th>\n",
       "      <th>product_title</th>\n",
       "      <th>product_category</th>\n",
       "      <th>star_rating</th>\n",
       "      <th>helpful_votes</th>\n",
       "      <th>total_votes</th>\n",
       "      <th>verified_purchase</th>\n",
       "      <th>review_headline</th>\n",
       "      <th>review_body</th>\n",
       "      <th>review_date</th>\n",
       "    </tr>\n",
       "    <tr>\n",
       "      <th>review_id</th>\n",
       "      <th></th>\n",
       "      <th></th>\n",
       "      <th></th>\n",
       "      <th></th>\n",
       "      <th></th>\n",
       "      <th></th>\n",
       "      <th></th>\n",
       "      <th></th>\n",
       "      <th></th>\n",
       "      <th></th>\n",
       "      <th></th>\n",
       "    </tr>\n",
       "  </thead>\n",
       "  <tbody>\n",
       "    <tr>\n",
       "      <th>R2YVNBBMXD8KVJ</th>\n",
       "      <td>10349</td>\n",
       "      <td>B00MWK7BWG</td>\n",
       "      <td>My Favourite Faded Fantasy</td>\n",
       "      <td>Music</td>\n",
       "      <td>5</td>\n",
       "      <td>0</td>\n",
       "      <td>0</td>\n",
       "      <td>True</td>\n",
       "      <td>Five Stars</td>\n",
       "      <td>The best album ever!</td>\n",
       "      <td>2014-12-29</td>\n",
       "    </tr>\n",
       "    <tr>\n",
       "      <th>R2K4BOL8MN1TTY</th>\n",
       "      <td>10629</td>\n",
       "      <td>B006CHML4I</td>\n",
       "      <td>Seiko 5 Men's Automatic Watch with Black Dial ...</td>\n",
       "      <td>Watches</td>\n",
       "      <td>4</td>\n",
       "      <td>0</td>\n",
       "      <td>0</td>\n",
       "      <td>True</td>\n",
       "      <td>Great watch from casio.</td>\n",
       "      <td>What a great watch. Both watches and strap is ...</td>\n",
       "      <td>2013-10-24</td>\n",
       "    </tr>\n",
       "    <tr>\n",
       "      <th>R3P40IEALROVCH</th>\n",
       "      <td>12136</td>\n",
       "      <td>B00IIFCJX0</td>\n",
       "      <td>Dexter Season 8</td>\n",
       "      <td>Digital_Video_Download</td>\n",
       "      <td>5</td>\n",
       "      <td>0</td>\n",
       "      <td>0</td>\n",
       "      <td>True</td>\n",
       "      <td>fantastic</td>\n",
       "      <td>love watching all the episodes of Dexter, when...</td>\n",
       "      <td>2014-05-09</td>\n",
       "    </tr>\n",
       "    <tr>\n",
       "      <th>R25XL1WWYRDLA9</th>\n",
       "      <td>12268</td>\n",
       "      <td>B000W7JWUA</td>\n",
       "      <td>The Settlers of Catan Board Game - discontinue...</td>\n",
       "      <td>Toys</td>\n",
       "      <td>5</td>\n",
       "      <td>0</td>\n",
       "      <td>0</td>\n",
       "      <td>True</td>\n",
       "      <td>Five Stars</td>\n",
       "      <td>Excellent game!!!</td>\n",
       "      <td>2014-09-19</td>\n",
       "    </tr>\n",
       "    <tr>\n",
       "      <th>RVTVB9YDXSFYH</th>\n",
       "      <td>12677</td>\n",
       "      <td>B005JTAP4S</td>\n",
       "      <td>Peter: A Darkened Fairytale (Vol 1)</td>\n",
       "      <td>Digital_Ebook_Purchase</td>\n",
       "      <td>5</td>\n",
       "      <td>12</td>\n",
       "      <td>12</td>\n",
       "      <td>False</td>\n",
       "      <td>A twist on Tales</td>\n",
       "      <td>This cute, quick read is very different to say...</td>\n",
       "      <td>2013-09-18</td>\n",
       "    </tr>\n",
       "  </tbody>\n",
       "</table>\n",
       "</div>"
      ],
      "text/plain": [
       "               customer_id  product_id  \\\n",
       "review_id                                \n",
       "R2YVNBBMXD8KVJ       10349  B00MWK7BWG   \n",
       "R2K4BOL8MN1TTY       10629  B006CHML4I   \n",
       "R3P40IEALROVCH       12136  B00IIFCJX0   \n",
       "R25XL1WWYRDLA9       12268  B000W7JWUA   \n",
       "RVTVB9YDXSFYH        12677  B005JTAP4S   \n",
       "\n",
       "                                                    product_title  \\\n",
       "review_id                                                           \n",
       "R2YVNBBMXD8KVJ                         My Favourite Faded Fantasy   \n",
       "R2K4BOL8MN1TTY  Seiko 5 Men's Automatic Watch with Black Dial ...   \n",
       "R3P40IEALROVCH                                    Dexter Season 8   \n",
       "R25XL1WWYRDLA9  The Settlers of Catan Board Game - discontinue...   \n",
       "RVTVB9YDXSFYH                 Peter: A Darkened Fairytale (Vol 1)   \n",
       "\n",
       "                      product_category  star_rating  helpful_votes  \\\n",
       "review_id                                                            \n",
       "R2YVNBBMXD8KVJ                   Music            5              0   \n",
       "R2K4BOL8MN1TTY                 Watches            4              0   \n",
       "R3P40IEALROVCH  Digital_Video_Download            5              0   \n",
       "R25XL1WWYRDLA9                    Toys            5              0   \n",
       "RVTVB9YDXSFYH   Digital_Ebook_Purchase            5             12   \n",
       "\n",
       "                total_votes  verified_purchase          review_headline  \\\n",
       "review_id                                                                 \n",
       "R2YVNBBMXD8KVJ            0               True               Five Stars   \n",
       "R2K4BOL8MN1TTY            0               True  Great watch from casio.   \n",
       "R3P40IEALROVCH            0               True                fantastic   \n",
       "R25XL1WWYRDLA9            0               True               Five Stars   \n",
       "RVTVB9YDXSFYH            12              False         A twist on Tales   \n",
       "\n",
       "                                                      review_body review_date  \n",
       "review_id                                                                      \n",
       "R2YVNBBMXD8KVJ                               The best album ever!  2014-12-29  \n",
       "R2K4BOL8MN1TTY  What a great watch. Both watches and strap is ...  2013-10-24  \n",
       "R3P40IEALROVCH  love watching all the episodes of Dexter, when...  2014-05-09  \n",
       "R25XL1WWYRDLA9                                  Excellent game!!!  2014-09-19  \n",
       "RVTVB9YDXSFYH   This cute, quick read is very different to say...  2013-09-18  "
      ]
     },
     "execution_count": 6,
     "metadata": {},
     "output_type": "execute_result"
    }
   ],
   "source": [
    "df.head()"
   ]
  },
  {
   "cell_type": "code",
   "execution_count": 7,
   "metadata": {
    "collapsed": true
   },
   "outputs": [],
   "source": [
    "df['review_date'] = pd.to_datetime(df['review_date'])"
   ]
  },
  {
   "cell_type": "code",
   "execution_count": 8,
   "metadata": {},
   "outputs": [
    {
     "data": {
      "text/plain": [
       "customer_id                  object\n",
       "product_id                   object\n",
       "product_title                object\n",
       "product_category             object\n",
       "star_rating                   uint8\n",
       "helpful_votes                uint16\n",
       "total_votes                  uint16\n",
       "verified_purchase              bool\n",
       "review_headline              object\n",
       "review_body                  object\n",
       "review_date          datetime64[ns]\n",
       "dtype: object"
      ]
     },
     "execution_count": 8,
     "metadata": {},
     "output_type": "execute_result"
    }
   ],
   "source": [
    "df.dtypes"
   ]
  },
  {
   "cell_type": "code",
   "execution_count": 9,
   "metadata": {},
   "outputs": [
    {
     "data": {
      "text/plain": [
       "customer_id          55\n",
       "product_id           55\n",
       "product_title        55\n",
       "product_category     55\n",
       "star_rating          55\n",
       "helpful_votes        55\n",
       "total_votes          55\n",
       "verified_purchase    55\n",
       "review_headline      55\n",
       "review_body          55\n",
       "review_date          55\n",
       "dtype: int64"
      ]
     },
     "execution_count": 9,
     "metadata": {},
     "output_type": "execute_result"
    }
   ],
   "source": [
    "df[df.review_date==\"1900-01-01\"].count()"
   ]
  },
  {
   "cell_type": "code",
   "execution_count": 10,
   "metadata": {
    "collapsed": true
   },
   "outputs": [],
   "source": [
    "df = df.drop(df[df.review_date==\"1900-01-01\"].index)"
   ]
  },
  {
   "cell_type": "code",
   "execution_count": 11,
   "metadata": {},
   "outputs": [
    {
     "data": {
      "text/plain": [
       "customer_id          0\n",
       "product_id           0\n",
       "product_title        0\n",
       "product_category     0\n",
       "star_rating          0\n",
       "helpful_votes        0\n",
       "total_votes          0\n",
       "verified_purchase    0\n",
       "review_headline      0\n",
       "review_body          0\n",
       "review_date          0\n",
       "dtype: int64"
      ]
     },
     "execution_count": 11,
     "metadata": {},
     "output_type": "execute_result"
    }
   ],
   "source": [
    "df[df.review_date==\"1900-01-01\"].count()"
   ]
  },
  {
   "cell_type": "code",
   "execution_count": 45,
   "metadata": {},
   "outputs": [],
   "source": [
    "customersDict = dict()\n",
    "for index,row in df.iterrows():\n",
    "    try:\n",
    "        customersDict[row.customer_id].append(row.product_id)\n",
    "    except KeyError as k:\n",
    "        customersDict[row.customer_id] = [row.product_id]"
   ]
  },
  {
   "cell_type": "code",
   "execution_count": 46,
   "metadata": {},
   "outputs": [],
   "source": [
    "productsDict = dict()\n",
    "for index,row in df.iterrows():\n",
    "    try:\n",
    "        productDict[row.product_id].append(row.customer_id)\n",
    "    except KeyError as k:\n",
    "        productDict[row.product_id] = [row.customer_id]"
   ]
  },
  {
   "cell_type": "code",
   "execution_count": 51,
   "metadata": {},
   "outputs": [
    {
     "data": {
      "text/html": [
       "<div>\n",
       "<style>\n",
       "    .dataframe thead tr:only-child th {\n",
       "        text-align: right;\n",
       "    }\n",
       "\n",
       "    .dataframe thead th {\n",
       "        text-align: left;\n",
       "    }\n",
       "\n",
       "    .dataframe tbody tr th {\n",
       "        vertical-align: top;\n",
       "    }\n",
       "</style>\n",
       "<table border=\"1\" class=\"dataframe\">\n",
       "  <thead>\n",
       "    <tr style=\"text-align: right;\">\n",
       "      <th></th>\n",
       "      <th>customer_id</th>\n",
       "      <th>product_id</th>\n",
       "      <th>product_title</th>\n",
       "      <th>product_category</th>\n",
       "      <th>star_rating</th>\n",
       "      <th>helpful_votes</th>\n",
       "      <th>total_votes</th>\n",
       "      <th>verified_purchase</th>\n",
       "      <th>review_headline</th>\n",
       "      <th>review_body</th>\n",
       "      <th>review_date</th>\n",
       "    </tr>\n",
       "    <tr>\n",
       "      <th>review_id</th>\n",
       "      <th></th>\n",
       "      <th></th>\n",
       "      <th></th>\n",
       "      <th></th>\n",
       "      <th></th>\n",
       "      <th></th>\n",
       "      <th></th>\n",
       "      <th></th>\n",
       "      <th></th>\n",
       "      <th></th>\n",
       "      <th></th>\n",
       "    </tr>\n",
       "  </thead>\n",
       "  <tbody>\n",
       "    <tr>\n",
       "      <th>R4ALNPVKPMHSZ</th>\n",
       "      <td>24866774</td>\n",
       "      <td>B00543RC0Y</td>\n",
       "      <td>Harry Potter - Complete 8-Film Collection [Blu...</td>\n",
       "      <td>Video DVD</td>\n",
       "      <td>5</td>\n",
       "      <td>0</td>\n",
       "      <td>0</td>\n",
       "      <td>True</td>\n",
       "      <td>two thumbs up!!</td>\n",
       "      <td>Great movies, great price thanks Amazon!</td>\n",
       "      <td>2015-04-13</td>\n",
       "    </tr>\n",
       "  </tbody>\n",
       "</table>\n",
       "</div>"
      ],
      "text/plain": [
       "              customer_id  product_id  \\\n",
       "review_id                               \n",
       "R4ALNPVKPMHSZ    24866774  B00543RC0Y   \n",
       "\n",
       "                                                   product_title  \\\n",
       "review_id                                                          \n",
       "R4ALNPVKPMHSZ  Harry Potter - Complete 8-Film Collection [Blu...   \n",
       "\n",
       "              product_category  star_rating  helpful_votes  total_votes  \\\n",
       "review_id                                                                 \n",
       "R4ALNPVKPMHSZ        Video DVD            5              0            0   \n",
       "\n",
       "               verified_purchase  review_headline  \\\n",
       "review_id                                           \n",
       "R4ALNPVKPMHSZ               True  two thumbs up!!   \n",
       "\n",
       "                                            review_body review_date  \n",
       "review_id                                                            \n",
       "R4ALNPVKPMHSZ  Great movies, great price thanks Amazon!  2015-04-13  "
      ]
     },
     "execution_count": 51,
     "metadata": {},
     "output_type": "execute_result"
    }
   ],
   "source": [
    "df[df.customer_id==u'24866774']"
   ]
  },
  {
   "cell_type": "code",
   "execution_count": 90,
   "metadata": {},
   "outputs": [],
   "source": [
    "customerNOfOrder = dict()\n",
    "for key,value in customersDict.items():\n",
    "    customerNOfOrder[len(value)] = customerNOfOrder.get(len(value),0)+1"
   ]
  },
  {
   "cell_type": "code",
   "execution_count": 92,
   "metadata": {
    "collapsed": true
   },
   "outputs": [],
   "source": [
    "import numpy as np\n",
    "import seaborn as sns\n",
    "import matplotlib.pyplot as plt"
   ]
  },
  {
   "cell_type": "code",
   "execution_count": 97,
   "metadata": {},
   "outputs": [
    {
     "data": {
      "image/png": "[encoded data removed]",
      "text/plain": [
       "<Figure size 576x396 with 1 Axes>"
      ]
     },
     "metadata": {},
     "output_type": "display_data"
    }
   ],
   "source": [
    "cumulative[0]\n",
    "for key,value in customersDict.items():\n"
   ]
  },
  {
   "cell_type": "code",
   "execution_count": 91,
   "metadata": {},
   "outputs": [
    {
     "data": {
      "text/plain": [
       "{1: 664020,\n",
       " 2: 142429,\n",
       " 3: 53828,\n",
       " 4: 25964,\n",
       " 5: 14490,\n",
       " 6: 8967,\n",
       " 7: 5846,\n",
       " 8: 4015,\n",
       " 9: 2978,\n",
       " 10: 2097,\n",
       " 11: 1715,\n",
       " 12: 1283,\n",
       " 13: 1053,\n",
       " 14: 950,\n",
       " 15: 766,\n",
       " 16: 590,\n",
       " 17: 525,\n",
       " 18: 452,\n",
       " 19: 385,\n",
       " 20: 338,\n",
       " 21: 290,\n",
       " 22: 238,\n",
       " 23: 207,\n",
       " 24: 201,\n",
       " 25: 188,\n",
       " 26: 146,\n",
       " 27: 133,\n",
       " 28: 115,\n",
       " 29: 87,\n",
       " 30: 116,\n",
       " 31: 89,\n",
       " 32: 77,\n",
       " 33: 81,\n",
       " 34: 91,\n",
       " 35: 58,\n",
       " 36: 64,\n",
       " 37: 45,\n",
       " 38: 50,\n",
       " 39: 50,\n",
       " 40: 46,\n",
       " 41: 44,\n",
       " 42: 36,\n",
       " 43: 38,\n",
       " 44: 23,\n",
       " 45: 27,\n",
       " 46: 28,\n",
       " 47: 23,\n",
       " 48: 24,\n",
       " 49: 22,\n",
       " 50: 22,\n",
       " 51: 19,\n",
       " 52: 17,\n",
       " 53: 15,\n",
       " 54: 18,\n",
       " 55: 18,\n",
       " 56: 17,\n",
       " 57: 14,\n",
       " 58: 17,\n",
       " 59: 13,\n",
       " 60: 8,\n",
       " 61: 12,\n",
       " 62: 7,\n",
       " 63: 12,\n",
       " 64: 11,\n",
       " 65: 14,\n",
       " 66: 10,\n",
       " 67: 13,\n",
       " 68: 7,\n",
       " 69: 10,\n",
       " 70: 11,\n",
       " 71: 5,\n",
       " 72: 8,\n",
       " 73: 6,\n",
       " 74: 6,\n",
       " 75: 5,\n",
       " 76: 7,\n",
       " 77: 3,\n",
       " 78: 5,\n",
       " 79: 5,\n",
       " 80: 3,\n",
       " 81: 5,\n",
       " 82: 9,\n",
       " 83: 7,\n",
       " 84: 5,\n",
       " 85: 4,\n",
       " 86: 5,\n",
       " 87: 7,\n",
       " 88: 6,\n",
       " 89: 7,\n",
       " 90: 3,\n",
       " 91: 5,\n",
       " 92: 3,\n",
       " 93: 5,\n",
       " 94: 5,\n",
       " 95: 3,\n",
       " 96: 1,\n",
       " 97: 4,\n",
       " 99: 3,\n",
       " 100: 1,\n",
       " 101: 3,\n",
       " 102: 3,\n",
       " 103: 1,\n",
       " 105: 1,\n",
       " 106: 4,\n",
       " 107: 3,\n",
       " 108: 2,\n",
       " 110: 2,\n",
       " 111: 2,\n",
       " 112: 3,\n",
       " 113: 2,\n",
       " 114: 1,\n",
       " 115: 2,\n",
       " 116: 1,\n",
       " 118: 3,\n",
       " 119: 1,\n",
       " 120: 2,\n",
       " 121: 3,\n",
       " 122: 1,\n",
       " 123: 3,\n",
       " 124: 2,\n",
       " 126: 4,\n",
       " 127: 4,\n",
       " 130: 1,\n",
       " 131: 1,\n",
       " 132: 2,\n",
       " 134: 2,\n",
       " 136: 1,\n",
       " 137: 2,\n",
       " 138: 2,\n",
       " 141: 2,\n",
       " 142: 1,\n",
       " 144: 1,\n",
       " 146: 1,\n",
       " 148: 1,\n",
       " 149: 2,\n",
       " 154: 1,\n",
       " 155: 1,\n",
       " 156: 3,\n",
       " 157: 1,\n",
       " 162: 1,\n",
       " 163: 1,\n",
       " 164: 2,\n",
       " 168: 1,\n",
       " 169: 1,\n",
       " 171: 1,\n",
       " 173: 1,\n",
       " 174: 1,\n",
       " 175: 1,\n",
       " 178: 1,\n",
       " 182: 1,\n",
       " 184: 2,\n",
       " 187: 1,\n",
       " 189: 1,\n",
       " 190: 1,\n",
       " 192: 1,\n",
       " 194: 1,\n",
       " 195: 1,\n",
       " 201: 3,\n",
       " 205: 1,\n",
       " 214: 2,\n",
       " 224: 1,\n",
       " 227: 1,\n",
       " 231: 1,\n",
       " 232: 1,\n",
       " 233: 2,\n",
       " 234: 1,\n",
       " 236: 1,\n",
       " 242: 1,\n",
       " 244: 1,\n",
       " 245: 1,\n",
       " 249: 1,\n",
       " 250: 1,\n",
       " 259: 1,\n",
       " 271: 2,\n",
       " 280: 1,\n",
       " 293: 1,\n",
       " 295: 1,\n",
       " 300: 1,\n",
       " 318: 1,\n",
       " 335: 1,\n",
       " 336: 1,\n",
       " 352: 2,\n",
       " 362: 1,\n",
       " 366: 1,\n",
       " 367: 1,\n",
       " 372: 1,\n",
       " 389: 1,\n",
       " 394: 1,\n",
       " 408: 1,\n",
       " 437: 1,\n",
       " 488: 1,\n",
       " 589: 1,\n",
       " 712: 1}"
      ]
     },
     "execution_count": 91,
     "metadata": {},
     "output_type": "execute_result"
    }
   ],
   "source": [
    "customerNOfOrder"
   ]
  },
  {
   "cell_type": "code",
   "execution_count": 88,
   "metadata": {},
   "outputs": [
    {
     "name": "stdout",
     "output_type": "stream",
     "text": [
      "The 70% (664020/935894) of customers has bought only 1 product\n"
     ]
    }
   ],
   "source": [
    "print(\"The %d%% (%d/%d) of customers has bought only 1 product\" % (len(customersWithOneOrder)/float(len(customersDict))*100,len(customersWithOneOrder),len(customersDict)))"
   ]
  },
  {
   "cell_type": "code",
   "execution_count": 78,
   "metadata": {
    "collapsed": true
   },
   "outputs": [],
   "source": [
    "productsWithOneOrder = list()\n",
    "for key,value in productDict.items():\n",
    "    if(len(value)==1):\n",
    "        productsWithOneOrder.append(key)"
   ]
  },
  {
   "cell_type": "code",
   "execution_count": 89,
   "metadata": {},
   "outputs": [
    {
     "name": "stdout",
     "output_type": "stream",
     "text": [
      "The 0% (0/58618) of products has been bought only once\n"
     ]
    }
   ],
   "source": [
    "print(\"The %d%% (%d/%d) of products has been bought only once\" % (len(productsWithOneOrder)/float(len(productDict))*100,len(productsWithOneOrder),len(productDict)))"
   ]
  },
  {
   "cell_type": "code",
   "execution_count": 11,
   "metadata": {
    "collapsed": true
   },
   "outputs": [],
   "source": [
    "df.to_pickle(\"%sAmazonDataProject.pkl\" % PATH_DATA)"
   ]
  },
  {
   "cell_type": "code",
   "execution_count": 12,
   "metadata": {
    "collapsed": true
   },
   "outputs": [],
   "source": [
    "df_no_text = (df.drop(labels=[\"review_headline\",\"review_body\"],axis=1))"
   ]
  },
  {
   "cell_type": "code",
   "execution_count": 13,
   "metadata": {
    "collapsed": true
   },
   "outputs": [],
   "source": [
    "df_no_text.to_pickle(\"%sAmazonDataProjectNoText.pkl\" % PATH_DATA)"
   ]
  },
  {
   "cell_type": "code",
   "execution_count": 14,
   "metadata": {},
   "outputs": [
    {
     "data": {
      "text/html": [
       "<div>\n",
       "<style>\n",
       "    .dataframe thead tr:only-child th {\n",
       "        text-align: right;\n",
       "    }\n",
       "\n",
       "    .dataframe thead th {\n",
       "        text-align: left;\n",
       "    }\n",
       "\n",
       "    .dataframe tbody tr th {\n",
       "        vertical-align: top;\n",
       "    }\n",
       "</style>\n",
       "<table border=\"1\" class=\"dataframe\">\n",
       "  <thead>\n",
       "    <tr style=\"text-align: right;\">\n",
       "      <th></th>\n",
       "      <th>customer_id</th>\n",
       "      <th>product_id</th>\n",
       "      <th>product_title</th>\n",
       "      <th>product_category</th>\n",
       "      <th>star_rating</th>\n",
       "      <th>helpful_votes</th>\n",
       "      <th>total_votes</th>\n",
       "      <th>verified_purchase</th>\n",
       "      <th>review_date</th>\n",
       "    </tr>\n",
       "    <tr>\n",
       "      <th>review_id</th>\n",
       "      <th></th>\n",
       "      <th></th>\n",
       "      <th></th>\n",
       "      <th></th>\n",
       "      <th></th>\n",
       "      <th></th>\n",
       "      <th></th>\n",
       "      <th></th>\n",
       "      <th></th>\n",
       "    </tr>\n",
       "  </thead>\n",
       "  <tbody>\n",
       "    <tr>\n",
       "      <th>R2YVNBBMXD8KVJ</th>\n",
       "      <td>10349</td>\n",
       "      <td>B00MWK7BWG</td>\n",
       "      <td>My Favourite Faded Fantasy</td>\n",
       "      <td>Music</td>\n",
       "      <td>5</td>\n",
       "      <td>0</td>\n",
       "      <td>0</td>\n",
       "      <td>True</td>\n",
       "      <td>2014-12-29</td>\n",
       "    </tr>\n",
       "    <tr>\n",
       "      <th>R2K4BOL8MN1TTY</th>\n",
       "      <td>10629</td>\n",
       "      <td>B006CHML4I</td>\n",
       "      <td>Seiko 5 Men's Automatic Watch with Black Dial ...</td>\n",
       "      <td>Watches</td>\n",
       "      <td>4</td>\n",
       "      <td>0</td>\n",
       "      <td>0</td>\n",
       "      <td>True</td>\n",
       "      <td>2013-10-24</td>\n",
       "    </tr>\n",
       "    <tr>\n",
       "      <th>R3P40IEALROVCH</th>\n",
       "      <td>12136</td>\n",
       "      <td>B00IIFCJX0</td>\n",
       "      <td>Dexter Season 8</td>\n",
       "      <td>Digital_Video_Download</td>\n",
       "      <td>5</td>\n",
       "      <td>0</td>\n",
       "      <td>0</td>\n",
       "      <td>True</td>\n",
       "      <td>2014-05-09</td>\n",
       "    </tr>\n",
       "    <tr>\n",
       "      <th>R25XL1WWYRDLA9</th>\n",
       "      <td>12268</td>\n",
       "      <td>B000W7JWUA</td>\n",
       "      <td>The Settlers of Catan Board Game - discontinue...</td>\n",
       "      <td>Toys</td>\n",
       "      <td>5</td>\n",
       "      <td>0</td>\n",
       "      <td>0</td>\n",
       "      <td>True</td>\n",
       "      <td>2014-09-19</td>\n",
       "    </tr>\n",
       "    <tr>\n",
       "      <th>RVTVB9YDXSFYH</th>\n",
       "      <td>12677</td>\n",
       "      <td>B005JTAP4S</td>\n",
       "      <td>Peter: A Darkened Fairytale (Vol 1)</td>\n",
       "      <td>Digital_Ebook_Purchase</td>\n",
       "      <td>5</td>\n",
       "      <td>12</td>\n",
       "      <td>12</td>\n",
       "      <td>False</td>\n",
       "      <td>2013-09-18</td>\n",
       "    </tr>\n",
       "  </tbody>\n",
       "</table>\n",
       "</div>"
      ],
      "text/plain": [
       "               customer_id  product_id  \\\n",
       "review_id                                \n",
       "R2YVNBBMXD8KVJ       10349  B00MWK7BWG   \n",
       "R2K4BOL8MN1TTY       10629  B006CHML4I   \n",
       "R3P40IEALROVCH       12136  B00IIFCJX0   \n",
       "R25XL1WWYRDLA9       12268  B000W7JWUA   \n",
       "RVTVB9YDXSFYH        12677  B005JTAP4S   \n",
       "\n",
       "                                                    product_title  \\\n",
       "review_id                                                           \n",
       "R2YVNBBMXD8KVJ                         My Favourite Faded Fantasy   \n",
       "R2K4BOL8MN1TTY  Seiko 5 Men's Automatic Watch with Black Dial ...   \n",
       "R3P40IEALROVCH                                    Dexter Season 8   \n",
       "R25XL1WWYRDLA9  The Settlers of Catan Board Game - discontinue...   \n",
       "RVTVB9YDXSFYH                 Peter: A Darkened Fairytale (Vol 1)   \n",
       "\n",
       "                      product_category  star_rating  helpful_votes  \\\n",
       "review_id                                                            \n",
       "R2YVNBBMXD8KVJ                   Music            5              0   \n",
       "R2K4BOL8MN1TTY                 Watches            4              0   \n",
       "R3P40IEALROVCH  Digital_Video_Download            5              0   \n",
       "R25XL1WWYRDLA9                    Toys            5              0   \n",
       "RVTVB9YDXSFYH   Digital_Ebook_Purchase            5             12   \n",
       "\n",
       "                total_votes  verified_purchase review_date  \n",
       "review_id                                                   \n",
       "R2YVNBBMXD8KVJ            0               True  2014-12-29  \n",
       "R2K4BOL8MN1TTY            0               True  2013-10-24  \n",
       "R3P40IEALROVCH            0               True  2014-05-09  \n",
       "R25XL1WWYRDLA9            0               True  2014-09-19  \n",
       "RVTVB9YDXSFYH            12              False  2013-09-18  "
      ]
     },
     "execution_count": 14,
     "metadata": {},
     "output_type": "execute_result"
    }
   ],
   "source": [
    "df_no_text.head()"
   ]
  },
  {
   "cell_type": "code",
   "execution_count": 15,
   "metadata": {},
   "outputs": [
    {
     "data": {
      "text/plain": [
       "customer_id                  object\n",
       "product_id                   object\n",
       "product_title                object\n",
       "product_category             object\n",
       "star_rating                   uint8\n",
       "helpful_votes                uint16\n",
       "total_votes                  uint16\n",
       "verified_purchase              bool\n",
       "review_date          datetime64[ns]\n",
       "dtype: object"
      ]
     },
     "execution_count": 15,
     "metadata": {},
     "output_type": "execute_result"
    }
   ],
   "source": [
    "df_no_text.dtypes"
   ]
  }
 ],
 "metadata": {
  "kernelspec": {
   "display_name": "Python 2",
   "language": "python",
   "name": "python2"
  },
  "language_info": {
   "codemirror_mode": {
    "name": "ipython",
    "version": 2
   },
   "file_extension": ".py",
   "mimetype": "text/x-python",
   "name": "python",
   "nbconvert_exporter": "python",
   "pygments_lexer": "ipython2",
   "version": "2.7.13"
  }
 },
 "nbformat": 4,
 "nbformat_minor": 2
}
