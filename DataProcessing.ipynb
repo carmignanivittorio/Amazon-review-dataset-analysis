{
 "cells": [
  {
   "cell_type": "code",
   "execution_count": 2,
   "metadata": {
    "collapsed": true
   },
   "outputs": [],
   "source": [
    "import numpy as np\n",
    "import pandas as pd"
   ]
  },
  {
   "cell_type": "code",
   "execution_count": 3,
   "metadata": {
    "collapsed": true
   },
   "outputs": [],
   "source": [
    "PATH_DATA = \"V:/Programmazione/Amazon/\""
   ]
  },
  {
   "cell_type": "code",
   "execution_count": 8,
   "metadata": {
    "collapsed": true
   },
   "outputs": [],
   "source": [
    "df =  pd.read_csv(\n",
    "    \"%sdata.tsv\" % PATH_DATA, \n",
    "    encoding=\"utf-8\", \n",
    "    header=0,\n",
    "    sep='\\t',\n",
    "    usecols=['review_id','customer_id', 'product_id', 'product_title','product_category','star_rating','helpful_votes','verified_purchase','review_headline','review_body','review_date'],\n",
    "    index_col = 'review_id',\n",
    "    dtype = {\n",
    "        #'marketplace':str,\n",
    "        'customer_id':str,\n",
    "        'review_id':str,\n",
    "        'product_id':str,\n",
    "        #'product_parent':str,\n",
    "        'product_title':str,\n",
    "        'product_category':str,\n",
    "        'star_rating': np.uint8,\n",
    "        'helpful_votes': np.uint32,\n",
    "        #'total_votes': np.uint32,\n",
    "        #'vine':str,\n",
    "        'verified_purchase':bool,\n",
    "        'review_headline':str,\n",
    "        'review_body':str\n",
    "        },\n",
    "    parse_dates = ['review_date'],\n",
    "    true_values = [\"Y\"],\n",
    "    false_values  = [\"N\"],\n",
    "    skipinitialspace = True,\n",
    "    engine='c'\n",
    "    )"
   ]
  },
  {
   "cell_type": "code",
   "execution_count": 9,
   "metadata": {
    "collapsed": true
   },
   "outputs": [],
   "source": [
    "df.to_pickle(\"%sAmazonDataProject.pkl\" % PATH_DATA)"
   ]
  },
  {
   "cell_type": "code",
   "execution_count": 10,
   "metadata": {
    "collapsed": true
   },
   "outputs": [],
   "source": [
    "df_no_text =  pd.read_csv(\n",
    "    \"%sdata.tsv\" % PATH_DATA, \n",
    "    encoding=\"utf-8\", \n",
    "    header=0,\n",
    "    sep='\\t',\n",
    "    usecols=['review_id','customer_id', 'product_id', 'product_title','product_category','star_rating','helpful_votes','verified_purchase','review_date'],\n",
    "    index_col = 'review_id',\n",
    "    dtype = {\n",
    "        #'marketplace':str,\n",
    "        'customer_id':str,\n",
    "        'review_id':str,\n",
    "        'product_id':str,\n",
    "        #'product_parent':str,\n",
    "        'product_title':str,\n",
    "        'product_category':str,\n",
    "        'star_rating': np.uint8,\n",
    "        'helpful_votes': np.uint32,\n",
    "        #'total_votes': np.uint32,\n",
    "        #'vine':str,\n",
    "        'verified_purchase':bool,\n",
    "        'review_headline':str,\n",
    "        'review_body':str\n",
    "        },\n",
    "    parse_dates = ['review_date'],\n",
    "    true_values = [\"Y\"],\n",
    "    false_values  = [\"N\"],\n",
    "    skipinitialspace = True,\n",
    "    engine='c'\n",
    "    )"
   ]
  },
  {
   "cell_type": "code",
   "execution_count": 11,
   "metadata": {
    "collapsed": true
   },
   "outputs": [],
   "source": [
    "df_no_text.to_pickle(\"%sAmazonDataProjectNoText.pkl\" % PATH_DATA)"
   ]
  },
  {
   "cell_type": "code",
   "execution_count": 12,
   "metadata": {},
   "outputs": [
    {
     "data": {
      "text/html": [
       "<div>\n",
       "<style>\n",
       "    .dataframe thead tr:only-child th {\n",
       "        text-align: right;\n",
       "    }\n",
       "\n",
       "    .dataframe thead th {\n",
       "        text-align: left;\n",
       "    }\n",
       "\n",
       "    .dataframe tbody tr th {\n",
       "        vertical-align: top;\n",
       "    }\n",
       "</style>\n",
       "<table border=\"1\" class=\"dataframe\">\n",
       "  <thead>\n",
       "    <tr style=\"text-align: right;\">\n",
       "      <th></th>\n",
       "      <th>customer_id</th>\n",
       "      <th>product_id</th>\n",
       "      <th>product_title</th>\n",
       "      <th>product_category</th>\n",
       "      <th>star_rating</th>\n",
       "      <th>helpful_votes</th>\n",
       "      <th>verified_purchase</th>\n",
       "      <th>review_date</th>\n",
       "    </tr>\n",
       "    <tr>\n",
       "      <th>review_id</th>\n",
       "      <th></th>\n",
       "      <th></th>\n",
       "      <th></th>\n",
       "      <th></th>\n",
       "      <th></th>\n",
       "      <th></th>\n",
       "      <th></th>\n",
       "      <th></th>\n",
       "    </tr>\n",
       "  </thead>\n",
       "  <tbody>\n",
       "    <tr>\n",
       "      <th>R2YVNBBMXD8KVJ</th>\n",
       "      <td>10349</td>\n",
       "      <td>B00MWK7BWG</td>\n",
       "      <td>My Favourite Faded Fantasy</td>\n",
       "      <td>Music</td>\n",
       "      <td>5</td>\n",
       "      <td>0</td>\n",
       "      <td>True</td>\n",
       "      <td>2014-12-29</td>\n",
       "    </tr>\n",
       "    <tr>\n",
       "      <th>R2K4BOL8MN1TTY</th>\n",
       "      <td>10629</td>\n",
       "      <td>B006CHML4I</td>\n",
       "      <td>Seiko 5 Men's Automatic Watch with Black Dial ...</td>\n",
       "      <td>Watches</td>\n",
       "      <td>4</td>\n",
       "      <td>0</td>\n",
       "      <td>True</td>\n",
       "      <td>2013-10-24</td>\n",
       "    </tr>\n",
       "    <tr>\n",
       "      <th>R3P40IEALROVCH</th>\n",
       "      <td>12136</td>\n",
       "      <td>B00IIFCJX0</td>\n",
       "      <td>Dexter Season 8</td>\n",
       "      <td>Digital_Video_Download</td>\n",
       "      <td>5</td>\n",
       "      <td>0</td>\n",
       "      <td>True</td>\n",
       "      <td>2014-05-09</td>\n",
       "    </tr>\n",
       "    <tr>\n",
       "      <th>R25XL1WWYRDLA9</th>\n",
       "      <td>12268</td>\n",
       "      <td>B000W7JWUA</td>\n",
       "      <td>The Settlers of Catan Board Game - discontinue...</td>\n",
       "      <td>Toys</td>\n",
       "      <td>5</td>\n",
       "      <td>0</td>\n",
       "      <td>True</td>\n",
       "      <td>2014-09-19</td>\n",
       "    </tr>\n",
       "    <tr>\n",
       "      <th>RVTVB9YDXSFYH</th>\n",
       "      <td>12677</td>\n",
       "      <td>B005JTAP4S</td>\n",
       "      <td>Peter: A Darkened Fairytale (Vol 1)</td>\n",
       "      <td>Digital_Ebook_Purchase</td>\n",
       "      <td>5</td>\n",
       "      <td>12</td>\n",
       "      <td>False</td>\n",
       "      <td>2013-09-18</td>\n",
       "    </tr>\n",
       "  </tbody>\n",
       "</table>\n",
       "</div>"
      ],
      "text/plain": [
       "               customer_id  product_id  \\\n",
       "review_id                                \n",
       "R2YVNBBMXD8KVJ       10349  B00MWK7BWG   \n",
       "R2K4BOL8MN1TTY       10629  B006CHML4I   \n",
       "R3P40IEALROVCH       12136  B00IIFCJX0   \n",
       "R25XL1WWYRDLA9       12268  B000W7JWUA   \n",
       "RVTVB9YDXSFYH        12677  B005JTAP4S   \n",
       "\n",
       "                                                    product_title  \\\n",
       "review_id                                                           \n",
       "R2YVNBBMXD8KVJ                         My Favourite Faded Fantasy   \n",
       "R2K4BOL8MN1TTY  Seiko 5 Men's Automatic Watch with Black Dial ...   \n",
       "R3P40IEALROVCH                                    Dexter Season 8   \n",
       "R25XL1WWYRDLA9  The Settlers of Catan Board Game - discontinue...   \n",
       "RVTVB9YDXSFYH                 Peter: A Darkened Fairytale (Vol 1)   \n",
       "\n",
       "                      product_category  star_rating  helpful_votes  \\\n",
       "review_id                                                            \n",
       "R2YVNBBMXD8KVJ                   Music            5              0   \n",
       "R2K4BOL8MN1TTY                 Watches            4              0   \n",
       "R3P40IEALROVCH  Digital_Video_Download            5              0   \n",
       "R25XL1WWYRDLA9                    Toys            5              0   \n",
       "RVTVB9YDXSFYH   Digital_Ebook_Purchase            5             12   \n",
       "\n",
       "                verified_purchase review_date  \n",
       "review_id                                      \n",
       "R2YVNBBMXD8KVJ               True  2014-12-29  \n",
       "R2K4BOL8MN1TTY               True  2013-10-24  \n",
       "R3P40IEALROVCH               True  2014-05-09  \n",
       "R25XL1WWYRDLA9               True  2014-09-19  \n",
       "RVTVB9YDXSFYH               False  2013-09-18  "
      ]
     },
     "execution_count": 12,
     "metadata": {},
     "output_type": "execute_result"
    }
   ],
   "source": [
    "df_no_text.head()"
   ]
  },
  {
   "cell_type": "code",
   "execution_count": null,
   "metadata": {
    "collapsed": true
   },
   "outputs": [],
   "source": []
  }
 ],
 "metadata": {
  "kernelspec": {
   "display_name": "Python 2",
   "language": "python",
   "name": "python2"
  },
  "language_info": {
   "codemirror_mode": {
    "name": "ipython",
    "version": 2
   },
   "file_extension": ".py",
   "mimetype": "text/x-python",
   "name": "python",
   "nbconvert_exporter": "python",
   "pygments_lexer": "ipython2",
   "version": "2.7.13"
  }
 },
 "nbformat": 4,
 "nbformat_minor": 2
}
