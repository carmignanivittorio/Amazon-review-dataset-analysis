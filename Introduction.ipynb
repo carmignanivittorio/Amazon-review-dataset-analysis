{
 "cells": [
  {
   "cell_type": "markdown",
   "metadata": {
    "slideshow": {
     "slide_type": "skip"
    }
   },
   "source": [
    "# Motivation\n",
    "\n",
    "[Amazon](http://www.amazon.com) provides throught its website a variety of information. We decided to focus our interest in the reviews the customers make for each product. Based on the knowledge we gained in the DTU course [02805 Social Graphs and Interactions](http://kurser.dtu.dk/course/02805), we wanted to gain more insights into\n",
    "the network of products and customers with the help of graph theory. Throught the process, we want to explore the data we have obtain and at the end, extract some meaningful conclusions related to our study. Most of the dataset is well constructed but not in the ideal format to be easily used. Thus, some cleaning and preprocessing tasks are required in order to make it accessible for the entire project, hence we will use some of the key techniques introduced in the course. Firstly, we will perform network analysis in order to to explore connections between products and customers, find properties like communities among the customers and the products or find the best product based on the category. Though graphs we will make clear which category is more reviewed or the scale of the star-rating on the reviews. And finally, we will perfomce text analysis in order to retrieve patterns between categories and star-ratings.\n"
   ]
  },
  {
   "cell_type": "markdown",
   "metadata": {
    "slideshow": {
     "slide_type": "subslide"
    }
   },
   "source": [
    "# Data processing\n",
    "Our dataset, which can be downlaoded from [here](https://s3.amazonaws.com/amazon-reviews-pds/tsv/amazon_reviews_multilingual_UK_v1_00.tsv.gz), is one of many choises that Amazon provides for those who want to do research on the Customer Reviews. The list can be found on this [link](https://s3.amazonaws.com/amazon-reviews-pds/tsv/index.txt). The choice of this particular dataset that we decided to work with, was the origin of the reviews.\n",
    "\n",
    "### Link to [Data Processing](DataProcessing.ipynb)"
   ]
  },
  {
   "cell_type": "markdown",
   "metadata": {
    "slideshow": {
     "slide_type": "subslide"
    }
   },
   "source": [
    "# Network Analysis\n",
    "write introduction data processing\n",
    "\n",
    "### Link to [Network Analysis](Graph2.ipynb)"
   ]
  },
  {
   "cell_type": "markdown",
   "metadata": {
    "slideshow": {
     "slide_type": "subslide"
    }
   },
   "source": [
    "# Text Analysis\n",
    "write introduction data processing\n",
    "\n",
    "### Link to [Text Analysis](TextAnalysis.ipynb)"
   ]
  }
 ],
 "metadata": {
  "kernelspec": {
   "display_name": "Python 2",
   "language": "python",
   "name": "python2"
  },
  "language_info": {
   "codemirror_mode": {
    "name": "ipython",
    "version": 2
   },
   "file_extension": ".py",
   "mimetype": "text/x-python",
   "name": "python",
   "nbconvert_exporter": "python",
   "pygments_lexer": "ipython2",
   "version": "2.7.15"
  }
 },
 "nbformat": 4,
 "nbformat_minor": 2
}
