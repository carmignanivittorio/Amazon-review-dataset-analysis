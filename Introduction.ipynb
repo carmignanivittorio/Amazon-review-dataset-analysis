{
 "cells": [
  {
   "cell_type": "markdown",
   "metadata": {
    "slideshow": {
     "slide_type": "skip"
    }
   },
   "source": [
    "# Motivation\n",
    "\n",
    "[Amazon](http://www.amazon.com) provides throught its website a variety of information. We decided to focus our interest in the reviews the customers make for each product. Based on the knowledge we gained in the DTU course [02805 Social Graphs and Interactions](http://kurser.dtu.dk/course/02805), we wanted to gain more insights into\n",
    "the network of products and customers with the help of graph theory. Throught the process, we want to explore the data we have obtain and at the end, extract some meaningful conclusions related to our study. Most of the dataset is well constructed but not in the ideal format to be easily used. Thus, some cleaning and preprocessing tasks are required in order to make it accessible for the entire project, hence we will use some of the key techniques introduced in the course. Firstly, we will perform network analysis in order to to explore connections between products and customers, find properties like communities among the customers and the products or find the best product based on the category. Though graphs we will make clear which category is more reviewed or the scale of the star-rating on the reviews. And finally, we will perfomce text analysis in order to retrieve patterns between categories and star-ratings.\n"
   ]
  },
  {
   "cell_type": "markdown",
   "metadata": {
    "slideshow": {
     "slide_type": "subslide"
    }
   },
   "source": [
    "# Data processing\n",
    "In this notebook we decide on libraries and data structures we will use and perform the initial preprocessing of the data to a shape which is best for use in further analysis.\n",
    "\n",
    "### Link to [Data Processing](DataProcessing.ipynb)"
   ]
  },
  {
   "cell_type": "markdown",
   "metadata": {
    "slideshow": {
     "slide_type": "subslide"
    }
   },
   "source": [
    "# Network Analysis\n",
    "In this notebook we will perform an analysis on the network based on the reviews, derive network properties and uncover hidden communities.\n",
    "\n",
    "### Link to [Network Analysis](Graph.ipynb)"
   ]
  },
  {
   "cell_type": "markdown",
   "metadata": {
    "slideshow": {
     "slide_type": "subslide"
    }
   },
   "source": [
    "# Text Analysis\n",
    "In this notebook we are going to analyze content of reviews. I particular we are going to explore many attributes and statistics based on the content of the text.\n",
    "\n",
    "### Link to [Text Analysis](TextAnalysis.ipynb)"
   ]
  },
  {
   "cell_type": "markdown",
   "metadata": {
    "collapsed": true
   },
   "source": [
    "# Conclusion"
   ]
  },
  {
   "cell_type": "markdown",
   "metadata": {},
   "source": [
    ">**What went well?**\n",
    "1. ***Data Processing***: The dataset we selected for our project was clean in general and not many processes were needed to clean it. The dataset was well documented and organized and that made the process of transforming the data to an easier format for us. As there were a lot of topics within this assignment, it was easy to distribute work tasks within the group.\n",
    "2. ***Network analysis***: \n",
    "3. ***Text Analysis***: Given the amount of data, we have to make functions as efficients as possibile. In fact, the same functions used in the previous assignments did not work. A part form these inconveniences (which took us a lot of times), we \n",
    "\n",
    ">**What is still missing? What could be improved?, Why?**\n",
    "1. ***Data Processing***:\n",
    "2. ***Network analysis***:\n",
    "3. ***Text Analysis***:"
   ]
  },
  {
   "cell_type": "code",
   "execution_count": null,
   "metadata": {
    "collapsed": true
   },
   "outputs": [],
   "source": []
  }
 ],
 "metadata": {
  "kernelspec": {
   "display_name": "Python 2",
   "language": "python",
   "name": "python2"
  },
  "language_info": {
   "codemirror_mode": {
    "name": "ipython",
    "version": 2
   },
   "file_extension": ".py",
   "mimetype": "text/x-python",
   "name": "python",
   "nbconvert_exporter": "python",
   "pygments_lexer": "ipython2",
   "version": "2.7.13"
  }
 },
 "nbformat": 4,
 "nbformat_minor": 2
}
