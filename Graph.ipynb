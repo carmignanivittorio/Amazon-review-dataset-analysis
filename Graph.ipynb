{
 "cells": [
  {
   "cell_type": "code",
   "execution_count": 1,
   "metadata": {
    "collapsed": true
   },
   "outputs": [],
   "source": [
    "from timeit import default_timer as timer\n",
    "start = timer()"
   ]
  },
  {
   "cell_type": "code",
   "execution_count": 2,
   "metadata": {
    "collapsed": true
   },
   "outputs": [],
   "source": [
    "import re\n",
    "from os import listdir\n",
    "import networkx as nx\n",
    "import numpy as np\n",
    "import pandas as pd\n",
    "import codecs\n",
    "import csv\n",
    "import matplotlib.pylab as plt\n",
    "from matplotlib import rcParams\n",
    "rcParams['axes.titlepad'] = 25\n",
    "from datetime import datetime"
   ]
  },
  {
   "cell_type": "code",
   "execution_count": 3,
   "metadata": {
    "collapsed": true
   },
   "outputs": [],
   "source": [
    "g = nx.Graph()"
   ]
  },
  {
   "cell_type": "code",
   "execution_count": 4,
   "metadata": {
    "scrolled": true
   },
   "outputs": [
    {
     "name": "stderr",
     "output_type": "stream",
     "text": [
      "C:\\Users\\carmi\\Anaconda2\\envs\\py27\\lib\\site-packages\\pandas\\io\\parsers.py:405: ParserWarning: Conflicting values for 'delimiter': ',' was provided, but the dialect specifies '\t'. Using the dialect-specified value.\n",
      "  parser = TextFileReader(filepath_or_buffer, **kwds)\n"
     ]
    }
   ],
   "source": [
    "chunksize = 10\n",
    "reader =  pd.read_csv(\"data.tsv\", chunksize=chunksize,dialect='excel-tab',encoding=\"utf-8\")\n",
    "try:\n",
    "    for chunk in reader:\n",
    "        row = chunk.iloc[0]\n",
    "        g.add_node(\"C%s\"% row.customer_id,type=\"cust\")\n",
    "        g.add_node(\"P%s\"% row.product_id,type=\"prod\",\n",
    "                   title=row.product_title, \n",
    "                   cat=row.product_category\n",
    "                  )\n",
    "        g.add_edge(\"C%s\"% row.customer_id, \"P%s\"% row.product_id, \n",
    "                   weight = int(row.star_rating), \n",
    "                   verify = True if row.verified_purchase == \"Y\" else False,\n",
    "                   date = row.review_date\n",
    "                  )\n",
    "except SyntaxError as s:\n",
    "    print(p)"
   ]
  },
  {
   "cell_type": "code",
   "execution_count": 5,
   "metadata": {},
   "outputs": [
    {
     "name": "stdout",
     "output_type": "stream",
     "text": [
      "1704641\n"
     ]
    }
   ],
   "source": [
    "print(len(g.edges()))"
   ]
  },
  {
   "cell_type": "code",
   "execution_count": 6,
   "metadata": {
    "collapsed": true
   },
   "outputs": [],
   "source": [
    "end = timer()"
   ]
  },
  {
   "cell_type": "code",
   "execution_count": 7,
   "metadata": {},
   "outputs": [
    {
     "name": "stdout",
     "output_type": "stream",
     "text": [
      "4586.98229125\n"
     ]
    }
   ],
   "source": [
    "print(end - start)"
   ]
  },
  {
   "cell_type": "code",
   "execution_count": 8,
   "metadata": {},
   "outputs": [
    {
     "name": "stdout",
     "output_type": "stream",
     "text": [
      "76.4497048542\n"
     ]
    }
   ],
   "source": [
    "print((end-start)/60.0)"
   ]
  },
  {
   "cell_type": "code",
   "execution_count": 9,
   "metadata": {
    "collapsed": true
   },
   "outputs": [],
   "source": [
    "nx.write_gpickle(g,\"rawNetworg.gpickle\")"
   ]
  },
  {
   "cell_type": "code",
   "execution_count": 1,
   "metadata": {},
   "outputs": [
    {
     "ename": "NameError",
     "evalue": "name 'g' is not defined",
     "output_type": "error",
     "traceback": [
      "\u001b[1;31m---------------------------------------------------------------------------\u001b[0m",
      "\u001b[1;31mNameError\u001b[0m                                 Traceback (most recent call last)",
      "\u001b[1;32m<ipython-input-1-6a346a0dd1e1>\u001b[0m in \u001b[0;36m<module>\u001b[1;34m()\u001b[0m\n\u001b[0;32m     21\u001b[0m                           verbose=True)\n\u001b[0;32m     22\u001b[0m \u001b[1;33m\u001b[0m\u001b[0m\n\u001b[1;32m---> 23\u001b[1;33m \u001b[0mpositions\u001b[0m \u001b[1;33m=\u001b[0m \u001b[0mforceatlas2\u001b[0m\u001b[1;33m.\u001b[0m\u001b[0mforceatlas2_networkx_layout\u001b[0m\u001b[1;33m(\u001b[0m\u001b[0mg\u001b[0m\u001b[1;33m,\u001b[0m \u001b[0mpos\u001b[0m \u001b[1;33m=\u001b[0m \u001b[0mNone\u001b[0m\u001b[1;33m,\u001b[0m \u001b[0miterations\u001b[0m \u001b[1;33m=\u001b[0m \u001b[1;36m2000\u001b[0m\u001b[1;33m)\u001b[0m\u001b[1;33m\u001b[0m\u001b[0m\n\u001b[0m",
      "\u001b[1;31mNameError\u001b[0m: name 'g' is not defined"
     ]
    }
   ],
   "source": [
    "from fa2 import ForceAtlas2\n",
    "forceatlas2 = ForceAtlas2(\n",
    "                          # Behavior alternatives\n",
    "                          outboundAttractionDistribution=False,  # Dissuade hubs\n",
    "                          linLogMode=False,  # NOT IMPLEMENTED\n",
    "                          adjustSizes=False,  # Prevent overlap (NOT IMPLEMENTED)\n",
    "                          edgeWeightInfluence=1.0,\n",
    "\n",
    "                          # Performance\n",
    "                          jitterTolerance=20.0,  # Tolerance\n",
    "                          barnesHutOptimize=True,\n",
    "                          barnesHutTheta=2.5,\n",
    "                          multiThreaded=False,  # NOT IMPLEMENTED\n",
    "\n",
    "                          # Tuning\n",
    "                          scalingRatio=10.0,\n",
    "                          strongGravityMode=False,\n",
    "                          gravity=200.0,\n",
    "\n",
    "                          # Log\n",
    "                          verbose=True)\n",
    "\n",
    "positions = forceatlas2.forceatlas2_networkx_layout(g, pos = None, iterations = 2000)"
   ]
  },
  {
   "cell_type": "code",
   "execution_count": null,
   "metadata": {
    "collapsed": true
   },
   "outputs": [],
   "source": [
    "d = nx.degree(g)"
   ]
  },
  {
   "cell_type": "code",
   "execution_count": null,
   "metadata": {
    "collapsed": true
   },
   "outputs": [],
   "source": [
    "nodes = g.nodes.keys()"
   ]
  },
  {
   "cell_type": "code",
   "execution_count": null,
   "metadata": {
    "collapsed": true
   },
   "outputs": [],
   "source": [
    "colorsParty = ['navy' if gUn.node[n]['type'] == 'cust' else 'crimson' for n in nodes]"
   ]
  },
  {
   "cell_type": "code",
   "execution_count": null,
   "metadata": {
    "collapsed": true
   },
   "outputs": [],
   "source": [
    "nx.drawing.nx_pylab.draw(g, positions, nodelist = nodes, cmap = plt.get_cmap('jet'), node_size = [d[node]*5 for node in nodes], with_labels = False, edge_color = 'dimgrey', node_color = colorsParty, width = 0.5)"
   ]
  }
 ],
 "metadata": {
  "kernelspec": {
   "display_name": "Python 2",
   "language": "python",
   "name": "python2"
  },
  "language_info": {
   "codemirror_mode": {
    "name": "ipython",
    "version": 2
   },
   "file_extension": ".py",
   "mimetype": "text/x-python",
   "name": "python",
   "nbconvert_exporter": "python",
   "pygments_lexer": "ipython2",
   "version": "2.7.13"
  }
 },
 "nbformat": 4,
 "nbformat_minor": 2
}
