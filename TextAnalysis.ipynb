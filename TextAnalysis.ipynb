{
 "cells": [
  {
   "cell_type": "code",
   "execution_count": 1,
   "metadata": {
    "collapsed": true
   },
   "outputs": [],
   "source": [
    "import pandas as pd\n",
    "import nltk\n",
    "from nltk.tokenize import sent_tokenize, word_tokenize\n",
    "from nltk.corpus import stopwords\n",
    "from nltk.collocations import *\n",
    "import pickle\n",
    "import pyprind\n",
    "import re\n",
    "from PIL import Image\n",
    "from IPython.core.display import Image as img\n",
    "import numpy as np\n",
    "import matplotlib.pyplot as plt\n",
    "import os\n",
    "from wordcloud import WordCloud, ImageColorGenerator\n",
    "import math\n",
    "from prettytable import PrettyTable as PT"
   ]
  },
  {
   "cell_type": "code",
   "execution_count": 2,
   "metadata": {
    "collapsed": true
   },
   "outputs": [],
   "source": [
    "PATH_DATA = \"V:/Programmazione/Amazon/\""
   ]
  },
  {
   "cell_type": "code",
   "execution_count": 3,
   "metadata": {
    "collapsed": true
   },
   "outputs": [],
   "source": [
    "df = pd.read_pickle(\"%sAmazonDataProject.pkl\" % PATH_DATA)"
   ]
  },
  {
   "cell_type": "markdown",
   "metadata": {},
   "source": [
    "# Deletion of stopwords from reviews' bodies and headlines"
   ]
  },
  {
   "cell_type": "code",
   "execution_count": 4,
   "metadata": {
    "collapsed": true
   },
   "outputs": [],
   "source": [
    "STOPWORDS = set(stopwords.words('english')).union([u'br'])"
   ]
  },
  {
   "cell_type": "code",
   "execution_count": 5,
   "metadata": {
    "collapsed": true
   },
   "outputs": [],
   "source": [
    "\"\"\"\n",
    "Given a the list of reviews the function return a list which contain all the words of the reviews which:\n",
    "1. are not stopwords\n",
    "2. contain only letters\n",
    "\"\"\"\n",
    "def deleteStopwords(text):\n",
    "    text = nltk.word_tokenize(text)\n",
    "    res = []\n",
    "    for t in text:\n",
    "        t = t.lower()\n",
    "        if not bool(re.search(r\"[^A-Za-z]\", t)) and t not in STOPWORDS:\n",
    "            res.append(t)\n",
    "    return res"
   ]
  },
  {
   "cell_type": "code",
   "execution_count": 6,
   "metadata": {
    "collapsed": true
   },
   "outputs": [],
   "source": [
    "try:\n",
    "    df_reviews = pd.read_pickle(\"%sReviews_without_stopwords.pkl\" % PATH_DATA)\n",
    "except:\n",
    "    df_reviews = df.filter([\"review_id\",\"review_headline\",\"review_body\"], axis=1)\n",
    "    df_reviews[\"review_headline\"] = df_reviews[\"review_headline\"].apply(func = deleteStopwords)\n",
    "    df_reviews[\"review_body\"] = df_reviews[\"review_body\"].apply(func = deleteStopwords)\n",
    "    df_reviews.to_pickle(\"%sReviews_without_stopwords.pkl\" % PATH_DATA)"
   ]
  },
  {
   "cell_type": "markdown",
   "metadata": {},
   "source": [
    "## Construction of \"large\" documents divided by categories/star ratings, body/headlines."
   ]
  },
  {
   "cell_type": "markdown",
   "metadata": {},
   "source": [
    "### Categories"
   ]
  },
  {
   "cell_type": "code",
   "execution_count": 7,
   "metadata": {},
   "outputs": [
    {
     "name": "stdout",
     "output_type": "stream",
     "text": [
      "Apparel, Automotive, Baby, Beauty, Books, Camera, Digital_Ebook_Purchase, Digital_Music_Purchase, Digital_Video_Download, Electronics, Health & Personal Care, Home, Home Entertainment, Home Improvement, Kitchen, Lawn and Garden, Luggage, Mobile_Apps, Music, Musical Instruments, Office Products, PC, Personal_Care_Appliances, Pet Products, Shoes, Software, Sports, Toys, Video, Video DVD, Video Games, Watches, Wireless\n"
     ]
    }
   ],
   "source": [
    "categories = sorted(df.product_category.unique().tolist())\n",
    "print(\", \".join(categories))"
   ]
  },
  {
   "cell_type": "markdown",
   "metadata": {},
   "source": [
    "### Large document of categories' bodies"
   ]
  },
  {
   "cell_type": "code",
   "execution_count": 8,
   "metadata": {},
   "outputs": [],
   "source": [
    "categories_reviews = dict()\n",
    "all_reviews_without_stopwords = []\n",
    "for c in categories:\n",
    "    categories_reviews[c] = []\n",
    "    for index,row in df[df.product_category==c].iterrows():\n",
    "        categories_reviews[c]+= df_reviews.loc[index].review_body\n",
    "    all_reviews_without_stopwords+=categories_reviews[c]"
   ]
  },
  {
   "cell_type": "markdown",
   "metadata": {},
   "source": [
    "### Large document of categories' headlines"
   ]
  },
  {
   "cell_type": "code",
   "execution_count": 9,
   "metadata": {},
   "outputs": [],
   "source": [
    "categories_reviews_headlines = dict()\n",
    "for c in categories:\n",
    "    categories_reviews_headlines[c] = []\n",
    "    for index,row in df[df.product_category==c].iterrows():\n",
    "        categories_reviews_headlines[c]+=df_reviews.loc[index].review_headline\n",
    "    all_reviews_without_stopwords+=categories_reviews_headlines[c]"
   ]
  },
  {
   "cell_type": "markdown",
   "metadata": {},
   "source": [
    "### Large document of star ratings' bodies"
   ]
  },
  {
   "cell_type": "code",
   "execution_count": 10,
   "metadata": {
    "collapsed": true
   },
   "outputs": [],
   "source": [
    "stars_body = dict()\n",
    "for i in range(1,6):\n",
    "    stars_body[i] = []\n",
    "    for index,row in df[df.star_rating==i].iterrows():\n",
    "        stars_body[i]+=df_reviews.loc[index].review_body"
   ]
  },
  {
   "cell_type": "markdown",
   "metadata": {},
   "source": [
    "### Large document of star ratings' headlines"
   ]
  },
  {
   "cell_type": "code",
   "execution_count": 11,
   "metadata": {
    "collapsed": true
   },
   "outputs": [],
   "source": [
    "stars_head = dict()\n",
    "for i in range(1,6):\n",
    "    stars_head[i] = []\n",
    "    for index,row in df[df.star_rating==i].iterrows():\n",
    "        stars_head[i]+=df_reviews.loc[index].review_headline"
   ]
  },
  {
   "cell_type": "markdown",
   "metadata": {},
   "source": [
    "# Stats on the text"
   ]
  },
  {
   "cell_type": "markdown",
   "metadata": {},
   "source": [
    "### Number of reviews"
   ]
  },
  {
   "cell_type": "code",
   "execution_count": 12,
   "metadata": {},
   "outputs": [
    {
     "name": "stdout",
     "output_type": "stream",
     "text": [
      "Number of total reviews = 1705765\n",
      "+--------------------------+-------------------+------------------------+\n",
      "| Category                 | Number of reviews | % respect to the total |\n",
      "+--------------------------+-------------------+------------------------+\n",
      "| Apparel                  |         2         |        0.0001%         |\n",
      "| Automotive               |        530        |        0.0311%         |\n",
      "| Baby                     |        4328       |        0.2537%         |\n",
      "| Beauty                   |         2         |        0.0001%         |\n",
      "| Books                    |       257793      |        15.1130%        |\n",
      "| Camera                   |        6427       |        0.3768%         |\n",
      "| Digital_Ebook_Purchase   |       289111      |        16.9491%        |\n",
      "| Digital_Music_Purchase   |       29263       |        1.7155%         |\n",
      "| Digital_Video_Download   |       31420       |        1.8420%         |\n",
      "| Electronics              |        5846       |        0.3427%         |\n",
      "| Health & Personal Care   |        246        |        0.0144%         |\n",
      "| Home                     |        2690       |        0.1577%         |\n",
      "| Home Entertainment       |        117        |        0.0069%         |\n",
      "| Home Improvement         |        950        |        0.0557%         |\n",
      "| Kitchen                  |         21        |        0.0012%         |\n",
      "| Lawn and Garden          |        240        |        0.0141%         |\n",
      "| Luggage                  |         10        |        0.0006%         |\n",
      "| Mobile_Apps              |       218031      |        12.7820%        |\n",
      "| Music                    |       329854      |        19.3376%        |\n",
      "| Musical Instruments      |        2832       |        0.1660%         |\n",
      "| Office Products          |        984        |        0.0577%         |\n",
      "| PC                       |       16258       |        0.9531%         |\n",
      "| Personal_Care_Appliances |        100        |        0.0059%         |\n",
      "| Pet Products             |         43        |        0.0025%         |\n",
      "| Shoes                    |        1718       |        0.1007%         |\n",
      "| Software                 |         77        |        0.0045%         |\n",
      "| Sports                   |        2336       |        0.1369%         |\n",
      "| Toys                     |       24493       |        1.4359%         |\n",
      "| Video                    |        4579       |        0.2684%         |\n",
      "| Video DVD                |       463178      |        27.1537%        |\n",
      "| Video Games              |        3592       |        0.2106%         |\n",
      "| Watches                  |        3101       |        0.1818%         |\n",
      "| Wireless                 |        5593       |        0.3279%         |\n",
      "+--------------------------+-------------------+------------------------+\n"
     ]
    }
   ],
   "source": [
    "t = PT(['Category', 'Number of reviews','% respect to the total'])\n",
    "tot = float(df.count()[0])\n",
    "for c in categories:\n",
    "    count = df[df.product_category==c].count()[0]\n",
    "    t.add_row([c,count,\"%.4f%%\" % (count/tot*100)])\n",
    "t.align[\"Category\"] = 'l'\n",
    "print(\"Number of total reviews = %.0f\" % tot)\n",
    "print(t)"
   ]
  },
  {
   "cell_type": "code",
   "execution_count": 13,
   "metadata": {},
   "outputs": [
    {
     "name": "stdout",
     "output_type": "stream",
     "text": [
      "Number of total reviews = 1705765\n",
      "+-------+-------------------+------------------------+\n",
      "| Stars | Number of reviews | % respect to the total |\n",
      "+-------+-------------------+------------------------+\n",
      "|   1   |       84473       |        4.9522%         |\n",
      "|   2   |       59070       |        3.4630%         |\n",
      "|   3   |       125657      |        7.3666%         |\n",
      "|   4   |       291570      |        17.0932%        |\n",
      "|   5   |      1144995      |        67.1250%        |\n",
      "+-------+-------------------+------------------------+\n"
     ]
    }
   ],
   "source": [
    "t = PT(['Stars', 'Number of reviews','% respect to the total'])\n",
    "for i in range(1,6):\n",
    "    count = df[df.star_rating==i].count()[0]\n",
    "    t.add_row([i,count,\"%.4f%%\" % (count/tot*100)])\n",
    "print(\"Number of total reviews = %.0f\" % tot)\n",
    "print(t)"
   ]
  },
  {
   "cell_type": "markdown",
   "metadata": {},
   "source": [
    "## Words Counts"
   ]
  },
  {
   "cell_type": "markdown",
   "metadata": {},
   "source": [
    "### Categories' table"
   ]
  },
  {
   "cell_type": "code",
   "execution_count": 14,
   "metadata": {},
   "outputs": [
    {
     "name": "stdout",
     "output_type": "stream",
     "text": [
      "Number of words (headline+body) of all reviews = 140292840, without stopwrods =58658385, % deleted = 58.19%\n",
      "+--------------------------+----------+----------------+------------+----------+--------------------+----------------+\n",
      "| Category                 |   Body   | Body-stopwords | % del Body | Headline | Headline-stopwords | % del Headline |\n",
      "+--------------------------+----------+----------------+------------+----------+--------------------+----------------+\n",
      "| Apparel                  |    59    |       25       |  57.6271%  |    5     |         3          |    40.0000%    |\n",
      "| Automotive               |  21114   |      9069      |  57.0475%  |   2015   |        1300        |    35.4839%    |\n",
      "| Baby                     |  247906  |     101372     |  59.1087%  |  17989   |       10776        |    40.0967%    |\n",
      "| Beauty                   |   1026   |      450       |  56.1404%  |    6     |         4          |    33.3333%    |\n",
      "| Books                    | 28753673 |    11604673    |  59.6411%  | 1238433  |       705427       |    43.0387%    |\n",
      "| Camera                   |  510682  |     207691     |  59.3307%  |  28484   |       17380        |    38.9833%    |\n",
      "| Digital_Ebook_Purchase   | 15338604 |    6337738     |  58.6811%  | 1130983  |       683756       |    39.5432%    |\n",
      "| Digital_Music_Purchase   | 1513602  |     618370     |  59.1458%  |  110153  |       68055        |    38.2178%    |\n",
      "| Digital_Video_Download   |  897730  |     389291     |  56.6361%  |  124567  |       79585        |    36.1107%    |\n",
      "| Electronics              |  556793  |     221886     |  60.1493%  |  27178   |       16093        |    40.7867%    |\n",
      "| Health & Personal Care   |  13050   |      5360      |  58.9272%  |   943    |        620         |    34.2524%    |\n",
      "| Home                     |  118894  |     49739      |  58.1653%  |  10568   |        6790        |    35.7494%    |\n",
      "| Home Entertainment       |  13170   |      5284      |  59.8785%  |   658    |        364         |    44.6809%    |\n",
      "| Home Improvement         |  49987   |     20983      |  58.0231%  |   4080   |        2578        |    36.8137%    |\n",
      "| Kitchen                  |   2230   |      876       |  60.7175%  |   101    |         52         |    48.5149%    |\n",
      "| Lawn and Garden          |  19059   |      7765      |  59.2581%  |   1066   |        622         |    41.6510%    |\n",
      "| Luggage                  |   1443   |      513       |  64.4491%  |    52    |         26         |    50.0000%    |\n",
      "| Mobile_Apps              | 6405103  |    2719743     |  57.5379%  |  641746  |       427779       |    33.3414%    |\n",
      "| Music                    | 32822673 |    13181695    |  59.8397%  | 1386856  |       821180       |    40.7884%    |\n",
      "| Musical Instruments      |  245023  |     97839      |  60.0695%  |  13269   |        7836        |    40.9451%    |\n",
      "| Office Products          |  56882   |     23435      |  58.8007%  |   4046   |        2485        |    38.5813%    |\n",
      "| PC                       | 1051807  |     421787     |  59.8988%  |  69817   |       42978        |    38.4419%    |\n",
      "| Personal_Care_Appliances |  15706   |      6336      |  59.6587%  |   588    |        356         |    39.4558%    |\n",
      "| Pet Products             |   4353   |      1780      |  59.1087%  |   191    |        118         |    38.2199%    |\n",
      "| Shoes                    |  83185   |     33919      |  59.2246%  |   6680   |        4182        |    37.3952%    |\n",
      "| Software                 |  11059   |      4396      |  60.2496%  |   453    |        257         |    43.2671%    |\n",
      "| Sports                   |  193601  |     77872      |  59.7771%  |  10459   |        6245        |    40.2907%    |\n",
      "| Toys                     | 1077388  |     448095     |  58.4091%  |  93982   |       61503        |    34.5587%    |\n",
      "| Video                    |  744380  |     313263     |  57.9163%  |  25416   |       13413        |    47.2262%    |\n",
      "| Video DVD                | 41665945 |    17203674    |  58.7105%  | 1897689  |      1146111       |    39.6049%    |\n",
      "| Video Games              |  376342  |     149060     |  60.3924%  |  16507   |        9454        |    42.7273%    |\n",
      "| Watches                  |  199105  |     80523      |  59.5575%  |  13385   |        8436        |    36.9742%    |\n",
      "| Wireless                 |  377832  |     153124     |  59.4730%  |  25069   |       14995        |    40.1851%    |\n",
      "+--------------------------+----------+----------------+------------+----------+--------------------+----------------+\n"
     ]
    }
   ],
   "source": [
    "t = PT(['Category', 'Body','Body-stopwords','% del Body', 'Headline', 'Headline-stopwords','% del Headline'])\n",
    "tot = 0\n",
    "for c in categories:\n",
    "    body_tot = len(nltk.word_tokenize(\" \".join(df[df.product_category==c].review_body.tolist())))\n",
    "    body_stop = len(categories_reviews[c])\n",
    "    head_tot = len(nltk.word_tokenize(\" \".join(df[df.product_category==c].review_headline.tolist())))\n",
    "    head_stop = len(categories_reviews_headlines[c])\n",
    "    t.add_row([c,\n",
    "               body_tot,\n",
    "               body_stop,\n",
    "               \"%.4f%%\" % ((body_tot-body_stop)/float(body_tot)*100),\n",
    "               head_tot,\n",
    "               head_stop,\n",
    "               \"%.4f%%\" % ((head_tot-head_stop)/float(head_tot)*100),\n",
    "              ])\n",
    "    tot+=body_tot+head_tot\n",
    "print(\"Number of words (headline+body) of all reviews = %d, without stopwrods =%d, %% deleted = %.2f%%\" % (tot,len(all_reviews_without_stopwords),(tot-len(all_reviews_without_stopwords))/float(tot)*100))\n",
    "t.align[\"Category\"] = 'l'\n",
    "print(t)"
   ]
  },
  {
   "cell_type": "markdown",
   "metadata": {},
   "source": [
    "### Rating stars' table"
   ]
  },
  {
   "cell_type": "code",
   "execution_count": 15,
   "metadata": {},
   "outputs": [
    {
     "name": "stdout",
     "output_type": "stream",
     "text": [
      "Number of words (headline+body) of all reviews = 140292840, without stopwrods =58658385, % deleted = 58.19%\n",
      "+----------+----------+----------------+------------+----------+--------------------+----------------+\n",
      "|  Stars   |   Body   | Body-stopwords | % del Body | Headline | Headline-stopwords | % del Headline |\n",
      "+----------+----------+----------------+------------+----------+--------------------+----------------+\n",
      "| Wireless | 7880943  |    3133815     |  0.0000%   |  390427  |       208001       |    0.0000%     |\n",
      "| Wireless | 7246807  |    2890271     |  0.0000%   |  281983  |       148593       |    0.0000%     |\n",
      "| Wireless | 13803739 |    5534045     |  0.0000%   |  588380  |       322719       |    0.0000%     |\n",
      "| Wireless | 28094095 |    11462101    |  0.0000%   | 1235007  |       745856       |    0.0000%     |\n",
      "| Wireless | 76363904 |    31477394    |  0.0000%   | 4407614  |      2735590       |    0.0000%     |\n",
      "+----------+----------+----------------+------------+----------+--------------------+----------------+\n"
     ]
    }
   ],
   "source": [
    "t = PT(['Stars', 'Body','Body-stopwords','% del Body', 'Headline', 'Headline-stopwords','% del Headline'])\n",
    "for i in range(1,6):\n",
    "    body_tot = len(nltk.word_tokenize(\" \".join(df[df.star_rating==i].review_body.tolist())))\n",
    "    body_stop = len(stars_body[i])\n",
    "    head_tot = len(nltk.word_tokenize(\" \".join(df[df.star_rating==i].review_headline.tolist())))\n",
    "    head_stop = len(stars_head[i])\n",
    "    t.add_row([c,\n",
    "               body_tot,\n",
    "               body_stop,\n",
    "               \"%.4f%%\" % ((body_tot-body_stop)/body_tot*100),\n",
    "               head_tot,\n",
    "               head_stop,\n",
    "               \"%.4f%%\" % ((head_tot-head_stop)/head_tot*100),\n",
    "              ])\n",
    "print(\"Number of words (headline+body) of all reviews = %d, without stopwrods =%d, %% deleted = %.2f%%\" % (tot,len(all_reviews_without_stopwords),(tot-len(all_reviews_without_stopwords))/float(tot)*100))\n",
    "print(t)"
   ]
  },
  {
   "cell_type": "markdown",
   "metadata": {},
   "source": [
    "### Categories' graphs"
   ]
  },
  {
   "cell_type": "code",
   "execution_count": 16,
   "metadata": {
    "collapsed": true
   },
   "outputs": [],
   "source": [
    "def plotFreq(list_words,subplot_column,title):\n",
    "    fr = nltk.FreqDist(list_words)\n",
    "    plt.subplot(1, 2, subplot_column)\n",
    "    plt.rcParams[\"figure.figsize\"] = (8, 16)\n",
    "    plt.title(title, fontsize = 15)\n",
    "    fr.plot(30)"
   ]
  },
  {
   "cell_type": "code",
   "execution_count": 17,
   "metadata": {},
   "outputs": [
    {
     "data": {
      "image/png": "[encoded data removed]",
      "text/plain": [
       "<Figure size 432x288 with 1 Axes>"
      ]
     },
     "metadata": {},
     "output_type": "display_data"
    },
    {
     "data": {
      "image/png": "[encoded data removed]",
      "text/plain": [
       "<Figure size 576x1152 with 1 Axes>"
      ]
     },
     "metadata": {},
     "output_type": "display_data"
    }
   ],
   "source": [
    "for c in categories:\n",
    "    plotFreq(categories_reviews[c],1,\"%s body\" % c)\n",
    "    plotFreq(categories_reviews_headlines[c],2,\"%s headline\" % c)\n",
    "    plt.show()\n",
    "    break"
   ]
  },
  {
   "cell_type": "code",
   "execution_count": 19,
   "metadata": {},
   "outputs": [
    {
     "data": {
      "image/png": "[encoded data removed]",
      "text/plain": [
       "<Figure size 576x1152 with 1 Axes>"
      ]
     },
     "metadata": {},
     "output_type": "display_data"
    },
    {
     "data": {
      "image/png": "[encoded data removed]",
      "text/plain": [
       "<Figure size 576x1152 with 1 Axes>"
      ]
     },
     "metadata": {},
     "output_type": "display_data"
    }
   ],
   "source": [
    "for i in range(1,6):\n",
    "    plotFreq(stars_body[i],1,\"%s/5 stars body\" % c)\n",
    "    plotFreq(stars_head[i],2,\"%s/5 stars headline\" % c)\n",
    "    plt.show()\n",
    "    break"
   ]
  },
  {
   "cell_type": "markdown",
   "metadata": {},
   "source": [
    "### Lexical diversity"
   ]
  },
  {
   "cell_type": "code",
   "execution_count": 20,
   "metadata": {
    "collapsed": true
   },
   "outputs": [],
   "source": [
    "def lexical_diversity(text):\n",
    "    return len(text)/len(set(text))"
   ]
  },
  {
   "cell_type": "code",
   "execution_count": 21,
   "metadata": {},
   "outputs": [
    {
     "name": "stdout",
     "output_type": "stream",
     "text": [
      "+--------------------------+------+----------+\n",
      "| Category                 | Body | Headline |\n",
      "+--------------------------+------+----------+\n",
      "| Apparel                  |  1   |    1     |\n",
      "| Automotive               |  4   |    3     |\n",
      "| Baby                     |  14  |    6     |\n",
      "| Beauty                   |  1   |    1     |\n",
      "| Books                    |  93  |    25    |\n",
      "| Camera                   |  17  |    7     |\n",
      "| Digital_Ebook_Purchase   |  86  |    32    |\n",
      "| Digital_Music_Purchase   |  22  |    9     |\n",
      "| Digital_Video_Download   |  17  |    11    |\n",
      "| Electronics              |  16  |    6     |\n",
      "| Health & Personal Care   |  3   |    2     |\n",
      "| Home                     |  7   |    4     |\n",
      "| Home Entertainment       |  2   |    1     |\n",
      "| Home Improvement         |  5   |    3     |\n",
      "| Kitchen                  |  1   |    1     |\n",
      "| Lawn and Garden          |  2   |    1     |\n",
      "| Luggage                  |  1   |    1     |\n",
      "| Mobile_Apps              |  64  |    25    |\n",
      "| Music                    |  95  |    28    |\n",
      "| Musical Instruments      |  11  |    4     |\n",
      "| Office Products          |  5   |    3     |\n",
      "| PC                       |  25  |    10    |\n",
      "| Personal_Care_Appliances |  3   |    1     |\n",
      "| Pet Products             |  2   |    1     |\n",
      "| Shoes                    |  8   |    4     |\n",
      "| Software                 |  2   |    1     |\n",
      "| Sports                   |  9   |    4     |\n",
      "| Toys                     |  24  |    12    |\n",
      "| Video                    |  11  |    3     |\n",
      "| Video DVD                | 105  |    33    |\n",
      "| Video Games              |  12  |    4     |\n",
      "| Watches                  |  11  |    6     |\n",
      "| Wireless                 |  14  |    6     |\n",
      "+--------------------------+------+----------+\n"
     ]
    }
   ],
   "source": [
    "t = PT(['Category', 'Body', 'Headline'])\n",
    "for c in categories:\n",
    "    t.add_row([c,lexical_diversity(categories_reviews[c]),lexical_diversity(categories_reviews_headlines[c])])\n",
    "t.align[\"Category\"] = 'l'\n",
    "print(t)"
   ]
  },
  {
   "cell_type": "markdown",
   "metadata": {},
   "source": [
    "## Collocations"
   ]
  },
  {
   "cell_type": "code",
   "execution_count": 22,
   "metadata": {},
   "outputs": [
    {
     "ename": "NameError",
     "evalue": "name 'join' is not defined",
     "output_type": "error",
     "traceback": [
      "\u001b[1;31m---------------------------------------------------------------------------\u001b[0m",
      "\u001b[1;31mNameError\u001b[0m                                 Traceback (most recent call last)",
      "\u001b[1;32m<ipython-input-22-729ff18852e6>\u001b[0m in \u001b[0;36m<module>\u001b[1;34m()\u001b[0m\n\u001b[0;32m      3\u001b[0m \u001b[0mfinder2\u001b[0m\u001b[1;33m.\u001b[0m\u001b[0mapply_freq_filter\u001b[0m\u001b[1;33m(\u001b[0m\u001b[1;36m3\u001b[0m\u001b[1;33m)\u001b[0m \u001b[1;31m##ignoring all bigrams which occur less than three times in the corpus\u001b[0m\u001b[1;33m\u001b[0m\u001b[0m\n\u001b[0;32m      4\u001b[0m \u001b[0mres2\u001b[0m \u001b[1;33m=\u001b[0m \u001b[0mfinder2\u001b[0m\u001b[1;33m.\u001b[0m\u001b[0mnbest\u001b[0m\u001b[1;33m(\u001b[0m\u001b[0mbigram_measures\u001b[0m\u001b[1;33m.\u001b[0m\u001b[0mpmi\u001b[0m\u001b[1;33m,\u001b[0m \u001b[1;36m10\u001b[0m\u001b[1;33m)\u001b[0m\u001b[1;33m\u001b[0m\u001b[0m\n\u001b[1;32m----> 5\u001b[1;33m \u001b[1;32mprint\u001b[0m\u001b[1;33m(\u001b[0m\u001b[1;34m\"TOP BIGRAMS: %s\"\u001b[0m \u001b[1;33m%\u001b[0m \u001b[1;34m\", \"\u001b[0m\u001b[1;33m,\u001b[0m\u001b[0mjoin\u001b[0m\u001b[1;33m(\u001b[0m\u001b[1;33m[\u001b[0m\u001b[1;34m\" \"\u001b[0m\u001b[1;33m.\u001b[0m\u001b[0mjoin\u001b[0m\u001b[1;33m(\u001b[0m\u001b[0mr\u001b[0m\u001b[1;33m)\u001b[0m \u001b[1;32mfor\u001b[0m \u001b[0mr\u001b[0m \u001b[1;32min\u001b[0m \u001b[0mres2\u001b[0m\u001b[1;33m]\u001b[0m\u001b[1;33m)\u001b[0m\u001b[1;33m)\u001b[0m\u001b[1;33m\u001b[0m\u001b[0m\n\u001b[0m",
      "\u001b[1;31mNameError\u001b[0m: name 'join' is not defined"
     ]
    }
   ],
   "source": [
    "bigram_measures = nltk.collocations.BigramAssocMeasures()\n",
    "finder2 = BigramCollocationFinder.from_words(all_reviews_without_stopwords)\n",
    "finder2.apply_freq_filter(3) ##ignoring all bigrams which occur less than three times in the corpus\n",
    "res2 = finder2.nbest(bigram_measures.pmi, 10)\n",
    "print(\"TOP BIGRAMS: %s\" % \", \",join([\" \".join(r) for r in res2]))"
   ]
  },
  {
   "cell_type": "code",
   "execution_count": null,
   "metadata": {
    "collapsed": true
   },
   "outputs": [],
   "source": [
    "trigram_measures = nltk.collocations.TrigramAssocMeasures()\n",
    "finder3 = TrigramCollocationFinder.from_words(all_reviews_without_stopwords)\n",
    "finder3.apply_freq_filter(3) ##ignoring all trigrams which occur less than three times in the corpus\n",
    "res3 = finder3.nbest(trigram_measures.pmi, 10)\n",
    "print(\"TOP TRIGRAMS: %s\" % \", \",join([\" \".join(r) for r in res3]))"
   ]
  },
  {
   "cell_type": "code",
   "execution_count": null,
   "metadata": {
    "collapsed": true
   },
   "outputs": [],
   "source": [
    "t = PT(['Category (body+headline)', '1st', '2nd', '3rd','4th'])\n",
    "for c in categories:\n",
    "    finder = BigramCollocationFinder.from_words(categories_reviews[c]+categories_reviews_headlines[c])\n",
    "    finder.apply_freq_filter(3) ##ignoring all bigrams which occur less than three times in the corpus\n",
    "    res = finder.nbest(bigram_measures.pmi, 4)\n",
    "    for _ in range(4 - len(res)): res.append(\"\")\n",
    "    res = [\" \".join(r) for r in res]\n",
    "    t.add_row([c,res[0],res[1],res[2],res[3]])\n",
    "t.align[\"Category\"] = 'l'\n",
    "print(t)"
   ]
  },
  {
   "cell_type": "code",
   "execution_count": null,
   "metadata": {
    "collapsed": true
   },
   "outputs": [],
   "source": [
    "t = PT(['Category (body+headline)', '1st', '2nd', '3rd'])\n",
    "for c in categories:\n",
    "    finder3 = TrigramCollocationFinder.from_words(categories_reviews[c])\n",
    "    finder3.apply_freq_filter(3) ##ignoring all trigrams which occur less than three times in the corpus\n",
    "    res = finder3.nbest(trigram_measures.pmi, 3)\n",
    "    for _ in range(3 - len(res)): res.append(\"\")\n",
    "    res = [\" \".join(r) for r in res]\n",
    "    t.add_row([c,res[0],res[1],res[2]])\n",
    "t.align[\"Category\"] = 'l'\n",
    "print(t)"
   ]
  },
  {
   "cell_type": "markdown",
   "metadata": {},
   "source": [
    "# Words"
   ]
  },
  {
   "cell_type": "markdown",
   "metadata": {},
   "source": [
    "# Common words vs TF_IDF"
   ]
  },
  {
   "cell_type": "markdown",
   "metadata": {},
   "source": [
    "### Calculations of most common words "
   ]
  },
  {
   "cell_type": "markdown",
   "metadata": {},
   "source": [
    "Draw wordlcloud taking into account all the categories (body+headline)"
   ]
  },
  {
   "cell_type": "code",
   "execution_count": null,
   "metadata": {},
   "outputs": [],
   "source": [
    "freq = nltk.FreqDist(all_reviews_without_stopwords)\n",
    "make_word_cloud({v:k for v,k in freq.most_common(300)}, max_words = n, title = \"Most common word taking into account all categories together\", mask_path = \"ImagesWordClouds/amazon.jpg\")\n",
    "plt.show()"
   ]
  },
  {
   "cell_type": "markdown",
   "metadata": {},
   "source": [
    "### Calculation of most important words based on the TF-IDF for each category"
   ]
  },
  {
   "cell_type": "code",
   "execution_count": null,
   "metadata": {
    "collapsed": true
   },
   "outputs": [],
   "source": [
    "def tfIdf(fdistList):\n",
    "    N_DOCUMENTS = len(fdistList)\n",
    "    print(\"Total number of documents = %d\" % N_DOCUMENTS)\n",
    "    vocab = set()\n",
    "    print(\"I'm creating the dictionary\")\n",
    "    for fdist in fdistList.values():\n",
    "        vocab = vocab.union(set(fdist.keys()))#all words presents in all the documents\n",
    "    idf = dict()\n",
    "    print(\"I'm calculating the IDF\")\n",
    "    for word in vocab:\n",
    "        count = 0.0\n",
    "        for fdist in fdistList.values():\n",
    "            if(word in fdist):\n",
    "                count+=1\n",
    "        idf[word] = math.log(N_DOCUMENTS/count)\n",
    "    listTfIdf = dict()\n",
    "    print(\"I'm calculating the tf-idf\")\n",
    "    i = 0\n",
    "    for title, fdist in fdistList.items():\n",
    "        listTfIdf[title] = dict()\n",
    "        n_token_document = float(sum(fdist.values()))\n",
    "        for word in fdist:\n",
    "            listTfIdf[title][word] = fdist[word] * idf[word] /  n_token_document\n",
    "        i+=1\n",
    "    print(\"I have finished\")\n",
    "    return listTfIdf"
   ]
  },
  {
   "cell_type": "code",
   "execution_count": null,
   "metadata": {},
   "outputs": [],
   "source": [
    "listTfIdf_categories = tfIdf(freq_dist_categories)"
   ]
  },
  {
   "cell_type": "markdown",
   "metadata": {},
   "source": [
    "### Differences between Most common and TF-IDF words"
   ]
  },
  {
   "cell_type": "markdown",
   "metadata": {},
   "source": [
    "word_cloud function"
   ]
  },
  {
   "cell_type": "code",
   "execution_count": null,
   "metadata": {
    "collapsed": true
   },
   "outputs": [],
   "source": [
    "#Function to draw the wordcloud\n",
    "def make_word_cloud(dictWords, mask_path=None, background_color = \"white\", max_words = 2000, title = \"\", mux = 1, subplots_params = (1,1,1)):\n",
    "    if(max_words>len(dictWords)):\n",
    "        max_words = len(dictWords)\n",
    "    topK = sorted(dictWords.iteritems(), key = lambda (k, v): (v, k), reverse = True)[:max_words]\n",
    "    text =[] \n",
    "    for word, value in topK:\n",
    "        text+=[word]*int(round(value*mux))\n",
    "    text = \" \".join(text)\n",
    "    if(mask_path!=None):\n",
    "        # read the mask image\n",
    "        mask = np.array(Image.open(mask_path))\n",
    "        wc = WordCloud(background_color = background_color, max_words = max_words,  mask = mask, stopwords = None, collocations = False, max_font_size = 120)\n",
    "        \n",
    "    else:\n",
    "        wc = WordCloud(background_color = background_color, max_words = max_words, stopwords = None, collocations = False, max_font_size = 120)\n",
    "    # generate word cloud\n",
    "    wc.generate(text)\n",
    "    if(mask_path!=None):\n",
    "        wc.recolor(color_func=ImageColorGenerator(mask))\n",
    "    # store to file\n",
    "    plt.subplot(subplots_params[0], subplots_params[1], subplots_params[2])\n",
    "    plt.rcParams[\"figure.figsize\"] = (15, 10)\n",
    "    plt.title(title, fontsize = 15)\n",
    "    plt.imshow(wc, interpolation = 'bilinear')\n",
    "    plt.axis(\"off\")"
   ]
  },
  {
   "cell_type": "markdown",
   "metadata": {},
   "source": [
    "Print the differences between them"
   ]
  },
  {
   "cell_type": "code",
   "execution_count": null,
   "metadata": {},
   "outputs": [],
   "source": [
    "mux = len(all_reviews_without_stopwords) #This will multiply the tf-idf to make them bigger than 0., otherwise is not possible to create the text for the wordcloud.\n",
    "n = 300\n",
    "for c in categories:\n",
    "    make_word_cloud({v:k for v,k in freq_dist_categories[c].most_common(n)}, max_words = n, title = \"Most common words in %s\" % c, mask_path = \"ImagesWordClouds/%s.jpg\" % c,subplots_params=(1,2,1))\n",
    "    make_word_cloud(listTfIdf_categories[c], max_words = n, title = \"TF-IDF words in %s\" % c, mux = mux, mask_path = \"ImagesWordClouds/%s.jpg\" % c, subplots_params=(1,2,2))\n",
    "    fig = plt.figure()\n",
    "    fig.subplots_adjust(hspace=0.4, wspace=0.4)\n",
    "    plt.show()"
   ]
  },
  {
   "cell_type": "markdown",
   "metadata": {},
   "source": [
    "## TF-IDF body vs TF-IDF headline"
   ]
  },
  {
   "cell_type": "code",
   "execution_count": null,
   "metadata": {},
   "outputs": [],
   "source": [
    "freq_dist_categories_headlines = dict()\n",
    "for c in pyprind.prog_bar(categories):\n",
    "    freq_dist_categories_headlines[c] = nltk.FreqDist(categories_reviews_headlines[c])"
   ]
  },
  {
   "cell_type": "code",
   "execution_count": null,
   "metadata": {},
   "outputs": [],
   "source": [
    "listTfIdf_headlines = tfIdf(freq_dist_categories_headlines)"
   ]
  },
  {
   "cell_type": "code",
   "execution_count": null,
   "metadata": {},
   "outputs": [],
   "source": [
    "mux = len(all_reviews_without_stopwords) #This will multiply the tf-idf to make them bigger than 0., otherwise is not possible to create the text for the wordcloud.\n",
    "n = 300\n",
    "for c in categories:\n",
    "    make_word_cloud(listTfIdf_categories[c], max_words = n, title = \"TF-IDF body in %s\" % c, mux = mux, mask_path = \"ImagesWordClouds/%s.jpg\" % c, subplots_params=(1,2,1))\n",
    "    make_word_cloud(listTfIdf_headlines[c], max_words = n, title = \"TF-IDF headlline in %s\" % c, mux = mux, mask_path = \"ImagesWordClouds/%s.jpg\" % c, subplots_params=(1,2,2))\n",
    "    fig = plt.figure()\n",
    "    fig.subplots_adjust(hspace=0.4, wspace=0.4)\n",
    "    plt.show()"
   ]
  },
  {
   "cell_type": "markdown",
   "metadata": {},
   "source": [
    "## Words based on the star_rating"
   ]
  },
  {
   "cell_type": "markdown",
   "metadata": {},
   "source": [
    "We expect to find words which has a sentiment value based on the star rating. For example, for the reviews of 1 start, we expect to find: \"bad, worst..\". Moreover, we forcast to have better more interesting results using the most common words approach compare to the tf-idf."
   ]
  },
  {
   "cell_type": "markdown",
   "metadata": {},
   "source": [
    "### Looking at the reviews' body"
   ]
  },
  {
   "cell_type": "code",
   "execution_count": null,
   "metadata": {
    "collapsed": true
   },
   "outputs": [],
   "source": [
    "freq_dist_stars_body = dict()\n",
    "for i in range(1,6):\n",
    "    freq_dist_stars_body[i] = nltk.FreqDist(stars_body[i])"
   ]
  },
  {
   "cell_type": "code",
   "execution_count": null,
   "metadata": {},
   "outputs": [],
   "source": [
    "listTfIdf_stars_body = tfIdf(freq_dist_stars_body)"
   ]
  },
  {
   "cell_type": "code",
   "execution_count": null,
   "metadata": {},
   "outputs": [],
   "source": [
    "mux = len(all_reviews_without_stopwords) \n",
    "n = 200\n",
    "for i in range(1,6):\n",
    "    make_word_cloud(listTfIdf_stars_body[i], max_words = n, title = \"TF-IDF body in %d /5 stars\" % i, mux = mux, mask_path = \"ImagesWordClouds/%dstars.jpg\" % i)\n",
    "    plt.show()"
   ]
  },
  {
   "cell_type": "code",
   "execution_count": null,
   "metadata": {},
   "outputs": [],
   "source": [
    "n = 200\n",
    "for i in range(1,6):\n",
    "    make_word_cloud({v:k for v,k in freq_dist_stars_body[i].most_common(n)}, max_words = n, title = \"Most common words body in %d /5 stars\" % i, mask_path = \"ImagesWordClouds/%dstars.jpg\" % i)\n",
    "    plt.show()"
   ]
  },
  {
   "cell_type": "markdown",
   "metadata": {},
   "source": [
    "### Looking at the reviews' headline"
   ]
  },
  {
   "cell_type": "code",
   "execution_count": null,
   "metadata": {
    "collapsed": true
   },
   "outputs": [],
   "source": [
    "freq_dist_stars_head = dict()\n",
    "for i in range(1,6):\n",
    "    freq_dist_stars_head[i] = nltk.FreqDist(stars_head[i])"
   ]
  },
  {
   "cell_type": "code",
   "execution_count": null,
   "metadata": {},
   "outputs": [],
   "source": [
    "listTfIdf_stars_head = tfIdf(freq_dist_stars_head)"
   ]
  },
  {
   "cell_type": "code",
   "execution_count": null,
   "metadata": {},
   "outputs": [],
   "source": [
    "mux = len(all_reviews_without_stopwords) \n",
    "n = 200\n",
    "for i in range(1,6):\n",
    "    make_word_cloud(listTfIdf_stars_head[i], max_words = n, title = \"TF-IDF headline in %d /5 stars\" % i, mux = mux, mask_path = \"ImagesWordClouds/%dstars.jpg\" % i)\n",
    "    plt.show()"
   ]
  },
  {
   "cell_type": "code",
   "execution_count": null,
   "metadata": {},
   "outputs": [],
   "source": [
    "n = 200\n",
    "for i in range(1,6):\n",
    "    make_word_cloud({v:k for v,k in freq_dist_stars_head[i].most_common(n)}, max_words = n, title = \"Most common words headline in %d /5 stars\" % i, mask_path = \"ImagesWordClouds/%dstars.jpg\" % i)\n",
    "    plt.show()"
   ]
  },
  {
   "cell_type": "markdown",
   "metadata": {},
   "source": [
    "### Conclusions"
   ]
  },
  {
   "cell_type": "markdown",
   "metadata": {},
   "source": [
    "It seems it is far better to look at the headline to catch the \"sentiment\" of the reviews."
   ]
  },
  {
   "cell_type": "markdown",
   "metadata": {},
   "source": [
    "# Sentiment analysis"
   ]
  }
 ],
 "metadata": {
  "kernelspec": {
   "display_name": "Python 2",
   "language": "python",
   "name": "python2"
  },
  "language_info": {
   "codemirror_mode": {
    "name": "ipython",
    "version": 2
   },
   "file_extension": ".py",
   "mimetype": "text/x-python",
   "name": "python",
   "nbconvert_exporter": "python",
   "pygments_lexer": "ipython2",
   "version": "2.7.13"
  }
 },
 "nbformat": 4,
 "nbformat_minor": 2
}
